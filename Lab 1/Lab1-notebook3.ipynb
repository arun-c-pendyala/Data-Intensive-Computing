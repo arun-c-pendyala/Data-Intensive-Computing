{
 "cells": [
  {
   "cell_type": "code",
   "execution_count": null,
   "metadata": {
    "collapsed": true
   },
   "outputs": [],
   "source": [
    "#******************PROBLEM 2****************************\n",
    "#<-----------------PART-1- GET TRENDS------------------->\n",
    "#<-----------------PART-2- GENERALIZED CASE (with search variable for any location using closest trends function)------------>"
   ]
  },
  {
   "cell_type": "code",
   "execution_count": 2,
   "metadata": {
    "collapsed": false
   },
   "outputs": [
    {
     "name": "stdout",
     "output_type": "stream",
     "text": [
      "[1] \"Using direct authentication\"\n"
     ]
    }
   ],
   "source": [
    "#<-----------------PART-1- GET TRENDS------------------->\n",
    "library(twitteR)\n",
    "setup_twitter_oauth(\"AhfTjxlw3bMAJSx5LOzM0CfqT\", \"aixmj9xYpO3bLeTgcSuhLJLGZGchpkQYo6i8j85zejPKLLaXAj\", \"847585052-7ujhP4Gk68ybAxQUZ8UGuz3IZsxYwD7ihG9xbq0f\", \"pF4PXgUv1D6Gwl8ZDHN2UGv6TsJRY7a1YI3XkabDRIzlp\")\n",
    "avail_trends = availableTrendLocations()"
   ]
  },
  {
   "cell_type": "code",
   "execution_count": 3,
   "metadata": {
    "collapsed": false
   },
   "outputs": [
    {
     "data": {
      "text/html": [
       "<table>\n",
       "<thead><tr><th scope=col>name</th><th scope=col>country</th><th scope=col>woeid</th></tr></thead>\n",
       "<tbody>\n",
       "\t<tr><td>Worldwide</td><td>         </td><td>1        </td></tr>\n",
       "\t<tr><td>Winnipeg </td><td>Canada   </td><td>2972     </td></tr>\n",
       "\t<tr><td>Ottawa   </td><td>Canada   </td><td>3369     </td></tr>\n",
       "\t<tr><td>Quebec   </td><td>Canada   </td><td>3444     </td></tr>\n",
       "\t<tr><td>Montreal </td><td>Canada   </td><td>3534     </td></tr>\n",
       "\t<tr><td>Toronto  </td><td>Canada   </td><td>4118     </td></tr>\n",
       "</tbody>\n",
       "</table>\n"
      ],
      "text/latex": [
       "\\begin{tabular}{r|lll}\n",
       " name & country & woeid\\\\\n",
       "\\hline\n",
       "\t Worldwide &           & 1        \\\\\n",
       "\t Winnipeg  & Canada    & 2972     \\\\\n",
       "\t Ottawa    & Canada    & 3369     \\\\\n",
       "\t Quebec    & Canada    & 3444     \\\\\n",
       "\t Montreal  & Canada    & 3534     \\\\\n",
       "\t Toronto   & Canada    & 4118     \\\\\n",
       "\\end{tabular}\n"
      ],
      "text/markdown": [
       "\n",
       "name | country | woeid | \n",
       "|---|---|---|---|---|---|\n",
       "| Worldwide |           | 1         | \n",
       "| Winnipeg  | Canada    | 2972      | \n",
       "| Ottawa    | Canada    | 3369      | \n",
       "| Quebec    | Canada    | 3444      | \n",
       "| Montreal  | Canada    | 3534      | \n",
       "| Toronto   | Canada    | 4118      | \n",
       "\n",
       "\n"
      ],
      "text/plain": [
       "  name      country woeid\n",
       "1 Worldwide         1    \n",
       "2 Winnipeg  Canada  2972 \n",
       "3 Ottawa    Canada  3369 \n",
       "4 Quebec    Canada  3444 \n",
       "5 Montreal  Canada  3534 \n",
       "6 Toronto   Canada  4118 "
      ]
     },
     "metadata": {},
     "output_type": "display_data"
    }
   ],
   "source": [
    "head(avail_trends)"
   ]
  },
  {
   "cell_type": "code",
   "execution_count": 4,
   "metadata": {
    "collapsed": false
   },
   "outputs": [],
   "source": [
    "location = \"Toronto\"\n",
    "x <- avail_trends[avail_trends$name == location ,] #http://stackoverflow.com/questions/30300173/finding-corresponding-records-of-a-specific-value-in-a-data-frame-in-r"
   ]
  },
  {
   "cell_type": "code",
   "execution_count": 5,
   "metadata": {
    "collapsed": false
   },
   "outputs": [
    {
     "data": {
      "text/html": [
       "'4118'"
      ],
      "text/latex": [
       "'4118'"
      ],
      "text/markdown": [
       "'4118'"
      ],
      "text/plain": [
       "[1] \"4118\""
      ]
     },
     "metadata": {},
     "output_type": "display_data"
    }
   ],
   "source": [
    "x$woeid"
   ]
  },
  {
   "cell_type": "code",
   "execution_count": 6,
   "metadata": {
    "collapsed": false
   },
   "outputs": [],
   "source": [
    "trends = getTrends(x$woeid)"
   ]
  },
  {
   "cell_type": "code",
   "execution_count": 7,
   "metadata": {
    "collapsed": false,
    "scrolled": true
   },
   "outputs": [],
   "source": [
    "top10 <- head(trends,10)"
   ]
  },
  {
   "cell_type": "code",
   "execution_count": 8,
   "metadata": {
    "collapsed": false
   },
   "outputs": [
    {
     "data": {
      "text/html": [
       "<table>\n",
       "<thead><tr><th scope=col>name</th><th scope=col>url</th><th scope=col>query</th><th scope=col>woeid</th></tr></thead>\n",
       "<tbody>\n",
       "\t<tr><td>#FridayFeeling                                        </td><td>http://twitter.com/search?q=%23FridayFeeling          </td><td>%23FridayFeeling                                      </td><td>4118                                                  </td></tr>\n",
       "\t<tr><td>#RandomActsOfKindnessDay                              </td><td>http://twitter.com/search?q=%23RandomActsOfKindnessDay</td><td>%23RandomActsOfKindnessDay                            </td><td>4118                                                  </td></tr>\n",
       "\t<tr><td>Etobicoke                                             </td><td>http://twitter.com/search?q=Etobicoke                 </td><td>Etobicoke                                             </td><td>4118                                                  </td></tr>\n",
       "\t<tr><td>PMJT                                                  </td><td>http://twitter.com/search?q=PMJT                      </td><td>PMJT                                                  </td><td>4118                                                  </td></tr>\n",
       "\t<tr><td>#YAW2017                                              </td><td>http://twitter.com/search?q=%23YAW2017                </td><td>%23YAW2017                                            </td><td>4118                                                  </td></tr>\n",
       "\t<tr><td>#TrumpPresser                                         </td><td>http://twitter.com/search?q=%23TrumpPresser           </td><td>%23TrumpPresser                                       </td><td>4118                                                  </td></tr>\n",
       "\t<tr><td>#CdnAgDay                                             </td><td>http://twitter.com/search?q=%23CdnAgDay               </td><td>%23CdnAgDay                                           </td><td>4118                                                  </td></tr>\n",
       "\t<tr><td>Sidney Crosby                                         </td><td>http://twitter.com/search?q=%22Sidney+Crosby%22       </td><td>%22Sidney+Crosby%22                                   </td><td>4118                                                  </td></tr>\n",
       "\t<tr><td>Stuart McLean                                         </td><td>http://twitter.com/search?q=%22Stuart+McLean%22       </td><td>%22Stuart+McLean%22                                   </td><td>4118                                                  </td></tr>\n",
       "\t<tr><td>NATO                                                  </td><td>http://twitter.com/search?q=NATO                      </td><td>NATO                                                  </td><td>4118                                                  </td></tr>\n",
       "</tbody>\n",
       "</table>\n"
      ],
      "text/latex": [
       "\\begin{tabular}{r|llll}\n",
       " name & url & query & woeid\\\\\n",
       "\\hline\n",
       "\t \\#FridayFeeling                                         & http://twitter.com/search?q=\\%23FridayFeeling           & \\%23FridayFeeling                                       & 4118                                                    \\\\\n",
       "\t \\#RandomActsOfKindnessDay                               & http://twitter.com/search?q=\\%23RandomActsOfKindnessDay & \\%23RandomActsOfKindnessDay                             & 4118                                                    \\\\\n",
       "\t Etobicoke                                              & http://twitter.com/search?q=Etobicoke                  & Etobicoke                                              & 4118                                                  \\\\\n",
       "\t PMJT                                                   & http://twitter.com/search?q=PMJT                       & PMJT                                                   & 4118                                                  \\\\\n",
       "\t \\#YAW2017                                               & http://twitter.com/search?q=\\%23YAW2017                 & \\%23YAW2017                                             & 4118                                                    \\\\\n",
       "\t \\#TrumpPresser                                          & http://twitter.com/search?q=\\%23TrumpPresser            & \\%23TrumpPresser                                        & 4118                                                    \\\\\n",
       "\t \\#CdnAgDay                                              & http://twitter.com/search?q=\\%23CdnAgDay                & \\%23CdnAgDay                                            & 4118                                                    \\\\\n",
       "\t Sidney Crosby                                              & http://twitter.com/search?q=\\%22Sidney+Crosby\\%22        & \\%22Sidney+Crosby\\%22                                    & 4118                                                      \\\\\n",
       "\t Stuart McLean                                              & http://twitter.com/search?q=\\%22Stuart+McLean\\%22        & \\%22Stuart+McLean\\%22                                    & 4118                                                      \\\\\n",
       "\t NATO                                                   & http://twitter.com/search?q=NATO                       & NATO                                                   & 4118                                                  \\\\\n",
       "\\end{tabular}\n"
      ],
      "text/markdown": [
       "\n",
       "name | url | query | woeid | \n",
       "|---|---|---|---|---|---|---|---|---|---|\n",
       "| #FridayFeeling                                         | http://twitter.com/search?q=%23FridayFeeling           | %23FridayFeeling                                       | 4118                                                   | \n",
       "| #RandomActsOfKindnessDay                               | http://twitter.com/search?q=%23RandomActsOfKindnessDay | %23RandomActsOfKindnessDay                             | 4118                                                   | \n",
       "| Etobicoke                                              | http://twitter.com/search?q=Etobicoke                  | Etobicoke                                              | 4118                                                   | \n",
       "| PMJT                                                   | http://twitter.com/search?q=PMJT                       | PMJT                                                   | 4118                                                   | \n",
       "| #YAW2017                                               | http://twitter.com/search?q=%23YAW2017                 | %23YAW2017                                             | 4118                                                   | \n",
       "| #TrumpPresser                                          | http://twitter.com/search?q=%23TrumpPresser            | %23TrumpPresser                                        | 4118                                                   | \n",
       "| #CdnAgDay                                              | http://twitter.com/search?q=%23CdnAgDay                | %23CdnAgDay                                            | 4118                                                   | \n",
       "| Sidney Crosby                                          | http://twitter.com/search?q=%22Sidney+Crosby%22        | %22Sidney+Crosby%22                                    | 4118                                                   | \n",
       "| Stuart McLean                                          | http://twitter.com/search?q=%22Stuart+McLean%22        | %22Stuart+McLean%22                                    | 4118                                                   | \n",
       "| NATO                                                   | http://twitter.com/search?q=NATO                       | NATO                                                   | 4118                                                   | \n",
       "\n",
       "\n"
      ],
      "text/plain": [
       "   name                    \n",
       "1  #FridayFeeling          \n",
       "2  #RandomActsOfKindnessDay\n",
       "3  Etobicoke               \n",
       "4  PMJT                    \n",
       "5  #YAW2017                \n",
       "6  #TrumpPresser           \n",
       "7  #CdnAgDay               \n",
       "8  Sidney Crosby           \n",
       "9  Stuart McLean           \n",
       "10 NATO                    \n",
       "   url                                                   \n",
       "1  http://twitter.com/search?q=%23FridayFeeling          \n",
       "2  http://twitter.com/search?q=%23RandomActsOfKindnessDay\n",
       "3  http://twitter.com/search?q=Etobicoke                 \n",
       "4  http://twitter.com/search?q=PMJT                      \n",
       "5  http://twitter.com/search?q=%23YAW2017                \n",
       "6  http://twitter.com/search?q=%23TrumpPresser           \n",
       "7  http://twitter.com/search?q=%23CdnAgDay               \n",
       "8  http://twitter.com/search?q=%22Sidney+Crosby%22       \n",
       "9  http://twitter.com/search?q=%22Stuart+McLean%22       \n",
       "10 http://twitter.com/search?q=NATO                      \n",
       "   query                      woeid\n",
       "1  %23FridayFeeling           4118 \n",
       "2  %23RandomActsOfKindnessDay 4118 \n",
       "3  Etobicoke                  4118 \n",
       "4  PMJT                       4118 \n",
       "5  %23YAW2017                 4118 \n",
       "6  %23TrumpPresser            4118 \n",
       "7  %23CdnAgDay                4118 \n",
       "8  %22Sidney+Crosby%22        4118 \n",
       "9  %22Stuart+McLean%22        4118 \n",
       "10 NATO                       4118 "
      ]
     },
     "metadata": {},
     "output_type": "display_data"
    }
   ],
   "source": [
    "top10"
   ]
  },
  {
   "cell_type": "code",
   "execution_count": 9,
   "metadata": {
    "collapsed": false
   },
   "outputs": [
    {
     "data": {
      "text/html": [
       "<ol class=list-inline>\n",
       "\t<li>'#FridayFeeling'</li>\n",
       "\t<li>'#RandomActsOfKindnessDay'</li>\n",
       "\t<li>'Etobicoke'</li>\n",
       "\t<li>'PMJT'</li>\n",
       "\t<li>'#YAW2017'</li>\n",
       "\t<li>'#TrumpPresser'</li>\n",
       "\t<li>'#CdnAgDay'</li>\n",
       "\t<li>'Sidney Crosby'</li>\n",
       "\t<li>'Stuart McLean'</li>\n",
       "\t<li>'NATO'</li>\n",
       "</ol>\n"
      ],
      "text/latex": [
       "\\begin{enumerate*}\n",
       "\\item '\\#FridayFeeling'\n",
       "\\item '\\#RandomActsOfKindnessDay'\n",
       "\\item 'Etobicoke'\n",
       "\\item 'PMJT'\n",
       "\\item '\\#YAW2017'\n",
       "\\item '\\#TrumpPresser'\n",
       "\\item '\\#CdnAgDay'\n",
       "\\item 'Sidney Crosby'\n",
       "\\item 'Stuart McLean'\n",
       "\\item 'NATO'\n",
       "\\end{enumerate*}\n"
      ],
      "text/markdown": [
       "1. '#FridayFeeling'\n",
       "2. '#RandomActsOfKindnessDay'\n",
       "3. 'Etobicoke'\n",
       "4. 'PMJT'\n",
       "5. '#YAW2017'\n",
       "6. '#TrumpPresser'\n",
       "7. '#CdnAgDay'\n",
       "8. 'Sidney Crosby'\n",
       "9. 'Stuart McLean'\n",
       "10. 'NATO'\n",
       "\n",
       "\n"
      ],
      "text/plain": [
       " [1] \"#FridayFeeling\"           \"#RandomActsOfKindnessDay\"\n",
       " [3] \"Etobicoke\"                \"PMJT\"                    \n",
       " [5] \"#YAW2017\"                 \"#TrumpPresser\"           \n",
       " [7] \"#CdnAgDay\"                \"Sidney Crosby\"           \n",
       " [9] \"Stuart McLean\"            \"NATO\"                    "
      ]
     },
     "metadata": {},
     "output_type": "display_data"
    }
   ],
   "source": [
    "s <- top10$name\n",
    "s"
   ]
  },
  {
   "cell_type": "code",
   "execution_count": 10,
   "metadata": {
    "collapsed": false
   },
   "outputs": [
    {
     "data": {
      "text/html": [
       "<table>\n",
       "<thead><tr><th scope=col>name</th><th scope=col>country</th><th scope=col>woeid</th></tr></thead>\n",
       "<tbody>\n",
       "\t<tr><td>Mumbai </td><td>India  </td><td>2295411</td></tr>\n",
       "</tbody>\n",
       "</table>\n"
      ],
      "text/latex": [
       "\\begin{tabular}{r|lll}\n",
       " name & country & woeid\\\\\n",
       "\\hline\n",
       "\t Mumbai  & India   & 2295411\\\\\n",
       "\\end{tabular}\n"
      ],
      "text/markdown": [
       "\n",
       "name | country | woeid | \n",
       "|---|\n",
       "| Mumbai  | India   | 2295411 | \n",
       "\n",
       "\n"
      ],
      "text/plain": [
       "  name   country woeid  \n",
       "1 Mumbai India   2295411"
      ]
     },
     "metadata": {},
     "output_type": "display_data"
    }
   ],
   "source": [
    "close_trends = closestTrendLocations(19.0760, 72.8777)\n",
    "head(close_trends)"
   ]
  },
  {
   "cell_type": "code",
   "execution_count": 16,
   "metadata": {
    "collapsed": false
   },
   "outputs": [],
   "source": [
    "trends = getTrends(2295411)\n",
    "top10 <- head(trends,10)"
   ]
  },
  {
   "cell_type": "code",
   "execution_count": 17,
   "metadata": {
    "collapsed": false
   },
   "outputs": [
    {
     "data": {
      "text/html": [
       "<ol class=list-inline>\n",
       "\t<li>'#ExperienceMMTCareer'</li>\n",
       "\t<li>'Purposeful Housing'</li>\n",
       "\t<li>'#PriyankaGandhi'</li>\n",
       "\t<li>'#StandWithArmy'</li>\n",
       "\t<li>'#VoteToSaveAarey'</li>\n",
       "\t<li>'#AUSvSL'</li>\n",
       "\t<li>'Navdeep Saini'</li>\n",
       "\t<li>'Sunday With Shivaay'</li>\n",
       "\t<li>'Dr. V Maitreyan'</li>\n",
       "\t<li>'Kraft Heinz'</li>\n",
       "</ol>\n"
      ],
      "text/latex": [
       "\\begin{enumerate*}\n",
       "\\item '\\#ExperienceMMTCareer'\n",
       "\\item 'Purposeful Housing'\n",
       "\\item '\\#PriyankaGandhi'\n",
       "\\item '\\#StandWithArmy'\n",
       "\\item '\\#VoteToSaveAarey'\n",
       "\\item '\\#AUSvSL'\n",
       "\\item 'Navdeep Saini'\n",
       "\\item 'Sunday With Shivaay'\n",
       "\\item 'Dr. V Maitreyan'\n",
       "\\item 'Kraft Heinz'\n",
       "\\end{enumerate*}\n"
      ],
      "text/markdown": [
       "1. '#ExperienceMMTCareer'\n",
       "2. 'Purposeful Housing'\n",
       "3. '#PriyankaGandhi'\n",
       "4. '#StandWithArmy'\n",
       "5. '#VoteToSaveAarey'\n",
       "6. '#AUSvSL'\n",
       "7. 'Navdeep Saini'\n",
       "8. 'Sunday With Shivaay'\n",
       "9. 'Dr. V Maitreyan'\n",
       "10. 'Kraft Heinz'\n",
       "\n",
       "\n"
      ],
      "text/plain": [
       " [1] \"#ExperienceMMTCareer\" \"Purposeful Housing\"   \"#PriyankaGandhi\"     \n",
       " [4] \"#StandWithArmy\"       \"#VoteToSaveAarey\"     \"#AUSvSL\"             \n",
       " [7] \"Navdeep Saini\"        \"Sunday With Shivaay\"  \"Dr. V Maitreyan\"     \n",
       "[10] \"Kraft Heinz\"         "
      ]
     },
     "metadata": {},
     "output_type": "display_data"
    }
   ],
   "source": [
    "s2 <-top10$name\n",
    "s2"
   ]
  },
  {
   "cell_type": "code",
   "execution_count": 18,
   "metadata": {
    "collapsed": false
   },
   "outputs": [
    {
     "data": {
      "text/html": [
       "<table>\n",
       "<thead><tr><th scope=col>name</th><th scope=col>url</th><th scope=col>query</th><th scope=col>woeid</th></tr></thead>\n",
       "<tbody>\n",
       "\t<tr><td>#ExperienceMMTCareer                                 </td><td>http://twitter.com/search?q=%23ExperienceMMTCareer   </td><td>%23ExperienceMMTCareer                               </td><td>2295411                                              </td></tr>\n",
       "\t<tr><td>Purposeful Housing                                   </td><td>http://twitter.com/search?q=%22Purposeful+Housing%22 </td><td>%22Purposeful+Housing%22                             </td><td>2295411                                              </td></tr>\n",
       "\t<tr><td>#PriyankaGandhi                                      </td><td>http://twitter.com/search?q=%23PriyankaGandhi        </td><td>%23PriyankaGandhi                                    </td><td>2295411                                              </td></tr>\n",
       "\t<tr><td>#StandWithArmy                                       </td><td>http://twitter.com/search?q=%23StandWithArmy         </td><td>%23StandWithArmy                                     </td><td>2295411                                              </td></tr>\n",
       "\t<tr><td>#VoteToSaveAarey                                     </td><td>http://twitter.com/search?q=%23VoteToSaveAarey       </td><td>%23VoteToSaveAarey                                   </td><td>2295411                                              </td></tr>\n",
       "\t<tr><td>#AUSvSL                                              </td><td>http://twitter.com/search?q=%23AUSvSL                </td><td>%23AUSvSL                                            </td><td>2295411                                              </td></tr>\n",
       "\t<tr><td>Navdeep Saini                                        </td><td>http://twitter.com/search?q=%22Navdeep+Saini%22      </td><td>%22Navdeep+Saini%22                                  </td><td>2295411                                              </td></tr>\n",
       "\t<tr><td>Sunday With Shivaay                                  </td><td>http://twitter.com/search?q=%22Sunday+With+Shivaay%22</td><td>%22Sunday+With+Shivaay%22                            </td><td>2295411                                              </td></tr>\n",
       "\t<tr><td>Dr. V Maitreyan                                      </td><td>http://twitter.com/search?q=%22Dr.+V+Maitreyan%22    </td><td>%22Dr.+V+Maitreyan%22                                </td><td>2295411                                              </td></tr>\n",
       "\t<tr><td>Kraft Heinz                                          </td><td>http://twitter.com/search?q=%22Kraft+Heinz%22        </td><td>%22Kraft+Heinz%22                                    </td><td>2295411                                              </td></tr>\n",
       "</tbody>\n",
       "</table>\n"
      ],
      "text/latex": [
       "\\begin{tabular}{r|llll}\n",
       " name & url & query & woeid\\\\\n",
       "\\hline\n",
       "\t \\#ExperienceMMTCareer                                  & http://twitter.com/search?q=\\%23ExperienceMMTCareer    & \\%23ExperienceMMTCareer                                & 2295411                                                \\\\\n",
       "\t Purposeful Housing                                        & http://twitter.com/search?q=\\%22Purposeful+Housing\\%22  & \\%22Purposeful+Housing\\%22                              & 2295411                                                  \\\\\n",
       "\t \\#PriyankaGandhi                                       & http://twitter.com/search?q=\\%23PriyankaGandhi         & \\%23PriyankaGandhi                                     & 2295411                                                \\\\\n",
       "\t \\#StandWithArmy                                        & http://twitter.com/search?q=\\%23StandWithArmy          & \\%23StandWithArmy                                      & 2295411                                                \\\\\n",
       "\t \\#VoteToSaveAarey                                      & http://twitter.com/search?q=\\%23VoteToSaveAarey        & \\%23VoteToSaveAarey                                    & 2295411                                                \\\\\n",
       "\t \\#AUSvSL                                               & http://twitter.com/search?q=\\%23AUSvSL                 & \\%23AUSvSL                                             & 2295411                                                \\\\\n",
       "\t Navdeep Saini                                             & http://twitter.com/search?q=\\%22Navdeep+Saini\\%22       & \\%22Navdeep+Saini\\%22                                   & 2295411                                                  \\\\\n",
       "\t Sunday With Shivaay                                       & http://twitter.com/search?q=\\%22Sunday+With+Shivaay\\%22 & \\%22Sunday+With+Shivaay\\%22                             & 2295411                                                  \\\\\n",
       "\t Dr. V Maitreyan                                           & http://twitter.com/search?q=\\%22Dr.+V+Maitreyan\\%22     & \\%22Dr.+V+Maitreyan\\%22                                 & 2295411                                                  \\\\\n",
       "\t Kraft Heinz                                               & http://twitter.com/search?q=\\%22Kraft+Heinz\\%22         & \\%22Kraft+Heinz\\%22                                     & 2295411                                                  \\\\\n",
       "\\end{tabular}\n"
      ],
      "text/markdown": [
       "\n",
       "name | url | query | woeid | \n",
       "|---|---|---|---|---|---|---|---|---|---|\n",
       "| #ExperienceMMTCareer                                  | http://twitter.com/search?q=%23ExperienceMMTCareer    | %23ExperienceMMTCareer                                | 2295411                                               | \n",
       "| Purposeful Housing                                    | http://twitter.com/search?q=%22Purposeful+Housing%22  | %22Purposeful+Housing%22                              | 2295411                                               | \n",
       "| #PriyankaGandhi                                       | http://twitter.com/search?q=%23PriyankaGandhi         | %23PriyankaGandhi                                     | 2295411                                               | \n",
       "| #StandWithArmy                                        | http://twitter.com/search?q=%23StandWithArmy          | %23StandWithArmy                                      | 2295411                                               | \n",
       "| #VoteToSaveAarey                                      | http://twitter.com/search?q=%23VoteToSaveAarey        | %23VoteToSaveAarey                                    | 2295411                                               | \n",
       "| #AUSvSL                                               | http://twitter.com/search?q=%23AUSvSL                 | %23AUSvSL                                             | 2295411                                               | \n",
       "| Navdeep Saini                                         | http://twitter.com/search?q=%22Navdeep+Saini%22       | %22Navdeep+Saini%22                                   | 2295411                                               | \n",
       "| Sunday With Shivaay                                   | http://twitter.com/search?q=%22Sunday+With+Shivaay%22 | %22Sunday+With+Shivaay%22                             | 2295411                                               | \n",
       "| Dr. V Maitreyan                                       | http://twitter.com/search?q=%22Dr.+V+Maitreyan%22     | %22Dr.+V+Maitreyan%22                                 | 2295411                                               | \n",
       "| Kraft Heinz                                           | http://twitter.com/search?q=%22Kraft+Heinz%22         | %22Kraft+Heinz%22                                     | 2295411                                               | \n",
       "\n",
       "\n"
      ],
      "text/plain": [
       "   name                 url                                                  \n",
       "1  #ExperienceMMTCareer http://twitter.com/search?q=%23ExperienceMMTCareer   \n",
       "2  Purposeful Housing   http://twitter.com/search?q=%22Purposeful+Housing%22 \n",
       "3  #PriyankaGandhi      http://twitter.com/search?q=%23PriyankaGandhi        \n",
       "4  #StandWithArmy       http://twitter.com/search?q=%23StandWithArmy         \n",
       "5  #VoteToSaveAarey     http://twitter.com/search?q=%23VoteToSaveAarey       \n",
       "6  #AUSvSL              http://twitter.com/search?q=%23AUSvSL                \n",
       "7  Navdeep Saini        http://twitter.com/search?q=%22Navdeep+Saini%22      \n",
       "8  Sunday With Shivaay  http://twitter.com/search?q=%22Sunday+With+Shivaay%22\n",
       "9  Dr. V Maitreyan      http://twitter.com/search?q=%22Dr.+V+Maitreyan%22    \n",
       "10 Kraft Heinz          http://twitter.com/search?q=%22Kraft+Heinz%22        \n",
       "   query                     woeid  \n",
       "1  %23ExperienceMMTCareer    2295411\n",
       "2  %22Purposeful+Housing%22  2295411\n",
       "3  %23PriyankaGandhi         2295411\n",
       "4  %23StandWithArmy          2295411\n",
       "5  %23VoteToSaveAarey        2295411\n",
       "6  %23AUSvSL                 2295411\n",
       "7  %22Navdeep+Saini%22       2295411\n",
       "8  %22Sunday+With+Shivaay%22 2295411\n",
       "9  %22Dr.+V+Maitreyan%22     2295411\n",
       "10 %22Kraft+Heinz%22         2295411"
      ]
     },
     "metadata": {},
     "output_type": "display_data"
    }
   ],
   "source": [
    "top10"
   ]
  },
  {
   "cell_type": "code",
   "execution_count": 29,
   "metadata": {
    "collapsed": false
   },
   "outputs": [
    {
     "name": "stdout",
     "output_type": "stream",
     "text": [
      "[1] \"Using direct authentication\"\n"
     ]
    },
    {
     "name": "stderr",
     "output_type": "stream",
     "text": [
      "Information from URL : http://maps.googleapis.com/maps/api/geocode/json?address=Raleigh&sensor=false\n"
     ]
    }
   ],
   "source": [
    "#<-----------------PART-2- GENERALIZED CASE (with search variable)------------>\n",
    "searchterm = \"Raleigh\"  #enter ANY LOCATION and get the  trends of the closest locations by using the geocode of search term\n",
    "\n",
    "library(twitteR)\n",
    "library(\"ggmap\")  \n",
    "setup_twitter_oauth(\"AhfTjxlw3bMAJSx5LOzM0CfqT\", \"aixmj9xYpO3bLeTgcSuhLJLGZGchpkQYo6i8j85zejPKLLaXAj\", \"847585052-7ujhP4Gk68ybAxQUZ8UGuz3IZsxYwD7ihG9xbq0f\", \"pF4PXgUv1D6Gwl8ZDHN2UGv6TsJRY7a1YI3XkabDRIzlp\")\n",
    "geoloc1 <- geocode(searchterm)\n",
    "close_trends = closestTrendLocations(geoloc1$lat, geoloc1$lon)\n"
   ]
  },
  {
   "cell_type": "code",
   "execution_count": 30,
   "metadata": {
    "collapsed": false
   },
   "outputs": [
    {
     "data": {
      "text/html": [
       "<table>\n",
       "<thead><tr><th scope=col>name</th><th scope=col>country</th><th scope=col>woeid</th></tr></thead>\n",
       "<tbody>\n",
       "\t<tr><td>Raleigh      </td><td>United States</td><td>2478307      </td></tr>\n",
       "</tbody>\n",
       "</table>\n"
      ],
      "text/latex": [
       "\\begin{tabular}{r|lll}\n",
       " name & country & woeid\\\\\n",
       "\\hline\n",
       "\t Raleigh       & United States & 2478307      \\\\\n",
       "\\end{tabular}\n"
      ],
      "text/markdown": [
       "\n",
       "name | country | woeid | \n",
       "|---|\n",
       "| Raleigh       | United States | 2478307       | \n",
       "\n",
       "\n"
      ],
      "text/plain": [
       "  name    country       woeid  \n",
       "1 Raleigh United States 2478307"
      ]
     },
     "metadata": {},
     "output_type": "display_data"
    }
   ],
   "source": [
    "close_trends"
   ]
  },
  {
   "cell_type": "code",
   "execution_count": 31,
   "metadata": {
    "collapsed": false
   },
   "outputs": [
    {
     "data": {
      "text/html": [
       "<table>\n",
       "<thead><tr><th scope=col>name</th><th scope=col>url</th><th scope=col>query</th><th scope=col>woeid</th></tr></thead>\n",
       "<tbody>\n",
       "\t<tr><td>#SD17DET                                              </td><td>http://twitter.com/search?q=%23SD17DET                </td><td>%23SD17DET                                            </td><td>2478307                                               </td></tr>\n",
       "\t<tr><td>Official Video                                        </td><td>http://twitter.com/search?q=%22Official+Video%22      </td><td>%22Official+Video%22                                  </td><td>2478307                                               </td></tr>\n",
       "\t<tr><td>#RandomActsOfKindnessDay                              </td><td>http://twitter.com/search?q=%23RandomActsOfKindnessDay</td><td>%23RandomActsOfKindnessDay                            </td><td>2478307                                               </td></tr>\n",
       "\t<tr><td>National Guard                                        </td><td>http://twitter.com/search?q=%22National+Guard%22      </td><td>%22National+Guard%22                                  </td><td>2478307                                               </td></tr>\n",
       "\t<tr><td>#MediaLiesAgain                                       </td><td>http://twitter.com/search?q=%23MediaLiesAgain         </td><td>%23MediaLiesAgain                                     </td><td>2478307                                               </td></tr>\n",
       "\t<tr><td>The Animal                                            </td><td>http://twitter.com/search?q=%22The+Animal%22          </td><td>%22The+Animal%22                                      </td><td>2478307                                               </td></tr>\n",
       "\t<tr><td>#MyPerfectBreakfastNeeds                              </td><td>http://twitter.com/search?q=%23MyPerfectBreakfastNeeds</td><td>%23MyPerfectBreakfastNeeds                            </td><td>2478307                                               </td></tr>\n",
       "\t<tr><td>#FlashbackFriday                                      </td><td>http://twitter.com/search?q=%23FlashbackFriday        </td><td>%23FlashbackFriday                                    </td><td>2478307                                               </td></tr>\n",
       "\t<tr><td>Bob Michel                                            </td><td>http://twitter.com/search?q=%22Bob+Michel%22          </td><td>%22Bob+Michel%22                                      </td><td>2478307                                               </td></tr>\n",
       "\t<tr><td>Unilever                                              </td><td>http://twitter.com/search?q=Unilever                  </td><td>Unilever                                              </td><td>2478307                                               </td></tr>\n",
       "</tbody>\n",
       "</table>\n"
      ],
      "text/latex": [
       "\\begin{tabular}{r|llll}\n",
       " name & url & query & woeid\\\\\n",
       "\\hline\n",
       "\t \\#SD17DET                                               & http://twitter.com/search?q=\\%23SD17DET                 & \\%23SD17DET                                             & 2478307                                                 \\\\\n",
       "\t Official Video                                             & http://twitter.com/search?q=\\%22Official+Video\\%22       & \\%22Official+Video\\%22                                   & 2478307                                                   \\\\\n",
       "\t \\#RandomActsOfKindnessDay                               & http://twitter.com/search?q=\\%23RandomActsOfKindnessDay & \\%23RandomActsOfKindnessDay                             & 2478307                                                 \\\\\n",
       "\t National Guard                                             & http://twitter.com/search?q=\\%22National+Guard\\%22       & \\%22National+Guard\\%22                                   & 2478307                                                   \\\\\n",
       "\t \\#MediaLiesAgain                                        & http://twitter.com/search?q=\\%23MediaLiesAgain          & \\%23MediaLiesAgain                                      & 2478307                                                 \\\\\n",
       "\t The Animal                                                 & http://twitter.com/search?q=\\%22The+Animal\\%22           & \\%22The+Animal\\%22                                       & 2478307                                                   \\\\\n",
       "\t \\#MyPerfectBreakfastNeeds                               & http://twitter.com/search?q=\\%23MyPerfectBreakfastNeeds & \\%23MyPerfectBreakfastNeeds                             & 2478307                                                 \\\\\n",
       "\t \\#FlashbackFriday                                       & http://twitter.com/search?q=\\%23FlashbackFriday         & \\%23FlashbackFriday                                     & 2478307                                                 \\\\\n",
       "\t Bob Michel                                                 & http://twitter.com/search?q=\\%22Bob+Michel\\%22           & \\%22Bob+Michel\\%22                                       & 2478307                                                   \\\\\n",
       "\t Unilever                                               & http://twitter.com/search?q=Unilever                   & Unilever                                               & 2478307                                               \\\\\n",
       "\\end{tabular}\n"
      ],
      "text/markdown": [
       "\n",
       "name | url | query | woeid | \n",
       "|---|---|---|---|---|---|---|---|---|---|\n",
       "| #SD17DET                                               | http://twitter.com/search?q=%23SD17DET                 | %23SD17DET                                             | 2478307                                                | \n",
       "| Official Video                                         | http://twitter.com/search?q=%22Official+Video%22       | %22Official+Video%22                                   | 2478307                                                | \n",
       "| #RandomActsOfKindnessDay                               | http://twitter.com/search?q=%23RandomActsOfKindnessDay | %23RandomActsOfKindnessDay                             | 2478307                                                | \n",
       "| National Guard                                         | http://twitter.com/search?q=%22National+Guard%22       | %22National+Guard%22                                   | 2478307                                                | \n",
       "| #MediaLiesAgain                                        | http://twitter.com/search?q=%23MediaLiesAgain          | %23MediaLiesAgain                                      | 2478307                                                | \n",
       "| The Animal                                             | http://twitter.com/search?q=%22The+Animal%22           | %22The+Animal%22                                       | 2478307                                                | \n",
       "| #MyPerfectBreakfastNeeds                               | http://twitter.com/search?q=%23MyPerfectBreakfastNeeds | %23MyPerfectBreakfastNeeds                             | 2478307                                                | \n",
       "| #FlashbackFriday                                       | http://twitter.com/search?q=%23FlashbackFriday         | %23FlashbackFriday                                     | 2478307                                                | \n",
       "| Bob Michel                                             | http://twitter.com/search?q=%22Bob+Michel%22           | %22Bob+Michel%22                                       | 2478307                                                | \n",
       "| Unilever                                               | http://twitter.com/search?q=Unilever                   | Unilever                                               | 2478307                                                | \n",
       "\n",
       "\n"
      ],
      "text/plain": [
       "   name                    \n",
       "1  #SD17DET                \n",
       "2  Official Video          \n",
       "3  #RandomActsOfKindnessDay\n",
       "4  National Guard          \n",
       "5  #MediaLiesAgain         \n",
       "6  The Animal              \n",
       "7  #MyPerfectBreakfastNeeds\n",
       "8  #FlashbackFriday        \n",
       "9  Bob Michel              \n",
       "10 Unilever                \n",
       "   url                                                   \n",
       "1  http://twitter.com/search?q=%23SD17DET                \n",
       "2  http://twitter.com/search?q=%22Official+Video%22      \n",
       "3  http://twitter.com/search?q=%23RandomActsOfKindnessDay\n",
       "4  http://twitter.com/search?q=%22National+Guard%22      \n",
       "5  http://twitter.com/search?q=%23MediaLiesAgain         \n",
       "6  http://twitter.com/search?q=%22The+Animal%22          \n",
       "7  http://twitter.com/search?q=%23MyPerfectBreakfastNeeds\n",
       "8  http://twitter.com/search?q=%23FlashbackFriday        \n",
       "9  http://twitter.com/search?q=%22Bob+Michel%22          \n",
       "10 http://twitter.com/search?q=Unilever                  \n",
       "   query                      woeid  \n",
       "1  %23SD17DET                 2478307\n",
       "2  %22Official+Video%22       2478307\n",
       "3  %23RandomActsOfKindnessDay 2478307\n",
       "4  %22National+Guard%22       2478307\n",
       "5  %23MediaLiesAgain          2478307\n",
       "6  %22The+Animal%22           2478307\n",
       "7  %23MyPerfectBreakfastNeeds 2478307\n",
       "8  %23FlashbackFriday         2478307\n",
       "9  %22Bob+Michel%22           2478307\n",
       "10 Unilever                   2478307"
      ]
     },
     "metadata": {},
     "output_type": "display_data"
    }
   ],
   "source": [
    "trends = getTrends(close_trends$woeid)\n",
    "top10 <- head(trends,10)\n",
    "top10"
   ]
  },
  {
   "cell_type": "code",
   "execution_count": 32,
   "metadata": {
    "collapsed": false
   },
   "outputs": [
    {
     "data": {
      "text/html": [
       "<ol class=list-inline>\n",
       "\t<li>'#SD17DET'</li>\n",
       "\t<li>'Official Video'</li>\n",
       "\t<li>'#RandomActsOfKindnessDay'</li>\n",
       "\t<li>'National Guard'</li>\n",
       "\t<li>'#MediaLiesAgain'</li>\n",
       "\t<li>'The Animal'</li>\n",
       "\t<li>'#MyPerfectBreakfastNeeds'</li>\n",
       "\t<li>'#FlashbackFriday'</li>\n",
       "\t<li>'Bob Michel'</li>\n",
       "\t<li>'Unilever'</li>\n",
       "</ol>\n"
      ],
      "text/latex": [
       "\\begin{enumerate*}\n",
       "\\item '\\#SD17DET'\n",
       "\\item 'Official Video'\n",
       "\\item '\\#RandomActsOfKindnessDay'\n",
       "\\item 'National Guard'\n",
       "\\item '\\#MediaLiesAgain'\n",
       "\\item 'The Animal'\n",
       "\\item '\\#MyPerfectBreakfastNeeds'\n",
       "\\item '\\#FlashbackFriday'\n",
       "\\item 'Bob Michel'\n",
       "\\item 'Unilever'\n",
       "\\end{enumerate*}\n"
      ],
      "text/markdown": [
       "1. '#SD17DET'\n",
       "2. 'Official Video'\n",
       "3. '#RandomActsOfKindnessDay'\n",
       "4. 'National Guard'\n",
       "5. '#MediaLiesAgain'\n",
       "6. 'The Animal'\n",
       "7. '#MyPerfectBreakfastNeeds'\n",
       "8. '#FlashbackFriday'\n",
       "9. 'Bob Michel'\n",
       "10. 'Unilever'\n",
       "\n",
       "\n"
      ],
      "text/plain": [
       " [1] \"#SD17DET\"                 \"Official Video\"          \n",
       " [3] \"#RandomActsOfKindnessDay\" \"National Guard\"          \n",
       " [5] \"#MediaLiesAgain\"          \"The Animal\"              \n",
       " [7] \"#MyPerfectBreakfastNeeds\" \"#FlashbackFriday\"        \n",
       " [9] \"Bob Michel\"               \"Unilever\"                "
      ]
     },
     "metadata": {},
     "output_type": "display_data"
    }
   ],
   "source": [
    "s <- top10$name\n",
    "s"
   ]
  },
  {
   "cell_type": "code",
   "execution_count": null,
   "metadata": {
    "collapsed": true
   },
   "outputs": [],
   "source": []
  }
 ],
 "metadata": {
  "anaconda-cloud": {},
  "kernelspec": {
   "display_name": "R",
   "language": "R",
   "name": "ir"
  },
  "language_info": {
   "codemirror_mode": "r",
   "file_extension": ".r",
   "mimetype": "text/x-r-source",
   "name": "R",
   "pygments_lexer": "r",
   "version": "3.3.2"
  }
 },
 "nbformat": 4,
 "nbformat_minor": 0
}

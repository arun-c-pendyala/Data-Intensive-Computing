{
 "cells": [
  {
   "cell_type": "markdown",
   "metadata": {},
   "source": [
    "# Activity 3 : K Means Clustering using Pew Data"
   ]
  },
  {
   "cell_type": "code",
   "execution_count": 51,
   "metadata": {
    "collapsed": false
   },
   "outputs": [
    {
     "data": {
      "text/html": [
       "<table>\n",
       "<thead><tr><th scope=col>psraid</th><th scope=col>sample</th><th scope=col>int_date</th><th scope=col>lang</th><th scope=col>usr</th><th scope=col>cregion</th><th scope=col>state</th><th scope=col>form</th><th scope=col>sex</th><th scope=col>q1</th><th scope=col>⋯</th><th scope=col>ideo</th><th scope=col>hisp</th><th scope=col>birth_hisp</th><th scope=col>race</th><th scope=col>inc</th><th scope=col>ql1a</th><th scope=col>qc1</th><th scope=col>zipcode</th><th scope=col>weight</th><th scope=col>standwt</th></tr></thead>\n",
       "<tbody>\n",
       "\t<tr><td>100006   </td><td>1        </td><td>61015    </td><td>1        </td><td>S        </td><td>3        </td><td>51       </td><td>1        </td><td>2        </td><td>1        </td><td>⋯        </td><td>1        </td><td>2        </td><td>NA       </td><td>1        </td><td>99       </td><td>NA       </td><td>NA       </td><td>20112    </td><td>2.258065 </td><td>0.7209406</td></tr>\n",
       "\t<tr><td>100009   </td><td>1        </td><td>61015    </td><td>1        </td><td>U        </td><td>3        </td><td>24       </td><td>2        </td><td>2        </td><td>2        </td><td>⋯        </td><td>3        </td><td>2        </td><td>NA       </td><td>2        </td><td> 6       </td><td>NA       </td><td>NA       </td><td>21239    </td><td>2.548387 </td><td>0.8136330</td></tr>\n",
       "\t<tr><td>100011   </td><td>1        </td><td>61015    </td><td>1        </td><td>S        </td><td>2        </td><td>39       </td><td>2        </td><td>2        </td><td>1        </td><td>⋯        </td><td>1        </td><td>2        </td><td>NA       </td><td>1        </td><td> 3       </td><td>NA       </td><td>NA       </td><td>44730    </td><td>1.806452 </td><td>0.5767525</td></tr>\n",
       "\t<tr><td>100039   </td><td>1        </td><td>61015    </td><td>1        </td><td>S        </td><td>3        </td><td>37       </td><td>2        </td><td>2        </td><td>1        </td><td>⋯        </td><td>2        </td><td>2        </td><td>NA       </td><td>1        </td><td> 6       </td><td>NA       </td><td>NA       </td><td>27028    </td><td>5.032258 </td><td>1.6066676</td></tr>\n",
       "\t<tr><td>100040   </td><td>1        </td><td>61015    </td><td>1        </td><td>U        </td><td>3        </td><td>21       </td><td>1        </td><td>2        </td><td>1        </td><td>⋯        </td><td>1        </td><td>2        </td><td>NA       </td><td>1        </td><td> 3       </td><td> 2       </td><td>NA       </td><td>40511    </td><td>7.161290 </td><td>2.2864116</td></tr>\n",
       "\t<tr><td>100043   </td><td>1        </td><td>62215    </td><td>1        </td><td>R        </td><td>2        </td><td>20       </td><td>1        </td><td>2        </td><td>1        </td><td>⋯        </td><td>3        </td><td>2        </td><td>NA       </td><td>1        </td><td> 8       </td><td>NA       </td><td>NA       </td><td>67601    </td><td>1.000000 </td><td>0.3192737</td></tr>\n",
       "</tbody>\n",
       "</table>\n"
      ],
      "text/latex": [
       "\\begin{tabular}{r|llllllllllllllllllllllllllllllllllllllllllllllllllllllllllllllllllllllllllllllllllllllllllllllllllllllllllllllllllllllllllllllllllllllllllll}\n",
       " psraid & sample & int\\_date & lang & usr & cregion & state & form & sex & q1 & ⋯ & ideo & hisp & birth\\_hisp & race & inc & ql1a & qc1 & zipcode & weight & standwt\\\\\n",
       "\\hline\n",
       "\t 100006    & 1         & 61015     & 1         & S         & 3         & 51        & 1         & 2         & 1         & ⋯         & 1         & 2         & NA        & 1         & 99        & NA        & NA        & 20112     & 2.258065  & 0.7209406\\\\\n",
       "\t 100009    & 1         & 61015     & 1         & U         & 3         & 24        & 2         & 2         & 2         & ⋯         & 3         & 2         & NA        & 2         &  6        & NA        & NA        & 21239     & 2.548387  & 0.8136330\\\\\n",
       "\t 100011    & 1         & 61015     & 1         & S         & 2         & 39        & 2         & 2         & 1         & ⋯         & 1         & 2         & NA        & 1         &  3        & NA        & NA        & 44730     & 1.806452  & 0.5767525\\\\\n",
       "\t 100039    & 1         & 61015     & 1         & S         & 3         & 37        & 2         & 2         & 1         & ⋯         & 2         & 2         & NA        & 1         &  6        & NA        & NA        & 27028     & 5.032258  & 1.6066676\\\\\n",
       "\t 100040    & 1         & 61015     & 1         & U         & 3         & 21        & 1         & 2         & 1         & ⋯         & 1         & 2         & NA        & 1         &  3        &  2        & NA        & 40511     & 7.161290  & 2.2864116\\\\\n",
       "\t 100043    & 1         & 62215     & 1         & R         & 2         & 20        & 1         & 2         & 1         & ⋯         & 3         & 2         & NA        & 1         &  8        & NA        & NA        & 67601     & 1.000000  & 0.3192737\\\\\n",
       "\\end{tabular}\n"
      ],
      "text/markdown": [
       "\n",
       "psraid | sample | int_date | lang | usr | cregion | state | form | sex | q1 | ⋯ | ideo | hisp | birth_hisp | race | inc | ql1a | qc1 | zipcode | weight | standwt | \n",
       "|---|---|---|---|---|---|\n",
       "| 100006    | 1         | 61015     | 1         | S         | 3         | 51        | 1         | 2         | 1         | ⋯         | 1         | 2         | NA        | 1         | 99        | NA        | NA        | 20112     | 2.258065  | 0.7209406 | \n",
       "| 100009    | 1         | 61015     | 1         | U         | 3         | 24        | 2         | 2         | 2         | ⋯         | 3         | 2         | NA        | 2         |  6        | NA        | NA        | 21239     | 2.548387  | 0.8136330 | \n",
       "| 100011    | 1         | 61015     | 1         | S         | 2         | 39        | 2         | 2         | 1         | ⋯         | 1         | 2         | NA        | 1         |  3        | NA        | NA        | 44730     | 1.806452  | 0.5767525 | \n",
       "| 100039    | 1         | 61015     | 1         | S         | 3         | 37        | 2         | 2         | 1         | ⋯         | 2         | 2         | NA        | 1         |  6        | NA        | NA        | 27028     | 5.032258  | 1.6066676 | \n",
       "| 100040    | 1         | 61015     | 1         | U         | 3         | 21        | 1         | 2         | 1         | ⋯         | 1         | 2         | NA        | 1         |  3        |  2        | NA        | 40511     | 7.161290  | 2.2864116 | \n",
       "| 100043    | 1         | 62215     | 1         | R         | 2         | 20        | 1         | 2         | 1         | ⋯         | 3         | 2         | NA        | 1         |  8        | NA        | NA        | 67601     | 1.000000  | 0.3192737 | \n",
       "\n",
       "\n"
      ],
      "text/plain": [
       "  psraid sample int_date lang usr cregion state form sex q1 ⋯ ideo hisp\n",
       "1 100006 1      61015    1    S   3       51    1    2   1  ⋯ 1    2   \n",
       "2 100009 1      61015    1    U   3       24    2    2   2  ⋯ 3    2   \n",
       "3 100011 1      61015    1    S   2       39    2    2   1  ⋯ 1    2   \n",
       "4 100039 1      61015    1    S   3       37    2    2   1  ⋯ 2    2   \n",
       "5 100040 1      61015    1    U   3       21    1    2   1  ⋯ 1    2   \n",
       "6 100043 1      62215    1    R   2       20    1    2   1  ⋯ 3    2   \n",
       "  birth_hisp race inc ql1a qc1 zipcode weight   standwt  \n",
       "1 NA         1    99  NA   NA  20112   2.258065 0.7209406\n",
       "2 NA         2     6  NA   NA  21239   2.548387 0.8136330\n",
       "3 NA         1     3  NA   NA  44730   1.806452 0.5767525\n",
       "4 NA         1     6  NA   NA  27028   5.032258 1.6066676\n",
       "5 NA         1     3   2   NA  40511   7.161290 2.2864116\n",
       "6 NA         1     8  NA   NA  67601   1.000000 0.3192737"
      ]
     },
     "metadata": {},
     "output_type": "display_data"
    }
   ],
   "source": [
    "pew_df <- read.csv(file=\"pew_data.csv\",head=TRUE,sep=\",\")\n",
    "head(pew_df)"
   ]
  },
  {
   "cell_type": "markdown",
   "metadata": {},
   "source": [
    "<p style='color:blue'><font size='4'> The required features are extracted with valid data as shown below </font></p>"
   ]
  },
  {
   "cell_type": "code",
   "execution_count": 52,
   "metadata": {
    "collapsed": false
   },
   "outputs": [
    {
     "data": {
      "text/html": [
       "<table>\n",
       "<thead><tr><th scope=col>race</th><th scope=col>age</th><th scope=col>state</th><th scope=col>sex</th><th scope=col>party</th></tr></thead>\n",
       "<tbody>\n",
       "\t<tr><td>1 </td><td>47</td><td>51</td><td>2 </td><td>3 </td></tr>\n",
       "\t<tr><td>2 </td><td>63</td><td>24</td><td>2 </td><td>2 </td></tr>\n",
       "\t<tr><td>1 </td><td>86</td><td>39</td><td>2 </td><td>1 </td></tr>\n",
       "\t<tr><td>1 </td><td>40</td><td>37</td><td>2 </td><td>1 </td></tr>\n",
       "\t<tr><td>1 </td><td>69</td><td>20</td><td>2 </td><td>3 </td></tr>\n",
       "\t<tr><td>1 </td><td>72</td><td>42</td><td>1 </td><td>3 </td></tr>\n",
       "</tbody>\n",
       "</table>\n"
      ],
      "text/latex": [
       "\\begin{tabular}{r|lllll}\n",
       " race & age & state & sex & party\\\\\n",
       "\\hline\n",
       "\t 1  & 47 & 51 & 2  & 3 \\\\\n",
       "\t 2  & 63 & 24 & 2  & 2 \\\\\n",
       "\t 1  & 86 & 39 & 2  & 1 \\\\\n",
       "\t 1  & 40 & 37 & 2  & 1 \\\\\n",
       "\t 1  & 69 & 20 & 2  & 3 \\\\\n",
       "\t 1  & 72 & 42 & 1  & 3 \\\\\n",
       "\\end{tabular}\n"
      ],
      "text/markdown": [
       "\n",
       "race | age | state | sex | party | \n",
       "|---|---|---|---|---|---|\n",
       "| 1  | 47 | 51 | 2  | 3  | \n",
       "| 2  | 63 | 24 | 2  | 2  | \n",
       "| 1  | 86 | 39 | 2  | 1  | \n",
       "| 1  | 40 | 37 | 2  | 1  | \n",
       "| 1  | 69 | 20 | 2  | 3  | \n",
       "| 1  | 72 | 42 | 1  | 3  | \n",
       "\n",
       "\n"
      ],
      "text/plain": [
       "  race age state sex party\n",
       "1 1    47  51    2   3    \n",
       "2 2    63  24    2   2    \n",
       "3 1    86  39    2   1    \n",
       "4 1    40  37    2   1    \n",
       "5 1    69  20    2   3    \n",
       "6 1    72  42    1   3    "
      ]
     },
     "metadata": {},
     "output_type": "display_data"
    }
   ],
   "source": [
    "library(dplyr)\n",
    "\n",
    "final_df <- filter(pew_df,race<8,age<98,party<8) %>% select(race,age,state,sex,party) %>% na.omit()\n",
    "head(final_df)\n"
   ]
  },
  {
   "cell_type": "code",
   "execution_count": 53,
   "metadata": {
    "collapsed": false
   },
   "outputs": [
    {
     "data": {
      "text/html": [
       "<table>\n",
       "<thead><tr><th></th><th scope=col>race</th><th scope=col>age</th><th scope=col>state</th><th scope=col>sex</th><th scope=col>party</th></tr></thead>\n",
       "<tbody>\n",
       "\t<tr><th scope=row>1</th><td>1.246324</td><td>72.16176</td><td>14.80882</td><td>1.602941</td><td>2.099265</td></tr>\n",
       "\t<tr><th scope=row>2</th><td>1.467606</td><td>52.34366</td><td>15.18310</td><td>1.523944</td><td>2.312676</td></tr>\n",
       "\t<tr><th scope=row>3</th><td>1.579221</td><td>32.34805</td><td>42.86753</td><td>1.454545</td><td>2.376623</td></tr>\n",
       "\t<tr><th scope=row>4</th><td>1.869258</td><td>28.77032</td><td>13.03180</td><td>1.431095</td><td>2.526502</td></tr>\n",
       "\t<tr><th scope=row>5</th><td>1.261426</td><td>64.34552</td><td>42.53748</td><td>1.517367</td><td>2.213894</td></tr>\n",
       "</tbody>\n",
       "</table>\n"
      ],
      "text/latex": [
       "\\begin{tabular}{r|lllll}\n",
       "  & race & age & state & sex & party\\\\\n",
       "\\hline\n",
       "\t1 & 1.246324 & 72.16176 & 14.80882 & 1.602941 & 2.099265\\\\\n",
       "\t2 & 1.467606 & 52.34366 & 15.18310 & 1.523944 & 2.312676\\\\\n",
       "\t3 & 1.579221 & 32.34805 & 42.86753 & 1.454545 & 2.376623\\\\\n",
       "\t4 & 1.869258 & 28.77032 & 13.03180 & 1.431095 & 2.526502\\\\\n",
       "\t5 & 1.261426 & 64.34552 & 42.53748 & 1.517367 & 2.213894\\\\\n",
       "\\end{tabular}\n"
      ],
      "text/markdown": [
       "\n",
       "| <!--/--> | race | age | state | sex | party | \n",
       "|---|---|---|---|---|\n",
       "| 1 | 1.246324 | 72.16176 | 14.80882 | 1.602941 | 2.099265 | \n",
       "| 2 | 1.467606 | 52.34366 | 15.18310 | 1.523944 | 2.312676 | \n",
       "| 3 | 1.579221 | 32.34805 | 42.86753 | 1.454545 | 2.376623 | \n",
       "| 4 | 1.869258 | 28.77032 | 13.03180 | 1.431095 | 2.526502 | \n",
       "| 5 | 1.261426 | 64.34552 | 42.53748 | 1.517367 | 2.213894 | \n",
       "\n",
       "\n"
      ],
      "text/plain": [
       "  race     age      state    sex      party   \n",
       "1 1.246324 72.16176 14.80882 1.602941 2.099265\n",
       "2 1.467606 52.34366 15.18310 1.523944 2.312676\n",
       "3 1.579221 32.34805 42.86753 1.454545 2.376623\n",
       "4 1.869258 28.77032 13.03180 1.431095 2.526502\n",
       "5 1.261426 64.34552 42.53748 1.517367 2.213894"
      ]
     },
     "metadata": {},
     "output_type": "display_data"
    }
   ],
   "source": [
    "k <- kmeans(final_df,centers=5)    # for k = 5\n",
    "k$centers\n"
   ]
  },
  {
   "cell_type": "code",
   "execution_count": 54,
   "metadata": {
    "collapsed": false
   },
   "outputs": [
    {
     "data": {
      "text/plain": [
       "\n",
       "  1   2   3   4   5 \n",
       "272 355 385 283 547 "
      ]
     },
     "metadata": {},
     "output_type": "display_data"
    }
   ],
   "source": [
    "table(k$cluster)"
   ]
  },
  {
   "cell_type": "markdown",
   "metadata": {},
   "source": [
    "## Interpretation:"
   ]
  },
  {
   "cell_type": "markdown",
   "metadata": {},
   "source": [
    "<p style='color:blue'><font size='4'> For K = 5 centers</font></p>\n"
   ]
  },
  {
   "cell_type": "markdown",
   "metadata": {},
   "source": [
    "<p style='color:green'><font size='2'>\n",
    "Characteristics of each clusters appears to be as follows:<br>\n",
    "1) age - very old(60s and 70s) majority , democrats majority<br>\n",
    "2) age - old(50s and 60s) majority, democrats and independents majority<br>\n",
    "3) age - young(30s ) majority, democrats and independents majority<br>\n",
    "4) age - very young(20s and 30s) majority and more inclination to independents<br>\n",
    "5) age - old (60s) majority and democrats majority<br>\n",
    "\n",
    "\n",
    "All clusters seem to have white population as majority. Gender seems to be uniformly distributed in all clusters.\n",
    "</font></p>\n"
   ]
  },
  {
   "cell_type": "code",
   "execution_count": 55,
   "metadata": {
    "collapsed": false
   },
   "outputs": [
    {
     "data": {
      "text/html": [
       "<table>\n",
       "<thead><tr><th></th><th scope=col>race</th><th scope=col>age</th><th scope=col>state</th><th scope=col>sex</th><th scope=col>party</th></tr></thead>\n",
       "<tbody>\n",
       "\t<tr><th scope=row>1</th><td>1.413675</td><td>61.26838</td><td>13.72650</td><td>1.548718</td><td>2.213675</td></tr>\n",
       "\t<tr><th scope=row>2</th><td>1.667737</td><td>29.84591</td><td>28.74799</td><td>1.449438</td><td>2.471910</td></tr>\n",
       "\t<tr><th scope=row>3</th><td>1.294953</td><td>62.40852</td><td>42.48896</td><td>1.518927</td><td>2.205047</td></tr>\n",
       "</tbody>\n",
       "</table>\n"
      ],
      "text/latex": [
       "\\begin{tabular}{r|lllll}\n",
       "  & race & age & state & sex & party\\\\\n",
       "\\hline\n",
       "\t1 & 1.413675 & 61.26838 & 13.72650 & 1.548718 & 2.213675\\\\\n",
       "\t2 & 1.667737 & 29.84591 & 28.74799 & 1.449438 & 2.471910\\\\\n",
       "\t3 & 1.294953 & 62.40852 & 42.48896 & 1.518927 & 2.205047\\\\\n",
       "\\end{tabular}\n"
      ],
      "text/markdown": [
       "\n",
       "| <!--/--> | race | age | state | sex | party | \n",
       "|---|---|---|\n",
       "| 1 | 1.413675 | 61.26838 | 13.72650 | 1.548718 | 2.213675 | \n",
       "| 2 | 1.667737 | 29.84591 | 28.74799 | 1.449438 | 2.471910 | \n",
       "| 3 | 1.294953 | 62.40852 | 42.48896 | 1.518927 | 2.205047 | \n",
       "\n",
       "\n"
      ],
      "text/plain": [
       "  race     age      state    sex      party   \n",
       "1 1.413675 61.26838 13.72650 1.548718 2.213675\n",
       "2 1.667737 29.84591 28.74799 1.449438 2.471910\n",
       "3 1.294953 62.40852 42.48896 1.518927 2.205047"
      ]
     },
     "metadata": {},
     "output_type": "display_data"
    }
   ],
   "source": [
    "k <- kmeans(final_df,centers=3)    # for k = 3\n",
    "k$centers\n"
   ]
  },
  {
   "cell_type": "code",
   "execution_count": 56,
   "metadata": {
    "collapsed": false
   },
   "outputs": [
    {
     "data": {
      "text/plain": [
       "\n",
       "  1   2   3 \n",
       "585 623 634 "
      ]
     },
     "metadata": {},
     "output_type": "display_data"
    }
   ],
   "source": [
    "table(k$cluster)"
   ]
  },
  {
   "cell_type": "markdown",
   "metadata": {},
   "source": [
    "<p style='color:blue'><font size='4'> For K = 3 centers</font></p>"
   ]
  },
  {
   "cell_type": "markdown",
   "metadata": {},
   "source": [
    "<p style='color:green'><font size='2'>\n",
    "Characteristics of each clusters appears to be as follows:<br>\n",
    "1) age - very old(60s and 70s) majority , democrats majority<br>\n",
    "2) age - young(20s and 30s) majority, democrats and independents majority<br>\n",
    "3) age - very old (60s and 70s) majority, democrats majority<br>\n",
    "\n",
    "\n",
    "All clusters seem to have white population as majority. Gender seems to be uniformly distributed in all clusters.\n",
    "</font></p>\n",
    "\n"
   ]
  },
  {
   "cell_type": "markdown",
   "metadata": {
    "collapsed": true
   },
   "source": [
    "<p style='color:orange'><font size='3'>Upon analyzing the tables for both k =3,5 ,The data points can be seen non-uniformly distributed for k = 5 when compared to k=3 centers</font></p>"
   ]
  },
  {
   "cell_type": "code",
   "execution_count": 61,
   "metadata": {
    "collapsed": false
   },
   "outputs": [
    {
     "name": "stderr",
     "output_type": "stream",
     "text": [
      "Warning message:\n",
      "“did not converge in 10 iterations”"
     ]
    },
    {
     "data": {
      "image/png": "[encoded data removed]",
      "text/plain": [
       "Plot with title “Total Within SS by Various K”"
      ]
     },
     "metadata": {},
     "output_type": "display_data"
    }
   ],
   "source": [
    "rng <-2:20 #K from 2 to 20\n",
    "tries <-100 #Run the K Means algorithm 100 times\n",
    "avg.totw.ss <-integer(length(rng)) #Set up an empty vector to hold all of points\n",
    "for(v in rng){ # For each value of the range variable\n",
    " v.totw.ss <-integer(tries) #Set up an empty vector to hold the 100 tries\n",
    " for(i in 1:tries){\n",
    " k.temp <-kmeans(final_df,centers=v) #Run kmeans\n",
    " v.totw.ss[i] <-k.temp$tot.withinss#Store the total withinss\n",
    " }\n",
    " avg.totw.ss[v-1] <-mean(v.totw.ss) #Average the 100 total withinss\n",
    "}\n",
    "plot(rng,avg.totw.ss,type=\"b\", main=\"Total Within SS by Various K\",\n",
    " ylab=\"Average Total Within Sum of Squares\",\n",
    " xlab=\"Value of K\")  #source : example in lab 3 - 3"
   ]
  },
  {
   "cell_type": "code",
   "execution_count": null,
   "metadata": {
    "collapsed": true
   },
   "outputs": [],
   "source": []
  }
 ],
 "metadata": {
  "anaconda-cloud": {},
  "kernelspec": {
   "display_name": "R",
   "language": "R",
   "name": "ir"
  },
  "language_info": {
   "codemirror_mode": "r",
   "file_extension": ".r",
   "mimetype": "text/x-r-source",
   "name": "R",
   "pygments_lexer": "r",
   "version": "3.3.2"
  }
 },
 "nbformat": 4,
 "nbformat_minor": 0
}

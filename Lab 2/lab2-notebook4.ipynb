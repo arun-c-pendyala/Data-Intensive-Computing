{
 "cells": [
  {
   "cell_type": "markdown",
   "metadata": {},
   "source": [
    "## European soccer database query-answering"
   ]
  },
  {
   "cell_type": "code",
   "execution_count": 14,
   "metadata": {
    "collapsed": false
   },
   "outputs": [],
   "source": [
    "library(dplyr)\n",
    "player_df <- read.csv(file=\"/Users/arunchandrapendyala/Desktop/player.csv\",head=TRUE,sep=\",\")\n",
    "team_df <- read.csv(file=\"/Users/arunchandrapendyala/Desktop/team.csv\",head=TRUE,sep=\",\")"
   ]
  },
  {
   "cell_type": "code",
   "execution_count": 15,
   "metadata": {
    "collapsed": false
   },
   "outputs": [
    {
     "data": {
      "text/html": [
       "<table>\n",
       "<thead><tr><th scope=col>player_id</th><th scope=col>player_name</th><th scope=col>overall_rate</th></tr></thead>\n",
       "<tbody>\n",
       "\t<tr><td>30981            </td><td>Lionel Messi     </td><td>94               </td></tr>\n",
       "\t<tr><td>30893            </td><td>Cristiano Ronaldo</td><td>93               </td></tr>\n",
       "\t<tr><td>30717            </td><td>Gianluigi Buffon </td><td>93               </td></tr>\n",
       "\t<tr><td>30829            </td><td>Wayne Rooney     </td><td>93               </td></tr>\n",
       "\t<tr><td>39989            </td><td>Gregory Coupet   </td><td>92               </td></tr>\n",
       "\t<tr><td>39854            </td><td>Xavi Hernandez   </td><td>92               </td></tr>\n",
       "\t<tr><td>30723            </td><td>Alessandro Nesta </td><td>91               </td></tr>\n",
       "\t<tr><td>30955            </td><td>Andres Iniesta   </td><td>91               </td></tr>\n",
       "\t<tr><td>34520            </td><td>Fabio Cannavaro  </td><td>91               </td></tr>\n",
       "\t<tr><td>30657            </td><td>Iker Casillas    </td><td>91               </td></tr>\n",
       "</tbody>\n",
       "</table>\n"
      ],
      "text/latex": [
       "\\begin{tabular}{r|lll}\n",
       " player\\_id & player\\_name & overall\\_rate\\\\\n",
       "\\hline\n",
       "\t 30981             & Lionel Messi      & 94               \\\\\n",
       "\t 30893             & Cristiano Ronaldo & 93               \\\\\n",
       "\t 30717             & Gianluigi Buffon  & 93               \\\\\n",
       "\t 30829             & Wayne Rooney      & 93               \\\\\n",
       "\t 39989             & Gregory Coupet    & 92               \\\\\n",
       "\t 39854             & Xavi Hernandez    & 92               \\\\\n",
       "\t 30723             & Alessandro Nesta  & 91               \\\\\n",
       "\t 30955             & Andres Iniesta    & 91               \\\\\n",
       "\t 34520             & Fabio Cannavaro   & 91               \\\\\n",
       "\t 30657             & Iker Casillas     & 91               \\\\\n",
       "\\end{tabular}\n"
      ],
      "text/markdown": [
       "\n",
       "player_id | player_name | overall_rate | \n",
       "|---|---|---|---|---|---|---|---|---|---|\n",
       "| 30981             | Lionel Messi      | 94                | \n",
       "| 30893             | Cristiano Ronaldo | 93                | \n",
       "| 30717             | Gianluigi Buffon  | 93                | \n",
       "| 30829             | Wayne Rooney      | 93                | \n",
       "| 39989             | Gregory Coupet    | 92                | \n",
       "| 39854             | Xavi Hernandez    | 92                | \n",
       "| 30723             | Alessandro Nesta  | 91                | \n",
       "| 30955             | Andres Iniesta    | 91                | \n",
       "| 34520             | Fabio Cannavaro   | 91                | \n",
       "| 30657             | Iker Casillas     | 91                | \n",
       "\n",
       "\n"
      ],
      "text/plain": [
       "   player_id player_name       overall_rate\n",
       "1  30981     Lionel Messi      94          \n",
       "2  30893     Cristiano Ronaldo 93          \n",
       "3  30717     Gianluigi Buffon  93          \n",
       "4  30829     Wayne Rooney      93          \n",
       "5  39989     Gregory Coupet    92          \n",
       "6  39854     Xavi Hernandez    92          \n",
       "7  30723     Alessandro Nesta  91          \n",
       "8  30955     Andres Iniesta    91          \n",
       "9  34520     Fabio Cannavaro   91          \n",
       "10 30657     Iker Casillas     91          "
      ]
     },
     "metadata": {},
     "output_type": "display_data"
    }
   ],
   "source": [
    "#Answer the queries\n",
    "#1) Which are the top 10 players by overall rating?\n",
    "\n",
    "arrange(player_df, desc(overall_rate)) %>% select(player_id,player_name,overall_rate) %>% head(n=10)"
   ]
  },
  {
   "cell_type": "code",
   "execution_count": 16,
   "metadata": {
    "collapsed": false
   },
   "outputs": [
    {
     "data": {
      "text/html": [
       "<table>\n",
       "<thead><tr><th scope=col>player_id</th><th scope=col>player_name</th><th scope=col>gk_rate</th></tr></thead>\n",
       "<tbody>\n",
       "\t<tr><td> 30717           </td><td>Gianluigi Buffon </td><td>449              </td></tr>\n",
       "\t<tr><td> 39989           </td><td>Gregory Coupet   </td><td>447              </td></tr>\n",
       "\t<tr><td> 30859           </td><td>Petr Cech        </td><td>445              </td></tr>\n",
       "\t<tr><td> 30657           </td><td>Iker Casillas    </td><td>442              </td></tr>\n",
       "\t<tr><td> 27299           </td><td>Manuel Neuer     </td><td>440              </td></tr>\n",
       "\t<tr><td> 30989           </td><td>Julio Cesar      </td><td>438              </td></tr>\n",
       "\t<tr><td> 24503           </td><td>Sebastian Frey   </td><td>437              </td></tr>\n",
       "\t<tr><td> 30726           </td><td>Edwin van der Sar</td><td>436              </td></tr>\n",
       "\t<tr><td>182917           </td><td>David De Gea     </td><td>429              </td></tr>\n",
       "\t<tr><td> 30622           </td><td>Paul Robinson    </td><td>426              </td></tr>\n",
       "</tbody>\n",
       "</table>\n"
      ],
      "text/latex": [
       "\\begin{tabular}{r|lll}\n",
       " player\\_id & player\\_name & gk\\_rate\\\\\n",
       "\\hline\n",
       "\t  30717            & Gianluigi Buffon  & 449              \\\\\n",
       "\t  39989            & Gregory Coupet    & 447              \\\\\n",
       "\t  30859            & Petr Cech         & 445              \\\\\n",
       "\t  30657            & Iker Casillas     & 442              \\\\\n",
       "\t  27299            & Manuel Neuer      & 440              \\\\\n",
       "\t  30989            & Julio Cesar       & 438              \\\\\n",
       "\t  24503            & Sebastian Frey    & 437              \\\\\n",
       "\t  30726            & Edwin van der Sar & 436              \\\\\n",
       "\t 182917            & David De Gea      & 429              \\\\\n",
       "\t  30622            & Paul Robinson     & 426              \\\\\n",
       "\\end{tabular}\n"
      ],
      "text/markdown": [
       "\n",
       "player_id | player_name | gk_rate | \n",
       "|---|---|---|---|---|---|---|---|---|---|\n",
       "|  30717            | Gianluigi Buffon  | 449               | \n",
       "|  39989            | Gregory Coupet    | 447               | \n",
       "|  30859            | Petr Cech         | 445               | \n",
       "|  30657            | Iker Casillas     | 442               | \n",
       "|  27299            | Manuel Neuer      | 440               | \n",
       "|  30989            | Julio Cesar       | 438               | \n",
       "|  24503            | Sebastian Frey    | 437               | \n",
       "|  30726            | Edwin van der Sar | 436               | \n",
       "| 182917            | David De Gea      | 429               | \n",
       "|  30622            | Paul Robinson     | 426               | \n",
       "\n",
       "\n"
      ],
      "text/plain": [
       "   player_id player_name       gk_rate\n",
       "1   30717    Gianluigi Buffon  449    \n",
       "2   39989    Gregory Coupet    447    \n",
       "3   30859    Petr Cech         445    \n",
       "4   30657    Iker Casillas     442    \n",
       "5   27299    Manuel Neuer      440    \n",
       "6   30989    Julio Cesar       438    \n",
       "7   24503    Sebastian Frey    437    \n",
       "8   30726    Edwin van der Sar 436    \n",
       "9  182917    David De Gea      429    \n",
       "10  30622    Paul Robinson     426    "
      ]
     },
     "metadata": {},
     "output_type": "display_data"
    }
   ],
   "source": [
    "#2) Which are the top 10 goalkeepers by sum of gk attributes?\n",
    "\n",
    "arrange(player_df, desc(gk_rate)) %>% select(player_id,player_name,gk_rate) %>% head(n=10)"
   ]
  },
  {
   "cell_type": "code",
   "execution_count": 17,
   "metadata": {
    "collapsed": false
   },
   "outputs": [
    {
     "data": {
      "text/html": [
       "<table>\n",
       "<thead><tr><th scope=col>player_id</th><th scope=col>player_name</th><th scope=col>number_of_appearances</th></tr></thead>\n",
       "<tbody>\n",
       "\t<tr><td>31293               </td><td>Steve Mandanda      </td><td>300                 </td></tr>\n",
       "\t<tr><td>41097               </td><td>Stephane Ruffier    </td><td>294                 </td></tr>\n",
       "\t<tr><td>33764               </td><td>Gorka Iraizoz Moreno</td><td>286                 </td></tr>\n",
       "\t<tr><td>42422               </td><td>Samir Handanovic    </td><td>286                 </td></tr>\n",
       "\t<tr><td>26295               </td><td>Hugo Lloris         </td><td>282                 </td></tr>\n",
       "\t<tr><td>31465               </td><td>Tim Howard          </td><td>282                 </td></tr>\n",
       "\t<tr><td>31432               </td><td>Joe Hart            </td><td>275                 </td></tr>\n",
       "\t<tr><td>26168               </td><td>Cedric Carrasso     </td><td>268                 </td></tr>\n",
       "\t<tr><td>26399               </td><td>Daniel Congre       </td><td>262                 </td></tr>\n",
       "\t<tr><td>94550               </td><td>Moussa Sissoko      </td><td>260                 </td></tr>\n",
       "</tbody>\n",
       "</table>\n"
      ],
      "text/latex": [
       "\\begin{tabular}{r|lll}\n",
       " player\\_id & player\\_name & number\\_of\\_appearances\\\\\n",
       "\\hline\n",
       "\t 31293                & Steve Mandanda       & 300                 \\\\\n",
       "\t 41097                & Stephane Ruffier     & 294                 \\\\\n",
       "\t 33764                & Gorka Iraizoz Moreno & 286                 \\\\\n",
       "\t 42422                & Samir Handanovic     & 286                 \\\\\n",
       "\t 26295                & Hugo Lloris          & 282                 \\\\\n",
       "\t 31465                & Tim Howard           & 282                 \\\\\n",
       "\t 31432                & Joe Hart             & 275                 \\\\\n",
       "\t 26168                & Cedric Carrasso      & 268                 \\\\\n",
       "\t 26399                & Daniel Congre        & 262                 \\\\\n",
       "\t 94550                & Moussa Sissoko       & 260                 \\\\\n",
       "\\end{tabular}\n"
      ],
      "text/markdown": [
       "\n",
       "player_id | player_name | number_of_appearances | \n",
       "|---|---|---|---|---|---|---|---|---|---|\n",
       "| 31293                | Steve Mandanda       | 300                  | \n",
       "| 41097                | Stephane Ruffier     | 294                  | \n",
       "| 33764                | Gorka Iraizoz Moreno | 286                  | \n",
       "| 42422                | Samir Handanovic     | 286                  | \n",
       "| 26295                | Hugo Lloris          | 282                  | \n",
       "| 31465                | Tim Howard           | 282                  | \n",
       "| 31432                | Joe Hart             | 275                  | \n",
       "| 26168                | Cedric Carrasso      | 268                  | \n",
       "| 26399                | Daniel Congre        | 262                  | \n",
       "| 94550                | Moussa Sissoko       | 260                  | \n",
       "\n",
       "\n"
      ],
      "text/plain": [
       "   player_id player_name          number_of_appearances\n",
       "1  31293     Steve Mandanda       300                  \n",
       "2  41097     Stephane Ruffier     294                  \n",
       "3  33764     Gorka Iraizoz Moreno 286                  \n",
       "4  42422     Samir Handanovic     286                  \n",
       "5  26295     Hugo Lloris          282                  \n",
       "6  31465     Tim Howard           282                  \n",
       "7  31432     Joe Hart             275                  \n",
       "8  26168     Cedric Carrasso      268                  \n",
       "9  26399     Daniel Congre        262                  \n",
       "10 94550     Moussa Sissoko       260                  "
      ]
     },
     "metadata": {},
     "output_type": "display_data"
    }
   ],
   "source": [
    "#3) Which are the top 10 players by number of appearances (with any team they played with)?\n",
    "\n",
    "arrange(player_df, desc(num_appear)) %>% select(player_id,player_name,number_of_appearances = num_appear) %>% head(n=10)"
   ]
  },
  {
   "cell_type": "code",
   "execution_count": 18,
   "metadata": {
    "collapsed": false
   },
   "outputs": [
    {
     "data": {
      "text/html": [
       "<table>\n",
       "<thead><tr><th scope=col>player_id</th><th scope=col>player_name</th><th scope=col>number_of_leagues</th></tr></thead>\n",
       "<tbody>\n",
       "\t<tr><td> 42119               </td><td>Gelson Fernandes     </td><td>6                    </td></tr>\n",
       "\t<tr><td>178538               </td><td>Filip Djuricic       </td><td>5                    </td></tr>\n",
       "\t<tr><td>116750               </td><td>Ricky van Wolfswinkel</td><td>5                    </td></tr>\n",
       "\t<tr><td>156534               </td><td>Aleksandar Tonev     </td><td>4                    </td></tr>\n",
       "\t<tr><td>129918               </td><td>Alfred Finnbogason   </td><td>4                    </td></tr>\n",
       "\t<tr><td> 25816               </td><td>Almen Abdi           </td><td>4                    </td></tr>\n",
       "\t<tr><td> 93484               </td><td>Aly Cissokho         </td><td>4                    </td></tr>\n",
       "\t<tr><td> 46509               </td><td>Angel Di Maria       </td><td>4                    </td></tr>\n",
       "\t<tr><td> 96643               </td><td>Bojan Krkic          </td><td>4                    </td></tr>\n",
       "\t<tr><td> 38229               </td><td>Bryan Ruiz           </td><td>4                    </td></tr>\n",
       "</tbody>\n",
       "</table>\n"
      ],
      "text/latex": [
       "\\begin{tabular}{r|lll}\n",
       " player\\_id & player\\_name & number\\_of\\_leagues\\\\\n",
       "\\hline\n",
       "\t  42119                & Gelson Fernandes      & 6                    \\\\\n",
       "\t 178538                & Filip Djuricic        & 5                    \\\\\n",
       "\t 116750                & Ricky van Wolfswinkel & 5                    \\\\\n",
       "\t 156534                & Aleksandar Tonev      & 4                    \\\\\n",
       "\t 129918                & Alfred Finnbogason    & 4                    \\\\\n",
       "\t  25816                & Almen Abdi            & 4                    \\\\\n",
       "\t  93484                & Aly Cissokho          & 4                    \\\\\n",
       "\t  46509                & Angel Di Maria        & 4                    \\\\\n",
       "\t  96643                & Bojan Krkic           & 4                    \\\\\n",
       "\t  38229                & Bryan Ruiz            & 4                    \\\\\n",
       "\\end{tabular}\n"
      ],
      "text/markdown": [
       "\n",
       "player_id | player_name | number_of_leagues | \n",
       "|---|---|---|---|---|---|---|---|---|---|\n",
       "|  42119                | Gelson Fernandes      | 6                     | \n",
       "| 178538                | Filip Djuricic        | 5                     | \n",
       "| 116750                | Ricky van Wolfswinkel | 5                     | \n",
       "| 156534                | Aleksandar Tonev      | 4                     | \n",
       "| 129918                | Alfred Finnbogason    | 4                     | \n",
       "|  25816                | Almen Abdi            | 4                     | \n",
       "|  93484                | Aly Cissokho          | 4                     | \n",
       "|  46509                | Angel Di Maria        | 4                     | \n",
       "|  96643                | Bojan Krkic           | 4                     | \n",
       "|  38229                | Bryan Ruiz            | 4                     | \n",
       "\n",
       "\n"
      ],
      "text/plain": [
       "   player_id player_name           number_of_leagues\n",
       "1   42119    Gelson Fernandes      6                \n",
       "2  178538    Filip Djuricic        5                \n",
       "3  116750    Ricky van Wolfswinkel 5                \n",
       "4  156534    Aleksandar Tonev      4                \n",
       "5  129918    Alfred Finnbogason    4                \n",
       "6   25816    Almen Abdi            4                \n",
       "7   93484    Aly Cissokho          4                \n",
       "8   46509    Angel Di Maria        4                \n",
       "9   96643    Bojan Krkic           4                \n",
       "10  38229    Bryan Ruiz            4                "
      ]
     },
     "metadata": {},
     "output_type": "display_data"
    }
   ],
   "source": [
    "#4)  Which are the top 10 players by number of leagues they played in?\n",
    "\n",
    "arrange(player_df, desc(leag_num)) %>% select(player_id,player_name,number_of_leagues = leag_num) %>% head(n=10)\n"
   ]
  },
  {
   "cell_type": "code",
   "execution_count": 19,
   "metadata": {
    "collapsed": false
   },
   "outputs": [
    {
     "data": {
      "text/html": [
       "<table>\n",
       "<thead><tr><th scope=col>team_id</th><th scope=col>team_name</th><th scope=col>sum_of_buildup</th></tr></thead>\n",
       "<tbody>\n",
       "\t<tr><td>  9804                    </td><td>Torino                    </td><td>209                       </td></tr>\n",
       "\t<tr><td>  8600                    </td><td>Udinese                   </td><td>205                       </td></tr>\n",
       "\t<tr><td>  8194                    </td><td>Fortuna Düsseldorf        </td><td>198                       </td></tr>\n",
       "\t<tr><td>  8033                    </td><td>Podbeskidzie Bielsko-Biała</td><td>193                       </td></tr>\n",
       "\t<tr><td>  8245                    </td><td>Korona Kielce             </td><td>192                       </td></tr>\n",
       "\t<tr><td>208931                    </td><td>Carpi                     </td><td>190                       </td></tr>\n",
       "\t<tr><td>  8244                    </td><td>Widzew Łódź               </td><td>190                       </td></tr>\n",
       "\t<tr><td>  8024                    </td><td>Widzew Łódź               </td><td>190                       </td></tr>\n",
       "\t<tr><td>  9830                    </td><td>FC Nantes                 </td><td>189                       </td></tr>\n",
       "\t<tr><td>  8543                    </td><td>Lazio                     </td><td>188                       </td></tr>\n",
       "</tbody>\n",
       "</table>\n"
      ],
      "text/latex": [
       "\\begin{tabular}{r|lll}\n",
       " team\\_id & team\\_name & sum\\_of\\_buildup\\\\\n",
       "\\hline\n",
       "\t   9804                     & Torino                     & 209                       \\\\\n",
       "\t   8600                     & Udinese                    & 205                       \\\\\n",
       "\t   8194                     & Fortuna Düsseldorf         & 198                       \\\\\n",
       "\t   8033                     & Podbeskidzie Bielsko-Biała & 193                       \\\\\n",
       "\t   8245                     & Korona Kielce              & 192                       \\\\\n",
       "\t 208931                     & Carpi                      & 190                       \\\\\n",
       "\t   8244                     & Widzew Łódź                & 190                       \\\\\n",
       "\t   8024                     & Widzew Łódź                & 190                       \\\\\n",
       "\t   9830                     & FC Nantes                  & 189                       \\\\\n",
       "\t   8543                     & Lazio                      & 188                       \\\\\n",
       "\\end{tabular}\n"
      ],
      "text/markdown": [
       "\n",
       "team_id | team_name | sum_of_buildup | \n",
       "|---|---|---|---|---|---|---|---|---|---|\n",
       "|   9804                     | Torino                     | 209                        | \n",
       "|   8600                     | Udinese                    | 205                        | \n",
       "|   8194                     | Fortuna Düsseldorf         | 198                        | \n",
       "|   8033                     | Podbeskidzie Bielsko-Biała | 193                        | \n",
       "|   8245                     | Korona Kielce              | 192                        | \n",
       "| 208931                     | Carpi                      | 190                        | \n",
       "|   8244                     | Widzew Łódź                | 190                        | \n",
       "|   8024                     | Widzew Łódź                | 190                        | \n",
       "|   9830                     | FC Nantes                  | 189                        | \n",
       "|   8543                     | Lazio                      | 188                        | \n",
       "\n",
       "\n"
      ],
      "text/plain": [
       "   team_id team_name                  sum_of_buildup\n",
       "1    9804  Torino                     209           \n",
       "2    8600  Udinese                    205           \n",
       "3    8194  Fortuna Düsseldorf         198           \n",
       "4    8033  Podbeskidzie Bielsko-Biała 193           \n",
       "5    8245  Korona Kielce              192           \n",
       "6  208931  Carpi                      190           \n",
       "7    8244  Widzew Łódź                190           \n",
       "8    8024  Widzew Łódź                190           \n",
       "9    9830  FC Nantes                  189           \n",
       "10   8543  Lazio                      188           "
      ]
     },
     "metadata": {},
     "output_type": "display_data"
    }
   ],
   "source": [
    "#5) Which are the top 10 teams by sum of build up play attributes?\n",
    "\n",
    "arrange(team_df, desc(buildup)) %>% select(team_id,team_name,sum_of_buildup = buildup) %>% head(n=10)\n"
   ]
  },
  {
   "cell_type": "code",
   "execution_count": 20,
   "metadata": {
    "collapsed": false
   },
   "outputs": [
    {
     "data": {
      "text/html": [
       "<table>\n",
       "<thead><tr><th scope=col>team_id</th><th scope=col>team_name</th><th scope=col>sum_of_chance_creation</th></tr></thead>\n",
       "<tbody>\n",
       "\t<tr><td>8543               </td><td>Lazio              </td><td>220                </td></tr>\n",
       "\t<tr><td>8697               </td><td>SV Werder Bremen   </td><td>216                </td></tr>\n",
       "\t<tr><td>9875               </td><td>Napoli             </td><td>215                </td></tr>\n",
       "\t<tr><td>8485               </td><td>Aberdeen           </td><td>210                </td></tr>\n",
       "\t<tr><td>8178               </td><td>Bayer 04 Leverkusen</td><td>210                </td></tr>\n",
       "\t<tr><td>8658               </td><td>Birmingham City    </td><td>210                </td></tr>\n",
       "\t<tr><td>8191               </td><td>Burnley            </td><td>210                </td></tr>\n",
       "\t<tr><td>8344               </td><td>Cardiff City       </td><td>210                </td></tr>\n",
       "\t<tr><td>9860               </td><td>Heart of Midlothian</td><td>210                </td></tr>\n",
       "\t<tr><td>8456               </td><td>Manchester City    </td><td>210                </td></tr>\n",
       "</tbody>\n",
       "</table>\n"
      ],
      "text/latex": [
       "\\begin{tabular}{r|lll}\n",
       " team\\_id & team\\_name & sum\\_of\\_chance\\_creation\\\\\n",
       "\\hline\n",
       "\t 8543                & Lazio               & 220                \\\\\n",
       "\t 8697                & SV Werder Bremen    & 216                \\\\\n",
       "\t 9875                & Napoli              & 215                \\\\\n",
       "\t 8485                & Aberdeen            & 210                \\\\\n",
       "\t 8178                & Bayer 04 Leverkusen & 210                \\\\\n",
       "\t 8658                & Birmingham City     & 210                \\\\\n",
       "\t 8191                & Burnley             & 210                \\\\\n",
       "\t 8344                & Cardiff City        & 210                \\\\\n",
       "\t 9860                & Heart of Midlothian & 210                \\\\\n",
       "\t 8456                & Manchester City     & 210                \\\\\n",
       "\\end{tabular}\n"
      ],
      "text/markdown": [
       "\n",
       "team_id | team_name | sum_of_chance_creation | \n",
       "|---|---|---|---|---|---|---|---|---|---|\n",
       "| 8543                | Lazio               | 220                 | \n",
       "| 8697                | SV Werder Bremen    | 216                 | \n",
       "| 9875                | Napoli              | 215                 | \n",
       "| 8485                | Aberdeen            | 210                 | \n",
       "| 8178                | Bayer 04 Leverkusen | 210                 | \n",
       "| 8658                | Birmingham City     | 210                 | \n",
       "| 8191                | Burnley             | 210                 | \n",
       "| 8344                | Cardiff City        | 210                 | \n",
       "| 9860                | Heart of Midlothian | 210                 | \n",
       "| 8456                | Manchester City     | 210                 | \n",
       "\n",
       "\n"
      ],
      "text/plain": [
       "   team_id team_name           sum_of_chance_creation\n",
       "1  8543    Lazio               220                   \n",
       "2  8697    SV Werder Bremen    216                   \n",
       "3  9875    Napoli              215                   \n",
       "4  8485    Aberdeen            210                   \n",
       "5  8178    Bayer 04 Leverkusen 210                   \n",
       "6  8658    Birmingham City     210                   \n",
       "7  8191    Burnley             210                   \n",
       "8  8344    Cardiff City        210                   \n",
       "9  9860    Heart of Midlothian 210                   \n",
       "10 8456    Manchester City     210                   "
      ]
     },
     "metadata": {},
     "output_type": "display_data"
    }
   ],
   "source": [
    "#6)  Which are the top 10 teams by sum of chance creation attributes?\n",
    "arrange(team_df, desc(chance),team_name) %>% select(team_id,team_name,sum_of_chance_creation = chance) %>% head(n=10)\n"
   ]
  },
  {
   "cell_type": "code",
   "execution_count": 21,
   "metadata": {
    "collapsed": false
   },
   "outputs": [
    {
     "data": {
      "text/html": [
       "<table>\n",
       "<thead><tr><th scope=col>team_id</th><th scope=col>team_name</th><th scope=col>sum_of_defence_attributes</th></tr></thead>\n",
       "<tbody>\n",
       "\t<tr><td>8350                 </td><td>1. FC Kaiserslautern </td><td>210                  </td></tr>\n",
       "\t<tr><td>8481                 </td><td>AS Nancy-Lorraine    </td><td>210                  </td></tr>\n",
       "\t<tr><td>9993                 </td><td>Beerschot AC         </td><td>210                  </td></tr>\n",
       "\t<tr><td>8658                 </td><td>Birmingham City      </td><td>210                  </td></tr>\n",
       "\t<tr><td>8483                 </td><td>Blackpool            </td><td>210                  </td></tr>\n",
       "\t<tr><td>8678                 </td><td>Bournemouth          </td><td>210                  </td></tr>\n",
       "\t<tr><td>8344                 </td><td>Cardiff City         </td><td>210                  </td></tr>\n",
       "\t<tr><td>9904                 </td><td>Hannover 96          </td><td>210                  </td></tr>\n",
       "\t<tr><td>8667                 </td><td>Hull City            </td><td>210                  </td></tr>\n",
       "\t<tr><td>1957                 </td><td>Jagiellonia Białystok</td><td>210                  </td></tr>\n",
       "</tbody>\n",
       "</table>\n"
      ],
      "text/latex": [
       "\\begin{tabular}{r|lll}\n",
       " team\\_id & team\\_name & sum\\_of\\_defence\\_attributes\\\\\n",
       "\\hline\n",
       "\t 8350                  & 1. FC Kaiserslautern  & 210                  \\\\\n",
       "\t 8481                  & AS Nancy-Lorraine     & 210                  \\\\\n",
       "\t 9993                  & Beerschot AC          & 210                  \\\\\n",
       "\t 8658                  & Birmingham City       & 210                  \\\\\n",
       "\t 8483                  & Blackpool             & 210                  \\\\\n",
       "\t 8678                  & Bournemouth           & 210                  \\\\\n",
       "\t 8344                  & Cardiff City          & 210                  \\\\\n",
       "\t 9904                  & Hannover 96           & 210                  \\\\\n",
       "\t 8667                  & Hull City             & 210                  \\\\\n",
       "\t 1957                  & Jagiellonia Białystok & 210                  \\\\\n",
       "\\end{tabular}\n"
      ],
      "text/markdown": [
       "\n",
       "team_id | team_name | sum_of_defence_attributes | \n",
       "|---|---|---|---|---|---|---|---|---|---|\n",
       "| 8350                  | 1. FC Kaiserslautern  | 210                   | \n",
       "| 8481                  | AS Nancy-Lorraine     | 210                   | \n",
       "| 9993                  | Beerschot AC          | 210                   | \n",
       "| 8658                  | Birmingham City       | 210                   | \n",
       "| 8483                  | Blackpool             | 210                   | \n",
       "| 8678                  | Bournemouth           | 210                   | \n",
       "| 8344                  | Cardiff City          | 210                   | \n",
       "| 9904                  | Hannover 96           | 210                   | \n",
       "| 8667                  | Hull City             | 210                   | \n",
       "| 1957                  | Jagiellonia Białystok | 210                   | \n",
       "\n",
       "\n"
      ],
      "text/plain": [
       "   team_id team_name             sum_of_defence_attributes\n",
       "1  8350    1. FC Kaiserslautern  210                      \n",
       "2  8481    AS Nancy-Lorraine     210                      \n",
       "3  9993    Beerschot AC          210                      \n",
       "4  8658    Birmingham City       210                      \n",
       "5  8483    Blackpool             210                      \n",
       "6  8678    Bournemouth           210                      \n",
       "7  8344    Cardiff City          210                      \n",
       "8  9904    Hannover 96           210                      \n",
       "9  8667    Hull City             210                      \n",
       "10 1957    Jagiellonia Białystok 210                      "
      ]
     },
     "metadata": {},
     "output_type": "display_data"
    }
   ],
   "source": [
    "#7) Which are the top 10 teams by sum of defense attributes?\n",
    "\n",
    "arrange(team_df, desc(defence),team_name) %>% select(team_id,team_name,sum_of_defence_attributes = defence) %>% head(n=10)\n"
   ]
  },
  {
   "cell_type": "code",
   "execution_count": 22,
   "metadata": {
    "collapsed": false
   },
   "outputs": [
    {
     "data": {
      "text/html": [
       "<table>\n",
       "<thead><tr><th scope=col>team_id</th><th scope=col>team_name</th><th scope=col>sum_of_goals</th></tr></thead>\n",
       "<tbody>\n",
       "\t<tr><td> 8634            </td><td>FC Barcelona     </td><td>849              </td></tr>\n",
       "\t<tr><td> 8633            </td><td>Real Madrid CF   </td><td>843              </td></tr>\n",
       "\t<tr><td> 9925            </td><td>Celtic           </td><td>695              </td></tr>\n",
       "\t<tr><td> 9823            </td><td>FC Bayern Munich </td><td>653              </td></tr>\n",
       "\t<tr><td> 8640            </td><td>PSV              </td><td>652              </td></tr>\n",
       "\t<tr><td> 8593            </td><td>Ajax             </td><td>647              </td></tr>\n",
       "\t<tr><td> 9931            </td><td>FC Basel         </td><td>619              </td></tr>\n",
       "\t<tr><td> 8456            </td><td>Manchester City  </td><td>606              </td></tr>\n",
       "\t<tr><td> 8455            </td><td>Chelsea          </td><td>583              </td></tr>\n",
       "\t<tr><td>10260            </td><td>Manchester United</td><td>582              </td></tr>\n",
       "</tbody>\n",
       "</table>\n"
      ],
      "text/latex": [
       "\\begin{tabular}{r|lll}\n",
       " team\\_id & team\\_name & sum\\_of\\_goals\\\\\n",
       "\\hline\n",
       "\t  8634             & FC Barcelona      & 849              \\\\\n",
       "\t  8633             & Real Madrid CF    & 843              \\\\\n",
       "\t  9925             & Celtic            & 695              \\\\\n",
       "\t  9823             & FC Bayern Munich  & 653              \\\\\n",
       "\t  8640             & PSV               & 652              \\\\\n",
       "\t  8593             & Ajax              & 647              \\\\\n",
       "\t  9931             & FC Basel          & 619              \\\\\n",
       "\t  8456             & Manchester City   & 606              \\\\\n",
       "\t  8455             & Chelsea           & 583              \\\\\n",
       "\t 10260             & Manchester United & 582              \\\\\n",
       "\\end{tabular}\n"
      ],
      "text/markdown": [
       "\n",
       "team_id | team_name | sum_of_goals | \n",
       "|---|---|---|---|---|---|---|---|---|---|\n",
       "|  8634             | FC Barcelona      | 849               | \n",
       "|  8633             | Real Madrid CF    | 843               | \n",
       "|  9925             | Celtic            | 695               | \n",
       "|  9823             | FC Bayern Munich  | 653               | \n",
       "|  8640             | PSV               | 652               | \n",
       "|  8593             | Ajax              | 647               | \n",
       "|  9931             | FC Basel          | 619               | \n",
       "|  8456             | Manchester City   | 606               | \n",
       "|  8455             | Chelsea           | 583               | \n",
       "| 10260             | Manchester United | 582               | \n",
       "\n",
       "\n"
      ],
      "text/plain": [
       "   team_id team_name         sum_of_goals\n",
       "1   8634   FC Barcelona      849         \n",
       "2   8633   Real Madrid CF    843         \n",
       "3   9925   Celtic            695         \n",
       "4   9823   FC Bayern Munich  653         \n",
       "5   8640   PSV               652         \n",
       "6   8593   Ajax              647         \n",
       "7   9931   FC Basel          619         \n",
       "8   8456   Manchester City   606         \n",
       "9   8455   Chelsea           583         \n",
       "10 10260   Manchester United 582         "
      ]
     },
     "metadata": {},
     "output_type": "display_data"
    }
   ],
   "source": [
    "# 8) Which are the top 10 teams by number of scored goals?\n",
    " \n",
    "arrange(team_df, desc(goals_total)) %>% select(team_id,team_name,sum_of_goals = goals_total) %>% head(n=10)\n"
   ]
  },
  {
   "cell_type": "code",
   "execution_count": null,
   "metadata": {
    "collapsed": true
   },
   "outputs": [],
   "source": []
  }
 ],
 "metadata": {
  "anaconda-cloud": {},
  "kernelspec": {
   "display_name": "R",
   "language": "R",
   "name": "ir"
  },
  "language_info": {
   "codemirror_mode": "r",
   "file_extension": ".r",
   "mimetype": "text/x-r-source",
   "name": "R",
   "pygments_lexer": "r",
   "version": "3.3.2"
  }
 },
 "nbformat": 4,
 "nbformat_minor": 0
}

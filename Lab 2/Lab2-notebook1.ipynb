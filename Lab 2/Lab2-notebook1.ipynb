{
 "cells": [
  {
   "cell_type": "markdown",
   "metadata": {},
   "source": [
    "## Implementation of R vignette"
   ]
  },
  {
   "cell_type": "code",
   "execution_count": 2,
   "metadata": {
    "collapsed": false
   },
   "outputs": [
    {
     "name": "stderr",
     "output_type": "stream",
     "text": [
      "Updating HTML index of packages in '.Library'\n",
      "Making 'packages.html' ... done\n",
      "Warning message in install.packages(\"dplyr\"):\n",
      "“installation of package ‘dplyr’ had non-zero exit status”Updating HTML index of packages in '.Library'\n",
      "Making 'packages.html' ... done\n"
     ]
    }
   ],
   "source": [
    "#install.packages(\"nycflights13\")\n",
    "#install.packages(\"dplyr\")"
   ]
  },
  {
   "cell_type": "code",
   "execution_count": 8,
   "metadata": {
    "collapsed": false
   },
   "outputs": [],
   "source": [
    "library(dplyr)\n",
    "nyc_db <- src_sqlite(\"/Users/arunchandrapendyala/Desktop/nyc_db.sqlite3\", create = T)"
   ]
  },
  {
   "cell_type": "code",
   "execution_count": 9,
   "metadata": {
    "collapsed": false
   },
   "outputs": [],
   "source": [
    "library(nycflights13)\n",
    "flights_sqlite <- copy_to(nyc_db, flights, temporary = FALSE, indexes = list(\n",
    "  c(\"year\", \"month\", \"day\"), \"carrier\", \"tailnum\"))"
   ]
  },
  {
   "cell_type": "code",
   "execution_count": 10,
   "metadata": {
    "collapsed": false
   },
   "outputs": [
    {
     "name": "stderr",
     "output_type": "stream",
     "text": [
      "Caching nycflights db at /var/folders/zz/0n1sj6k12yb0zn3kdpw2wntr0000gn/T//RtmpsPppYz/nycflights13.sqlite\n",
      "Creating table: airlines\n",
      "Creating table: airports\n",
      "Creating table: flights\n",
      "Creating table: planes\n",
      "Creating table: weather\n"
     ]
    },
    {
     "data": {
      "text/plain": [
       "Source:   query [?? x 19]\n",
       "Database: sqlite 3.11.1 [/var/folders/zz/0n1sj6k12yb0zn3kdpw2wntr0000gn/T//RtmpsPppYz/nycflights13.sqlite]\n",
       "\n",
       "    year month   day dep_time sched_dep_time dep_delay arr_time sched_arr_time\n",
       "   <int> <int> <int>    <int>          <int>     <dbl>    <int>          <int>\n",
       "1   2013     1     1      517            515         2      830            819\n",
       "2   2013     1     1      533            529         4      850            830\n",
       "3   2013     1     1      542            540         2      923            850\n",
       "4   2013     1     1      544            545        -1     1004           1022\n",
       "5   2013     1     1      554            600        -6      812            837\n",
       "6   2013     1     1      554            558        -4      740            728\n",
       "7   2013     1     1      555            600        -5      913            854\n",
       "8   2013     1     1      557            600        -3      709            723\n",
       "9   2013     1     1      557            600        -3      838            846\n",
       "10  2013     1     1      558            600        -2      753            745\n",
       "# ... with more rows, and 11 more variables: arr_delay <dbl>, carrier <chr>,\n",
       "#   flight <int>, tailnum <chr>, origin <chr>, dest <chr>, air_time <dbl>,\n",
       "#   distance <dbl>, hour <dbl>, minute <dbl>, time_hour <dbl>"
      ]
     },
     "metadata": {},
     "output_type": "display_data"
    }
   ],
   "source": [
    "flights_sqlite <- tbl(nycflights13_sqlite(), \"flights\")\n",
    "flights_sqlite"
   ]
  },
  {
   "cell_type": "code",
   "execution_count": 11,
   "metadata": {
    "collapsed": false
   },
   "outputs": [
    {
     "data": {
      "text/plain": [
       "Source:   query [?? x 19]\n",
       "Database: sqlite 3.11.1 [/Users/arunchandrapendyala/Desktop/my_db.sqlite3]\n",
       "\n",
       "    year month   day dep_time sched_dep_time dep_delay arr_time sched_arr_time\n",
       "   <int> <int> <int>    <int>          <int>     <dbl>    <int>          <int>\n",
       "1   2013     1     1      517            515         2      830            819\n",
       "2   2013     1     1      533            529         4      850            830\n",
       "3   2013     1     1      542            540         2      923            850\n",
       "4   2013     1     1      544            545        -1     1004           1022\n",
       "5   2013     1     1      554            600        -6      812            837\n",
       "6   2013     1     1      554            558        -4      740            728\n",
       "7   2013     1     1      555            600        -5      913            854\n",
       "8   2013     1     1      557            600        -3      709            723\n",
       "9   2013     1     1      557            600        -3      838            846\n",
       "10  2013     1     1      558            600        -2      753            745\n",
       "# ... with more rows, and 11 more variables: arr_delay <dbl>, carrier <chr>,\n",
       "#   flight <int>, tailnum <chr>, origin <chr>, dest <chr>, air_time <dbl>,\n",
       "#   distance <dbl>, hour <dbl>, minute <dbl>, time_hour <dbl>"
      ]
     },
     "metadata": {},
     "output_type": "display_data"
    }
   ],
   "source": [
    "tbl(my_db, sql(\"SELECT * FROM flights\"))"
   ]
  },
  {
   "cell_type": "code",
   "execution_count": 12,
   "metadata": {
    "collapsed": false
   },
   "outputs": [
    {
     "data": {
      "text/plain": [
       "Source:   query [?? x 5]\n",
       "Database: sqlite 3.11.1 [/var/folders/zz/0n1sj6k12yb0zn3kdpw2wntr0000gn/T//RtmpsPppYz/nycflights13.sqlite]\n",
       "\n",
       "    year month   day dep_delay arr_delay\n",
       "   <int> <int> <int>     <dbl>     <dbl>\n",
       "1   2013     1     1         2        11\n",
       "2   2013     1     1         4        20\n",
       "3   2013     1     1         2        33\n",
       "4   2013     1     1        -1       -18\n",
       "5   2013     1     1        -6       -25\n",
       "6   2013     1     1        -4        12\n",
       "7   2013     1     1        -5        19\n",
       "8   2013     1     1        -3       -14\n",
       "9   2013     1     1        -3        -8\n",
       "10  2013     1     1        -2         8\n",
       "# ... with more rows"
      ]
     },
     "metadata": {},
     "output_type": "display_data"
    }
   ],
   "source": [
    "select(flights_sqlite, year:day, dep_delay, arr_delay)"
   ]
  },
  {
   "cell_type": "code",
   "execution_count": 13,
   "metadata": {
    "collapsed": false
   },
   "outputs": [
    {
     "data": {
      "text/plain": [
       "Source:   query [?? x 19]\n",
       "Database: sqlite 3.11.1 [/var/folders/zz/0n1sj6k12yb0zn3kdpw2wntr0000gn/T//RtmpsPppYz/nycflights13.sqlite]\n",
       "\n",
       "    year month   day dep_time sched_dep_time dep_delay arr_time sched_arr_time\n",
       "   <int> <int> <int>    <int>          <int>     <dbl>    <int>          <int>\n",
       "1   2013     1     1      848           1835       853     1001           1950\n",
       "2   2013     1     1     1815           1325       290     2120           1542\n",
       "3   2013     1     1     1842           1422       260     1958           1535\n",
       "4   2013     1     1     2115           1700       255     2330           1920\n",
       "5   2013     1     1     2205           1720       285       46           2040\n",
       "6   2013     1     1     2343           1724       379      314           1938\n",
       "7   2013     1     2     1332            904       268     1616           1128\n",
       "8   2013     1     2     1412            838       334     1710           1147\n",
       "9   2013     1     2     1607           1030       337     2003           1355\n",
       "10  2013     1     2     2131           1512       379     2340           1741\n",
       "# ... with more rows, and 11 more variables: arr_delay <dbl>, carrier <chr>,\n",
       "#   flight <int>, tailnum <chr>, origin <chr>, dest <chr>, air_time <dbl>,\n",
       "#   distance <dbl>, hour <dbl>, minute <dbl>, time_hour <dbl>"
      ]
     },
     "metadata": {},
     "output_type": "display_data"
    }
   ],
   "source": [
    "c1 <- filter(flights_sqlite, dep_delay > 240)\n",
    "c1"
   ]
  },
  {
   "cell_type": "code",
   "execution_count": 14,
   "metadata": {
    "collapsed": false
   },
   "outputs": [
    {
     "data": {
      "text/plain": [
       "Source:   query [?? x 19]\n",
       "Database: sqlite 3.11.1 [/var/folders/zz/0n1sj6k12yb0zn3kdpw2wntr0000gn/T//RtmpsPppYz/nycflights13.sqlite]\n",
       "\n",
       "    year month   day dep_time sched_dep_time dep_delay arr_time sched_arr_time\n",
       "   <int> <int> <int>    <int>          <int>     <dbl>    <int>          <int>\n",
       "1   2013     1     1      517            515         2      830            819\n",
       "2   2013     1     1      533            529         4      850            830\n",
       "3   2013     1     1      542            540         2      923            850\n",
       "4   2013     1     1      544            545        -1     1004           1022\n",
       "5   2013     1     1      554            600        -6      812            837\n",
       "6   2013     1     1      554            558        -4      740            728\n",
       "7   2013     1     1      555            600        -5      913            854\n",
       "8   2013     1     1      557            600        -3      709            723\n",
       "9   2013     1     1      557            600        -3      838            846\n",
       "10  2013     1     1      558            600        -2      753            745\n",
       "# ... with more rows, and 11 more variables: arr_delay <dbl>, carrier <chr>,\n",
       "#   flight <int>, tailnum <chr>, origin <chr>, dest <chr>, air_time <dbl>,\n",
       "#   distance <dbl>, hour <dbl>, minute <dbl>, time_hour <dbl>"
      ]
     },
     "metadata": {},
     "output_type": "display_data"
    }
   ],
   "source": [
    "c2 <- arrange(flights_sqlite, year, month, day)\n",
    "c2"
   ]
  },
  {
   "cell_type": "code",
   "execution_count": 15,
   "metadata": {
    "collapsed": false
   },
   "outputs": [
    {
     "data": {
      "text/plain": [
       "Source:   query [?? x 20]\n",
       "Database: sqlite 3.11.1 [/var/folders/zz/0n1sj6k12yb0zn3kdpw2wntr0000gn/T//RtmpsPppYz/nycflights13.sqlite]\n",
       "\n",
       "    year month   day dep_time sched_dep_time dep_delay arr_time sched_arr_time\n",
       "   <int> <int> <int>    <int>          <int>     <dbl>    <int>          <int>\n",
       "1   2013     1     1      517            515         2      830            819\n",
       "2   2013     1     1      533            529         4      850            830\n",
       "3   2013     1     1      542            540         2      923            850\n",
       "4   2013     1     1      544            545        -1     1004           1022\n",
       "5   2013     1     1      554            600        -6      812            837\n",
       "6   2013     1     1      554            558        -4      740            728\n",
       "7   2013     1     1      555            600        -5      913            854\n",
       "8   2013     1     1      557            600        -3      709            723\n",
       "9   2013     1     1      557            600        -3      838            846\n",
       "10  2013     1     1      558            600        -2      753            745\n",
       "# ... with more rows, and 12 more variables: arr_delay <dbl>, carrier <chr>,\n",
       "#   flight <int>, tailnum <chr>, origin <chr>, dest <chr>, air_time <dbl>,\n",
       "#   distance <dbl>, hour <dbl>, minute <dbl>, time_hour <dbl>, speed <dbl>"
      ]
     },
     "metadata": {},
     "output_type": "display_data"
    }
   ],
   "source": [
    "c3 <- mutate(flights_sqlite, speed = air_time / distance)\n",
    "c3"
   ]
  },
  {
   "cell_type": "code",
   "execution_count": 16,
   "metadata": {
    "collapsed": false
   },
   "outputs": [
    {
     "data": {
      "text/plain": [
       "Source:   query [?? x 1]\n",
       "Database: sqlite 3.11.1 [/var/folders/zz/0n1sj6k12yb0zn3kdpw2wntr0000gn/T//RtmpsPppYz/nycflights13.sqlite]\n",
       "\n",
       "    delay\n",
       "    <dbl>\n",
       "1 1349.11"
      ]
     },
     "metadata": {},
     "output_type": "display_data"
    }
   ],
   "source": [
    "c4 <- summarise(flights_sqlite, delay = mean(dep_time))\n",
    "c4"
   ]
  },
  {
   "cell_type": "code",
   "execution_count": 17,
   "metadata": {
    "collapsed": false
   },
   "outputs": [
    {
     "data": {
      "text/html": [
       "<table>\n",
       "<thead><tr><th scope=col>delay</th></tr></thead>\n",
       "<tbody>\n",
       "\t<tr><td>1349.11</td></tr>\n",
       "</tbody>\n",
       "</table>\n"
      ],
      "text/latex": [
       "\\begin{tabular}{r|l}\n",
       " delay\\\\\n",
       "\\hline\n",
       "\t 1349.11\\\\\n",
       "\\end{tabular}\n"
      ],
      "text/markdown": [
       "\n",
       "delay | \n",
       "|---|\n",
       "| 1349.11 | \n",
       "\n",
       "\n"
      ],
      "text/plain": [
       "  delay  \n",
       "1 1349.11"
      ]
     },
     "metadata": {},
     "output_type": "display_data"
    }
   ],
   "source": [
    "collect(c4)"
   ]
  },
  {
   "cell_type": "code",
   "execution_count": 18,
   "metadata": {
    "collapsed": false
   },
   "outputs": [
    {
     "name": "stderr",
     "output_type": "stream",
     "text": [
      "<SQL>\n",
      "SELECT AVG(`dep_time`) AS `delay`\n",
      "FROM `flights`\n",
      "\n",
      "\n",
      "<PLAN>\n",
      "   addr      opcode p1  p2 p3      p4 p5 comment\n",
      "1     0        Init  0  12  0         00      NA\n",
      "2     1        Null  0   1  2         00      NA\n",
      "3     2    OpenRead  0 131  0       4 00      NA\n",
      "4     3      Rewind  0   7  0         00      NA\n",
      "5     4      Column  0   3  3         00      NA\n",
      "6     5    AggStep0  0   3  1  avg(1) 01      NA\n",
      "7     6        Next  0   4  0         01      NA\n",
      "8     7       Close  0   0  0         00      NA\n",
      "9     8    AggFinal  1   1  0  avg(1) 00      NA\n",
      "10    9        Copy  1   4  0         00      NA\n",
      "11   10   ResultRow  4   1  0         00      NA\n",
      "12   11        Halt  0   0  0         00      NA\n",
      "13   12 Transaction  0   0 16       0 01      NA\n",
      "14   13   TableLock  0 131  0 flights 00      NA\n",
      "15   14        Goto  0   1  0         00      NA\n"
     ]
    }
   ],
   "source": [
    "explain(c4)"
   ]
  },
  {
   "cell_type": "code",
   "execution_count": 20,
   "metadata": {
    "collapsed": false
   },
   "outputs": [
    {
     "data": {
      "text/html": [
       "'\"x\" = 1.0 AND (\"y\" &lt; 2.0 OR \"z\" &gt; 3.0)'"
      ],
      "text/latex": [
       "'\"x\" = 1.0 AND (\"y\" < 2.0 OR \"z\" > 3.0)'"
      ],
      "text/markdown": [
       "'\"x\" = 1.0 AND (\"y\" &lt; 2.0 OR \"z\" &gt; 3.0)'"
      ],
      "text/plain": [
       "<SQL> \"x\" = 1.0 AND (\"y\" < 2.0 OR \"z\" > 3.0)"
      ]
     },
     "metadata": {},
     "output_type": "display_data"
    }
   ],
   "source": [
    "translate_sql(x==1 && (y<2 || z>3))"
   ]
  },
  {
   "cell_type": "code",
   "execution_count": 21,
   "metadata": {
    "collapsed": false
   },
   "outputs": [
    {
     "data": {
      "text/html": [
       "'POWER(\"x\", 2.0) &lt; 10.0'"
      ],
      "text/latex": [
       "'POWER(\"x\", 2.0) < 10.0'"
      ],
      "text/markdown": [
       "'POWER(\"x\", 2.0) &lt; 10.0'"
      ],
      "text/plain": [
       "<SQL> POWER(\"x\", 2.0) < 10.0"
      ]
     },
     "metadata": {},
     "output_type": "display_data"
    }
   ],
   "source": [
    "translate_sql(x ^ 2 < 10)"
   ]
  },
  {
   "cell_type": "code",
   "execution_count": 22,
   "metadata": {
    "collapsed": false
   },
   "outputs": [
    {
     "data": {
      "text/html": [
       "'\"x\" % 2.0 = 10.0'"
      ],
      "text/latex": [
       "'\"x\" \\% 2.0 = 10.0'"
      ],
      "text/markdown": [
       "'\"x\" % 2.0 = 10.0'"
      ],
      "text/plain": [
       "<SQL> \"x\" % 2.0 = 10.0"
      ]
     },
     "metadata": {},
     "output_type": "display_data"
    }
   ],
   "source": [
    "translate_sql(x %% 2 == 10)"
   ]
  },
  {
   "cell_type": "code",
   "execution_count": 23,
   "metadata": {
    "collapsed": false
   },
   "outputs": [
    {
     "data": {
      "text/html": [
       "'1.0'"
      ],
      "text/latex": [
       "'1.0'"
      ],
      "text/markdown": [
       "'1.0'"
      ],
      "text/plain": [
       "<SQL> 1.0"
      ]
     },
     "metadata": {},
     "output_type": "display_data"
    }
   ],
   "source": [
    "translate_sql(1)"
   ]
  },
  {
   "cell_type": "code",
   "execution_count": 25,
   "metadata": {
    "collapsed": false
   },
   "outputs": [],
   "source": [
    "by_tailnum <- group_by(flights_sqlite, tailnum)\n",
    " delay <- summarise(by_tailnum,\n",
    " count = n(),\n",
    " dist = mean(distance),\n",
    " delay = mean(arr_delay)                   \n",
    ")\n",
    "delay <- filter(delay, count > 20, dist < 2000) \n",
    "delay_local <- collect(delay)"
   ]
  },
  {
   "cell_type": "code",
   "execution_count": 27,
   "metadata": {
    "collapsed": false
   },
   "outputs": [
    {
     "data": {
      "text/html": [
       "<table>\n",
       "<thead><tr><th scope=col>tailnum</th><th scope=col>count</th><th scope=col>dist</th><th scope=col>delay</th></tr></thead>\n",
       "<tbody>\n",
       "\t<tr><td>NA       </td><td>2512     </td><td>710.2576 </td><td>       NA</td></tr>\n",
       "\t<tr><td>N0EGMQ   </td><td> 371     </td><td>676.1887 </td><td> 9.982955</td></tr>\n",
       "\t<tr><td>N10156   </td><td> 153     </td><td>757.9477 </td><td>12.717241</td></tr>\n",
       "\t<tr><td>N102UW   </td><td>  48     </td><td>535.8750 </td><td> 2.937500</td></tr>\n",
       "\t<tr><td>N103US   </td><td>  46     </td><td>535.1957 </td><td>-6.934783</td></tr>\n",
       "\t<tr><td>N104UW   </td><td>  47     </td><td>535.2553 </td><td> 1.804348</td></tr>\n",
       "</tbody>\n",
       "</table>\n"
      ],
      "text/latex": [
       "\\begin{tabular}{r|llll}\n",
       " tailnum & count & dist & delay\\\\\n",
       "\\hline\n",
       "\t NA        & 2512      & 710.2576  &        NA\\\\\n",
       "\t N0EGMQ    &  371      & 676.1887  &  9.982955\\\\\n",
       "\t N10156    &  153      & 757.9477  & 12.717241\\\\\n",
       "\t N102UW    &   48      & 535.8750  &  2.937500\\\\\n",
       "\t N103US    &   46      & 535.1957  & -6.934783\\\\\n",
       "\t N104UW    &   47      & 535.2553  &  1.804348\\\\\n",
       "\\end{tabular}\n"
      ],
      "text/markdown": [
       "\n",
       "tailnum | count | dist | delay | \n",
       "|---|---|---|---|---|---|\n",
       "| NA        | 2512      | 710.2576  |        NA | \n",
       "| N0EGMQ    |  371      | 676.1887  |  9.982955 | \n",
       "| N10156    |  153      | 757.9477  | 12.717241 | \n",
       "| N102UW    |   48      | 535.8750  |  2.937500 | \n",
       "| N103US    |   46      | 535.1957  | -6.934783 | \n",
       "| N104UW    |   47      | 535.2553  |  1.804348 | \n",
       "\n",
       "\n"
      ],
      "text/plain": [
       "  tailnum count dist     delay    \n",
       "1 NA      2512  710.2576        NA\n",
       "2 N0EGMQ   371  676.1887  9.982955\n",
       "3 N10156   153  757.9477 12.717241\n",
       "4 N102UW    48  535.8750  2.937500\n",
       "5 N103US    46  535.1957 -6.934783\n",
       "6 N104UW    47  535.2553  1.804348"
      ]
     },
     "metadata": {},
     "output_type": "display_data"
    }
   ],
   "source": [
    "head(delay_local)"
   ]
  },
  {
   "cell_type": "code",
   "execution_count": null,
   "metadata": {
    "collapsed": true
   },
   "outputs": [],
   "source": []
  }
 ],
 "metadata": {
  "anaconda-cloud": {},
  "kernelspec": {
   "display_name": "R",
   "language": "R",
   "name": "ir"
  },
  "language_info": {
   "codemirror_mode": "r",
   "file_extension": ".r",
   "mimetype": "text/x-r-source",
   "name": "R",
   "pygments_lexer": "r",
   "version": "3.3.2"
  }
 },
 "nbformat": 4,
 "nbformat_minor": 0
}

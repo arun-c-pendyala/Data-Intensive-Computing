{
 "cells": [
  {
   "cell_type": "code",
   "execution_count": 35,
   "metadata": {
    "collapsed": false
   },
   "outputs": [],
   "source": [
    "library(dplyr)\n",
    "my_db <- src_sqlite(\"database.sqlite\", create = FALSE)"
   ]
  },
  {
   "cell_type": "code",
   "execution_count": 37,
   "metadata": {
    "collapsed": false
   },
   "outputs": [
    {
     "data": {
      "text/plain": [
       "src:  sqlite 3.11.1 [/Users/arunchandrapendyala/Desktop/DIC/lab2/database.sqlite]\n",
       "tbls: Country, League, Match, Player, Player_Attributes, sqlite_sequence, Team,\n",
       "  Team_Attributes"
      ]
     },
     "metadata": {},
     "output_type": "display_data"
    }
   ],
   "source": [
    "my_db"
   ]
  },
  {
   "cell_type": "code",
   "execution_count": 38,
   "metadata": {
    "collapsed": false
   },
   "outputs": [],
   "source": [
    "player_sqlite <- tbl(my_db,\"player\")\n",
    "playattr_sqlite <- tbl(my_db , \"Player_Attributes\")\n",
    "league_sqlite <- tbl(my_db, \"League\")\n",
    "teamattr_sqlite <- tbl(my_db,\"Team_Attributes\")\n",
    "match_sqlite <- tbl(my_db,\"Match\")\n",
    "team_sqlite <- tbl(my_db,\"Team\")\n"
   ]
  },
  {
   "cell_type": "code",
   "execution_count": 39,
   "metadata": {
    "collapsed": false
   },
   "outputs": [
    {
     "data": {
      "text/plain": [
       "Source:   query [?? x 7]\n",
       "Database: sqlite 3.11.1 [/Users/arunchandrapendyala/Desktop/DIC/lab2/database.sqlite]\n",
       "\n",
       "     id player_api_id        player_name player_fifa_api_id            birthday\n",
       "  <int>         <int>              <chr>              <int>               <chr>\n",
       "1     1        505942 Aaron Appindangoye             218353 1992-02-29 00:00:00\n",
       "2     2        155782    Aaron Cresswell             189615 1989-12-15 00:00:00\n",
       "3     3        162549        Aaron Doran             186170 1991-05-13 00:00:00\n",
       "4     4         30572      Aaron Galindo             140161 1982-05-08 00:00:00\n",
       "5     5         23780       Aaron Hughes              17725 1979-11-08 00:00:00\n",
       "6     6         27316         Aaron Hunt             158138 1986-09-04 00:00:00\n",
       "# ... with 2 more variables: height <dbl>, weight <int>"
      ]
     },
     "metadata": {},
     "output_type": "display_data"
    }
   ],
   "source": [
    "head(player_sqlite)"
   ]
  },
  {
   "cell_type": "markdown",
   "metadata": {},
   "source": [
    "# Creating Player.csv"
   ]
  },
  {
   "cell_type": "code",
   "execution_count": 40,
   "metadata": {
    "collapsed": false
   },
   "outputs": [],
   "source": [
    "#obtaining the gk rating as sum of 5 gk attributes\n",
    "#by_playattr <- group_by(playattr_sqlite,player_id)\n",
    "new_playattr <- mutate(playattr_sqlite, gk_rate = gk_diving + gk_handling + gk_kicking + gk_positioning +gk_reflexes )\n",
    "by_playid <- select(new_playattr,player_id = player_api_id,overall_rating,gk_rate) %>% group_by(player_id) "
   ]
  },
  {
   "cell_type": "code",
   "execution_count": 41,
   "metadata": {
    "collapsed": false
   },
   "outputs": [
    {
     "data": {
      "text/html": [
       "<table>\n",
       "<thead><tr><th scope=col>player_id</th><th scope=col>overall_rate</th><th scope=col>gk_rate</th></tr></thead>\n",
       "<tbody>\n",
       "\t<tr><td>2625</td><td>63  </td><td>153 </td></tr>\n",
       "\t<tr><td>2752</td><td>72  </td><td> 53 </td></tr>\n",
       "\t<tr><td>2768</td><td>75  </td><td> 64 </td></tr>\n",
       "\t<tr><td>2770</td><td>74  </td><td> 60 </td></tr>\n",
       "\t<tr><td>2790</td><td>73  </td><td>144 </td></tr>\n",
       "\t<tr><td>2796</td><td>69  </td><td>340 </td></tr>\n",
       "\t<tr><td>2802</td><td>82  </td><td> 54 </td></tr>\n",
       "\t<tr><td>2805</td><td>76  </td><td> 56 </td></tr>\n",
       "\t<tr><td>2857</td><td>72  </td><td>143 </td></tr>\n",
       "\t<tr><td>2862</td><td>76  </td><td> 44 </td></tr>\n",
       "</tbody>\n",
       "</table>\n"
      ],
      "text/latex": [
       "\\begin{tabular}{r|lll}\n",
       " player\\_id & overall\\_rate & gk\\_rate\\\\\n",
       "\\hline\n",
       "\t 2625 & 63   & 153 \\\\\n",
       "\t 2752 & 72   &  53 \\\\\n",
       "\t 2768 & 75   &  64 \\\\\n",
       "\t 2770 & 74   &  60 \\\\\n",
       "\t 2790 & 73   & 144 \\\\\n",
       "\t 2796 & 69   & 340 \\\\\n",
       "\t 2802 & 82   &  54 \\\\\n",
       "\t 2805 & 76   &  56 \\\\\n",
       "\t 2857 & 72   & 143 \\\\\n",
       "\t 2862 & 76   &  44 \\\\\n",
       "\\end{tabular}\n"
      ],
      "text/markdown": [
       "\n",
       "player_id | overall_rate | gk_rate | \n",
       "|---|---|---|---|---|---|---|---|---|---|\n",
       "| 2625 | 63   | 153  | \n",
       "| 2752 | 72   |  53  | \n",
       "| 2768 | 75   |  64  | \n",
       "| 2770 | 74   |  60  | \n",
       "| 2790 | 73   | 144  | \n",
       "| 2796 | 69   | 340  | \n",
       "| 2802 | 82   |  54  | \n",
       "| 2805 | 76   |  56  | \n",
       "| 2857 | 72   | 143  | \n",
       "| 2862 | 76   |  44  | \n",
       "\n",
       "\n"
      ],
      "text/plain": [
       "   player_id overall_rate gk_rate\n",
       "1  2625      63           153    \n",
       "2  2752      72            53    \n",
       "3  2768      75            64    \n",
       "4  2770      74            60    \n",
       "5  2790      73           144    \n",
       "6  2796      69           340    \n",
       "7  2802      82            54    \n",
       "8  2805      76            56    \n",
       "9  2857      72           143    \n",
       "10 2862      76            44    "
      ]
     },
     "metadata": {},
     "output_type": "display_data"
    }
   ],
   "source": [
    "play_gk_ovr <- summarise(by_playid, overall_rate = max(overall_rating),gk_rate)\n",
    "\n",
    "\n",
    "head(as.data.frame(play_gk_ovr),n=10) #gk_rating and overall_rating ----> (1)"
   ]
  },
  {
   "cell_type": "code",
   "execution_count": 42,
   "metadata": {
    "collapsed": false
   },
   "outputs": [],
   "source": [
    "#select the player appearances in matches as home and away players\n",
    "players <- select(match_sqlite,home_player_1:away_player_11,league_id)%>% as.data.frame()\n"
   ]
  },
  {
   "cell_type": "code",
   "execution_count": 43,
   "metadata": {
    "collapsed": false
   },
   "outputs": [
    {
     "data": {
      "text/html": [
       "<table>\n",
       "<thead><tr><th scope=col>home_player_1</th><th scope=col>home_player_2</th><th scope=col>home_player_3</th><th scope=col>home_player_4</th><th scope=col>home_player_5</th><th scope=col>home_player_6</th><th scope=col>home_player_7</th><th scope=col>home_player_8</th><th scope=col>home_player_9</th><th scope=col>home_player_10</th><th scope=col>⋯</th><th scope=col>away_player_3</th><th scope=col>away_player_4</th><th scope=col>away_player_5</th><th scope=col>away_player_6</th><th scope=col>away_player_7</th><th scope=col>away_player_8</th><th scope=col>away_player_9</th><th scope=col>away_player_10</th><th scope=col>away_player_11</th><th scope=col>league_id</th></tr></thead>\n",
       "<tbody>\n",
       "\t<tr><td>NA</td><td>NA</td><td>NA</td><td>NA</td><td>NA</td><td>NA</td><td>NA</td><td>NA</td><td>NA</td><td>NA</td><td>⋯ </td><td>NA</td><td>NA</td><td>NA</td><td>NA</td><td>NA</td><td>NA</td><td>NA</td><td>NA</td><td>NA</td><td>1 </td></tr>\n",
       "\t<tr><td>NA</td><td>NA</td><td>NA</td><td>NA</td><td>NA</td><td>NA</td><td>NA</td><td>NA</td><td>NA</td><td>NA</td><td>⋯ </td><td>NA</td><td>NA</td><td>NA</td><td>NA</td><td>NA</td><td>NA</td><td>NA</td><td>NA</td><td>NA</td><td>1 </td></tr>\n",
       "\t<tr><td>NA</td><td>NA</td><td>NA</td><td>NA</td><td>NA</td><td>NA</td><td>NA</td><td>NA</td><td>NA</td><td>NA</td><td>⋯ </td><td>NA</td><td>NA</td><td>NA</td><td>NA</td><td>NA</td><td>NA</td><td>NA</td><td>NA</td><td>NA</td><td>1 </td></tr>\n",
       "\t<tr><td>NA</td><td>NA</td><td>NA</td><td>NA</td><td>NA</td><td>NA</td><td>NA</td><td>NA</td><td>NA</td><td>NA</td><td>⋯ </td><td>NA</td><td>NA</td><td>NA</td><td>NA</td><td>NA</td><td>NA</td><td>NA</td><td>NA</td><td>NA</td><td>1 </td></tr>\n",
       "\t<tr><td>NA</td><td>NA</td><td>NA</td><td>NA</td><td>NA</td><td>NA</td><td>NA</td><td>NA</td><td>NA</td><td>NA</td><td>⋯ </td><td>NA</td><td>NA</td><td>NA</td><td>NA</td><td>NA</td><td>NA</td><td>NA</td><td>NA</td><td>NA</td><td>1 </td></tr>\n",
       "\t<tr><td>NA</td><td>NA</td><td>NA</td><td>NA</td><td>NA</td><td>NA</td><td>NA</td><td>NA</td><td>NA</td><td>NA</td><td>⋯ </td><td>NA</td><td>NA</td><td>NA</td><td>NA</td><td>NA</td><td>NA</td><td>NA</td><td>NA</td><td>NA</td><td>1 </td></tr>\n",
       "</tbody>\n",
       "</table>\n"
      ],
      "text/latex": [
       "\\begin{tabular}{r|lllllllllllllllllllllll}\n",
       " home\\_player\\_1 & home\\_player\\_2 & home\\_player\\_3 & home\\_player\\_4 & home\\_player\\_5 & home\\_player\\_6 & home\\_player\\_7 & home\\_player\\_8 & home\\_player\\_9 & home\\_player\\_10 & ⋯ & away\\_player\\_3 & away\\_player\\_4 & away\\_player\\_5 & away\\_player\\_6 & away\\_player\\_7 & away\\_player\\_8 & away\\_player\\_9 & away\\_player\\_10 & away\\_player\\_11 & league\\_id\\\\\n",
       "\\hline\n",
       "\t NA & NA & NA & NA & NA & NA & NA & NA & NA & NA & ⋯  & NA & NA & NA & NA & NA & NA & NA & NA & NA & 1 \\\\\n",
       "\t NA & NA & NA & NA & NA & NA & NA & NA & NA & NA & ⋯  & NA & NA & NA & NA & NA & NA & NA & NA & NA & 1 \\\\\n",
       "\t NA & NA & NA & NA & NA & NA & NA & NA & NA & NA & ⋯  & NA & NA & NA & NA & NA & NA & NA & NA & NA & 1 \\\\\n",
       "\t NA & NA & NA & NA & NA & NA & NA & NA & NA & NA & ⋯  & NA & NA & NA & NA & NA & NA & NA & NA & NA & 1 \\\\\n",
       "\t NA & NA & NA & NA & NA & NA & NA & NA & NA & NA & ⋯  & NA & NA & NA & NA & NA & NA & NA & NA & NA & 1 \\\\\n",
       "\t NA & NA & NA & NA & NA & NA & NA & NA & NA & NA & ⋯  & NA & NA & NA & NA & NA & NA & NA & NA & NA & 1 \\\\\n",
       "\\end{tabular}\n"
      ],
      "text/markdown": [
       "\n",
       "home_player_1 | home_player_2 | home_player_3 | home_player_4 | home_player_5 | home_player_6 | home_player_7 | home_player_8 | home_player_9 | home_player_10 | ⋯ | away_player_3 | away_player_4 | away_player_5 | away_player_6 | away_player_7 | away_player_8 | away_player_9 | away_player_10 | away_player_11 | league_id | \n",
       "|---|---|---|---|---|---|\n",
       "| NA | NA | NA | NA | NA | NA | NA | NA | NA | NA | ⋯  | NA | NA | NA | NA | NA | NA | NA | NA | NA | 1  | \n",
       "| NA | NA | NA | NA | NA | NA | NA | NA | NA | NA | ⋯  | NA | NA | NA | NA | NA | NA | NA | NA | NA | 1  | \n",
       "| NA | NA | NA | NA | NA | NA | NA | NA | NA | NA | ⋯  | NA | NA | NA | NA | NA | NA | NA | NA | NA | 1  | \n",
       "| NA | NA | NA | NA | NA | NA | NA | NA | NA | NA | ⋯  | NA | NA | NA | NA | NA | NA | NA | NA | NA | 1  | \n",
       "| NA | NA | NA | NA | NA | NA | NA | NA | NA | NA | ⋯  | NA | NA | NA | NA | NA | NA | NA | NA | NA | 1  | \n",
       "| NA | NA | NA | NA | NA | NA | NA | NA | NA | NA | ⋯  | NA | NA | NA | NA | NA | NA | NA | NA | NA | 1  | \n",
       "\n",
       "\n"
      ],
      "text/plain": [
       "  home_player_1 home_player_2 home_player_3 home_player_4 home_player_5\n",
       "1 NA            NA            NA            NA            NA           \n",
       "2 NA            NA            NA            NA            NA           \n",
       "3 NA            NA            NA            NA            NA           \n",
       "4 NA            NA            NA            NA            NA           \n",
       "5 NA            NA            NA            NA            NA           \n",
       "6 NA            NA            NA            NA            NA           \n",
       "  home_player_6 home_player_7 home_player_8 home_player_9 home_player_10 ⋯\n",
       "1 NA            NA            NA            NA            NA             ⋯\n",
       "2 NA            NA            NA            NA            NA             ⋯\n",
       "3 NA            NA            NA            NA            NA             ⋯\n",
       "4 NA            NA            NA            NA            NA             ⋯\n",
       "5 NA            NA            NA            NA            NA             ⋯\n",
       "6 NA            NA            NA            NA            NA             ⋯\n",
       "  away_player_3 away_player_4 away_player_5 away_player_6 away_player_7\n",
       "1 NA            NA            NA            NA            NA           \n",
       "2 NA            NA            NA            NA            NA           \n",
       "3 NA            NA            NA            NA            NA           \n",
       "4 NA            NA            NA            NA            NA           \n",
       "5 NA            NA            NA            NA            NA           \n",
       "6 NA            NA            NA            NA            NA           \n",
       "  away_player_8 away_player_9 away_player_10 away_player_11 league_id\n",
       "1 NA            NA            NA             NA             1        \n",
       "2 NA            NA            NA             NA             1        \n",
       "3 NA            NA            NA             NA             1        \n",
       "4 NA            NA            NA             NA             1        \n",
       "5 NA            NA            NA             NA             1        \n",
       "6 NA            NA            NA             NA             1        "
      ]
     },
     "metadata": {},
     "output_type": "display_data"
    }
   ],
   "source": [
    "head(players)\n"
   ]
  },
  {
   "cell_type": "code",
   "execution_count": 44,
   "metadata": {
    "collapsed": false
   },
   "outputs": [],
   "source": [
    "#convert all columns into a single column to get the number of appearances\n",
    "playlist <- cbind(players[23],stack(players[1:22])) #source:https://stat.ethz.ch/R-manual/R-devel/library/utils/html/stack.html\n",
    "#source: http://stackoverflow.com/questions/13597091/stacking-columns-in-data-frame-into-one-column-in-r"
   ]
  },
  {
   "cell_type": "code",
   "execution_count": 45,
   "metadata": {
    "collapsed": false
   },
   "outputs": [
    {
     "data": {
      "text/html": [
       "<table>\n",
       "<thead><tr><th scope=col>league_id</th><th scope=col>values</th><th scope=col>ind</th></tr></thead>\n",
       "<tbody>\n",
       "\t<tr><td>1            </td><td>NA           </td><td>home_player_1</td></tr>\n",
       "\t<tr><td>1            </td><td>NA           </td><td>home_player_1</td></tr>\n",
       "\t<tr><td>1            </td><td>NA           </td><td>home_player_1</td></tr>\n",
       "\t<tr><td>1            </td><td>NA           </td><td>home_player_1</td></tr>\n",
       "\t<tr><td>1            </td><td>NA           </td><td>home_player_1</td></tr>\n",
       "\t<tr><td>1            </td><td>NA           </td><td>home_player_1</td></tr>\n",
       "</tbody>\n",
       "</table>\n"
      ],
      "text/latex": [
       "\\begin{tabular}{r|lll}\n",
       " league\\_id & values & ind\\\\\n",
       "\\hline\n",
       "\t 1                 & NA                & home\\_player\\_1\\\\\n",
       "\t 1                 & NA                & home\\_player\\_1\\\\\n",
       "\t 1                 & NA                & home\\_player\\_1\\\\\n",
       "\t 1                 & NA                & home\\_player\\_1\\\\\n",
       "\t 1                 & NA                & home\\_player\\_1\\\\\n",
       "\t 1                 & NA                & home\\_player\\_1\\\\\n",
       "\\end{tabular}\n"
      ],
      "text/markdown": [
       "\n",
       "league_id | values | ind | \n",
       "|---|---|---|---|---|---|\n",
       "| 1             | NA            | home_player_1 | \n",
       "| 1             | NA            | home_player_1 | \n",
       "| 1             | NA            | home_player_1 | \n",
       "| 1             | NA            | home_player_1 | \n",
       "| 1             | NA            | home_player_1 | \n",
       "| 1             | NA            | home_player_1 | \n",
       "\n",
       "\n"
      ],
      "text/plain": [
       "  league_id values ind          \n",
       "1 1         NA     home_player_1\n",
       "2 1         NA     home_player_1\n",
       "3 1         NA     home_player_1\n",
       "4 1         NA     home_player_1\n",
       "5 1         NA     home_player_1\n",
       "6 1         NA     home_player_1"
      ]
     },
     "metadata": {},
     "output_type": "display_data"
    }
   ],
   "source": [
    "head(playlist)"
   ]
  },
  {
   "cell_type": "code",
   "execution_count": 46,
   "metadata": {
    "collapsed": false
   },
   "outputs": [],
   "source": [
    "by_values <- group_by(playlist,player_id = values)\n",
    "play_num <- summarise(by_values, num_appear = n()) %>% na.omit()\n",
    "#num of appearances ---> (2)"
   ]
  },
  {
   "cell_type": "code",
   "execution_count": 47,
   "metadata": {
    "collapsed": false
   },
   "outputs": [
    {
     "data": {
      "text/html": [
       "<table>\n",
       "<thead><tr><th scope=col>player_id</th><th scope=col>num_appear</th></tr></thead>\n",
       "<tbody>\n",
       "\t<tr><td>2625</td><td> 90 </td></tr>\n",
       "\t<tr><td>2752</td><td> 81 </td></tr>\n",
       "\t<tr><td>2768</td><td> 71 </td></tr>\n",
       "\t<tr><td>2770</td><td> 16 </td></tr>\n",
       "\t<tr><td>2790</td><td> 50 </td></tr>\n",
       "\t<tr><td>2796</td><td>  1 </td></tr>\n",
       "\t<tr><td>2802</td><td>144 </td></tr>\n",
       "\t<tr><td>2805</td><td>131 </td></tr>\n",
       "\t<tr><td>2857</td><td>  3 </td></tr>\n",
       "\t<tr><td>2862</td><td> 17 </td></tr>\n",
       "</tbody>\n",
       "</table>\n"
      ],
      "text/latex": [
       "\\begin{tabular}{r|ll}\n",
       " player\\_id & num\\_appear\\\\\n",
       "\\hline\n",
       "\t 2625 &  90 \\\\\n",
       "\t 2752 &  81 \\\\\n",
       "\t 2768 &  71 \\\\\n",
       "\t 2770 &  16 \\\\\n",
       "\t 2790 &  50 \\\\\n",
       "\t 2796 &   1 \\\\\n",
       "\t 2802 & 144 \\\\\n",
       "\t 2805 & 131 \\\\\n",
       "\t 2857 &   3 \\\\\n",
       "\t 2862 &  17 \\\\\n",
       "\\end{tabular}\n"
      ],
      "text/markdown": [
       "\n",
       "player_id | num_appear | \n",
       "|---|---|---|---|---|---|---|---|---|---|\n",
       "| 2625 |  90  | \n",
       "| 2752 |  81  | \n",
       "| 2768 |  71  | \n",
       "| 2770 |  16  | \n",
       "| 2790 |  50  | \n",
       "| 2796 |   1  | \n",
       "| 2802 | 144  | \n",
       "| 2805 | 131  | \n",
       "| 2857 |   3  | \n",
       "| 2862 |  17  | \n",
       "\n",
       "\n"
      ],
      "text/plain": [
       "   player_id num_appear\n",
       "1  2625       90       \n",
       "2  2752       81       \n",
       "3  2768       71       \n",
       "4  2770       16       \n",
       "5  2790       50       \n",
       "6  2796        1       \n",
       "7  2802      144       \n",
       "8  2805      131       \n",
       "9  2857        3       \n",
       "10 2862       17       "
      ]
     },
     "metadata": {},
     "output_type": "display_data"
    }
   ],
   "source": [
    "head(play_num,n=10)"
   ]
  },
  {
   "cell_type": "code",
   "execution_count": 48,
   "metadata": {
    "collapsed": false
   },
   "outputs": [
    {
     "data": {
      "text/html": [
       "<table>\n",
       "<thead><tr><th scope=col>player_id</th><th scope=col>leag_num</th></tr></thead>\n",
       "<tbody>\n",
       "\t<tr><td>    NA</td><td>11    </td></tr>\n",
       "\t<tr><td> 42119</td><td> 6    </td></tr>\n",
       "\t<tr><td>116750</td><td> 5    </td></tr>\n",
       "\t<tr><td>178538</td><td> 5    </td></tr>\n",
       "\t<tr><td> 22543</td><td> 4    </td></tr>\n",
       "\t<tr><td> 24123</td><td> 4    </td></tr>\n",
       "</tbody>\n",
       "</table>\n"
      ],
      "text/latex": [
       "\\begin{tabular}{r|ll}\n",
       " player\\_id & leag\\_num\\\\\n",
       "\\hline\n",
       "\t     NA & 11    \\\\\n",
       "\t  42119 &  6    \\\\\n",
       "\t 116750 &  5    \\\\\n",
       "\t 178538 &  5    \\\\\n",
       "\t  22543 &  4    \\\\\n",
       "\t  24123 &  4    \\\\\n",
       "\\end{tabular}\n"
      ],
      "text/markdown": [
       "\n",
       "player_id | leag_num | \n",
       "|---|---|---|---|---|---|\n",
       "|     NA | 11     | \n",
       "|  42119 |  6     | \n",
       "| 116750 |  5     | \n",
       "| 178538 |  5     | \n",
       "|  22543 |  4     | \n",
       "|  24123 |  4     | \n",
       "\n",
       "\n"
      ],
      "text/plain": [
       "  player_id leag_num\n",
       "1     NA    11      \n",
       "2  42119     6      \n",
       "3 116750     5      \n",
       "4 178538     5      \n",
       "5  22543     4      \n",
       "6  24123     4      "
      ]
     },
     "metadata": {},
     "output_type": "display_data"
    }
   ],
   "source": [
    "by_league <- group_by(playlist , player_id = values)\n",
    "leag_num <- summarise(by_league, leag_num = n_distinct(league_id))\n",
    "head(arrange(leag_num,desc(leag_num)))\n",
    "#number of leagues for each player ----> (3)"
   ]
  },
  {
   "cell_type": "code",
   "execution_count": 49,
   "metadata": {
    "collapsed": false
   },
   "outputs": [
    {
     "data": {
      "text/html": [
       "<table>\n",
       "<thead><tr><th scope=col>player_id</th><th scope=col>num_appear</th><th scope=col>leag_num</th></tr></thead>\n",
       "<tbody>\n",
       "\t<tr><td>2625</td><td> 90 </td><td>1   </td></tr>\n",
       "\t<tr><td>2752</td><td> 81 </td><td>1   </td></tr>\n",
       "\t<tr><td>2768</td><td> 71 </td><td>1   </td></tr>\n",
       "\t<tr><td>2770</td><td> 16 </td><td>2   </td></tr>\n",
       "\t<tr><td>2790</td><td> 50 </td><td>1   </td></tr>\n",
       "\t<tr><td>2796</td><td>  1 </td><td>1   </td></tr>\n",
       "\t<tr><td>2802</td><td>144 </td><td>2   </td></tr>\n",
       "\t<tr><td>2805</td><td>131 </td><td>1   </td></tr>\n",
       "\t<tr><td>2857</td><td>  3 </td><td>1   </td></tr>\n",
       "\t<tr><td>2862</td><td> 17 </td><td>1   </td></tr>\n",
       "\t<tr><td>2907</td><td>  6 </td><td>1   </td></tr>\n",
       "\t<tr><td>2973</td><td> 16 </td><td>1   </td></tr>\n",
       "\t<tr><td>2977</td><td>  5 </td><td>1   </td></tr>\n",
       "\t<tr><td>2983</td><td> 71 </td><td>1   </td></tr>\n",
       "\t<tr><td>2984</td><td> 38 </td><td>1   </td></tr>\n",
       "\t<tr><td>3140</td><td> 42 </td><td>1   </td></tr>\n",
       "\t<tr><td>3204</td><td> 42 </td><td>1   </td></tr>\n",
       "\t<tr><td>3263</td><td> 19 </td><td>1   </td></tr>\n",
       "\t<tr><td>3264</td><td>  1 </td><td>1   </td></tr>\n",
       "\t<tr><td>3316</td><td>  6 </td><td>1   </td></tr>\n",
       "\t<tr><td>3329</td><td> 85 </td><td>1   </td></tr>\n",
       "\t<tr><td>3377</td><td>  1 </td><td>1   </td></tr>\n",
       "\t<tr><td>3441</td><td> 74 </td><td>1   </td></tr>\n",
       "\t<tr><td>3512</td><td>  4 </td><td>1   </td></tr>\n",
       "\t<tr><td>3517</td><td> 17 </td><td>1   </td></tr>\n",
       "\t<tr><td>3520</td><td> 70 </td><td>1   </td></tr>\n",
       "\t<tr><td>4747</td><td> 36 </td><td>1   </td></tr>\n",
       "\t<tr><td>4863</td><td> 25 </td><td>1   </td></tr>\n",
       "\t<tr><td>4902</td><td> 68 </td><td>1   </td></tr>\n",
       "\t<tr><td>4939</td><td> 97 </td><td>1   </td></tr>\n",
       "\t<tr><td>⋮</td><td>⋮</td><td>⋮</td></tr>\n",
       "\t<tr><td>701154</td><td> 2    </td><td>1     </td></tr>\n",
       "\t<tr><td>703659</td><td> 1    </td><td>1     </td></tr>\n",
       "\t<tr><td>704523</td><td> 4    </td><td>1     </td></tr>\n",
       "\t<tr><td>705484</td><td> 4    </td><td>1     </td></tr>\n",
       "\t<tr><td>706985</td><td> 2    </td><td>1     </td></tr>\n",
       "\t<tr><td>710807</td><td> 1    </td><td>1     </td></tr>\n",
       "\t<tr><td>715642</td><td> 1    </td><td>1     </td></tr>\n",
       "\t<tr><td>716998</td><td> 1    </td><td>1     </td></tr>\n",
       "\t<tr><td>717248</td><td> 4    </td><td>1     </td></tr>\n",
       "\t<tr><td>717270</td><td> 1    </td><td>1     </td></tr>\n",
       "\t<tr><td>717557</td><td> 4    </td><td>1     </td></tr>\n",
       "\t<tr><td>719413</td><td> 3    </td><td>1     </td></tr>\n",
       "\t<tr><td>720738</td><td> 5    </td><td>1     </td></tr>\n",
       "\t<tr><td>721133</td><td>15    </td><td>1     </td></tr>\n",
       "\t<tr><td>722766</td><td>13    </td><td>1     </td></tr>\n",
       "\t<tr><td>723037</td><td> 7    </td><td>1     </td></tr>\n",
       "\t<tr><td>725718</td><td> 1    </td><td>1     </td></tr>\n",
       "\t<tr><td>726956</td><td> 4    </td><td>1     </td></tr>\n",
       "\t<tr><td>728125</td><td> 2    </td><td>1     </td></tr>\n",
       "\t<tr><td>728414</td><td> 1    </td><td>1     </td></tr>\n",
       "\t<tr><td>728478</td><td> 1    </td><td>1     </td></tr>\n",
       "\t<tr><td>730065</td><td> 1    </td><td>1     </td></tr>\n",
       "\t<tr><td>733787</td><td> 2    </td><td>1     </td></tr>\n",
       "\t<tr><td>742405</td><td> 1    </td><td>1     </td></tr>\n",
       "\t<tr><td>743720</td><td> 1    </td><td>1     </td></tr>\n",
       "\t<tr><td>744907</td><td> 1    </td><td>1     </td></tr>\n",
       "\t<tr><td>746419</td><td> 2    </td><td>1     </td></tr>\n",
       "\t<tr><td>748432</td><td> 2    </td><td>1     </td></tr>\n",
       "\t<tr><td>750435</td><td> 1    </td><td>1     </td></tr>\n",
       "\t<tr><td>750584</td><td> 1    </td><td>1     </td></tr>\n",
       "</tbody>\n",
       "</table>\n"
      ],
      "text/latex": [
       "\\begin{tabular}{r|lll}\n",
       " player\\_id & num\\_appear & leag\\_num\\\\\n",
       "\\hline\n",
       "\t 2625 &  90  & 1   \\\\\n",
       "\t 2752 &  81  & 1   \\\\\n",
       "\t 2768 &  71  & 1   \\\\\n",
       "\t 2770 &  16  & 2   \\\\\n",
       "\t 2790 &  50  & 1   \\\\\n",
       "\t 2796 &   1  & 1   \\\\\n",
       "\t 2802 & 144  & 2   \\\\\n",
       "\t 2805 & 131  & 1   \\\\\n",
       "\t 2857 &   3  & 1   \\\\\n",
       "\t 2862 &  17  & 1   \\\\\n",
       "\t 2907 &   6  & 1   \\\\\n",
       "\t 2973 &  16  & 1   \\\\\n",
       "\t 2977 &   5  & 1   \\\\\n",
       "\t 2983 &  71  & 1   \\\\\n",
       "\t 2984 &  38  & 1   \\\\\n",
       "\t 3140 &  42  & 1   \\\\\n",
       "\t 3204 &  42  & 1   \\\\\n",
       "\t 3263 &  19  & 1   \\\\\n",
       "\t 3264 &   1  & 1   \\\\\n",
       "\t 3316 &   6  & 1   \\\\\n",
       "\t 3329 &  85  & 1   \\\\\n",
       "\t 3377 &   1  & 1   \\\\\n",
       "\t 3441 &  74  & 1   \\\\\n",
       "\t 3512 &   4  & 1   \\\\\n",
       "\t 3517 &  17  & 1   \\\\\n",
       "\t 3520 &  70  & 1   \\\\\n",
       "\t 4747 &  36  & 1   \\\\\n",
       "\t 4863 &  25  & 1   \\\\\n",
       "\t 4902 &  68  & 1   \\\\\n",
       "\t 4939 &  97  & 1   \\\\\n",
       "\t ⋮ & ⋮ & ⋮\\\\\n",
       "\t 701154 &  2     & 1     \\\\\n",
       "\t 703659 &  1     & 1     \\\\\n",
       "\t 704523 &  4     & 1     \\\\\n",
       "\t 705484 &  4     & 1     \\\\\n",
       "\t 706985 &  2     & 1     \\\\\n",
       "\t 710807 &  1     & 1     \\\\\n",
       "\t 715642 &  1     & 1     \\\\\n",
       "\t 716998 &  1     & 1     \\\\\n",
       "\t 717248 &  4     & 1     \\\\\n",
       "\t 717270 &  1     & 1     \\\\\n",
       "\t 717557 &  4     & 1     \\\\\n",
       "\t 719413 &  3     & 1     \\\\\n",
       "\t 720738 &  5     & 1     \\\\\n",
       "\t 721133 & 15     & 1     \\\\\n",
       "\t 722766 & 13     & 1     \\\\\n",
       "\t 723037 &  7     & 1     \\\\\n",
       "\t 725718 &  1     & 1     \\\\\n",
       "\t 726956 &  4     & 1     \\\\\n",
       "\t 728125 &  2     & 1     \\\\\n",
       "\t 728414 &  1     & 1     \\\\\n",
       "\t 728478 &  1     & 1     \\\\\n",
       "\t 730065 &  1     & 1     \\\\\n",
       "\t 733787 &  2     & 1     \\\\\n",
       "\t 742405 &  1     & 1     \\\\\n",
       "\t 743720 &  1     & 1     \\\\\n",
       "\t 744907 &  1     & 1     \\\\\n",
       "\t 746419 &  2     & 1     \\\\\n",
       "\t 748432 &  2     & 1     \\\\\n",
       "\t 750435 &  1     & 1     \\\\\n",
       "\t 750584 &  1     & 1     \\\\\n",
       "\\end{tabular}\n"
      ],
      "text/markdown": [
       "\n",
       "player_id | num_appear | leag_num | \n",
       "|---|---|---|---|---|---|---|---|---|---|---|---|---|---|---|---|---|---|---|---|---|---|---|---|---|---|---|---|---|---|---|---|---|---|---|---|---|---|---|---|---|---|---|---|---|---|---|---|---|---|---|---|---|---|---|---|---|---|---|---|---|\n",
       "| 2625 |  90  | 1    | \n",
       "| 2752 |  81  | 1    | \n",
       "| 2768 |  71  | 1    | \n",
       "| 2770 |  16  | 2    | \n",
       "| 2790 |  50  | 1    | \n",
       "| 2796 |   1  | 1    | \n",
       "| 2802 | 144  | 2    | \n",
       "| 2805 | 131  | 1    | \n",
       "| 2857 |   3  | 1    | \n",
       "| 2862 |  17  | 1    | \n",
       "| 2907 |   6  | 1    | \n",
       "| 2973 |  16  | 1    | \n",
       "| 2977 |   5  | 1    | \n",
       "| 2983 |  71  | 1    | \n",
       "| 2984 |  38  | 1    | \n",
       "| 3140 |  42  | 1    | \n",
       "| 3204 |  42  | 1    | \n",
       "| 3263 |  19  | 1    | \n",
       "| 3264 |   1  | 1    | \n",
       "| 3316 |   6  | 1    | \n",
       "| 3329 |  85  | 1    | \n",
       "| 3377 |   1  | 1    | \n",
       "| 3441 |  74  | 1    | \n",
       "| 3512 |   4  | 1    | \n",
       "| 3517 |  17  | 1    | \n",
       "| 3520 |  70  | 1    | \n",
       "| 4747 |  36  | 1    | \n",
       "| 4863 |  25  | 1    | \n",
       "| 4902 |  68  | 1    | \n",
       "| 4939 |  97  | 1    | \n",
       "| ⋮ | ⋮ | ⋮ | \n",
       "| 701154 |  2     | 1      | \n",
       "| 703659 |  1     | 1      | \n",
       "| 704523 |  4     | 1      | \n",
       "| 705484 |  4     | 1      | \n",
       "| 706985 |  2     | 1      | \n",
       "| 710807 |  1     | 1      | \n",
       "| 715642 |  1     | 1      | \n",
       "| 716998 |  1     | 1      | \n",
       "| 717248 |  4     | 1      | \n",
       "| 717270 |  1     | 1      | \n",
       "| 717557 |  4     | 1      | \n",
       "| 719413 |  3     | 1      | \n",
       "| 720738 |  5     | 1      | \n",
       "| 721133 | 15     | 1      | \n",
       "| 722766 | 13     | 1      | \n",
       "| 723037 |  7     | 1      | \n",
       "| 725718 |  1     | 1      | \n",
       "| 726956 |  4     | 1      | \n",
       "| 728125 |  2     | 1      | \n",
       "| 728414 |  1     | 1      | \n",
       "| 728478 |  1     | 1      | \n",
       "| 730065 |  1     | 1      | \n",
       "| 733787 |  2     | 1      | \n",
       "| 742405 |  1     | 1      | \n",
       "| 743720 |  1     | 1      | \n",
       "| 744907 |  1     | 1      | \n",
       "| 746419 |  2     | 1      | \n",
       "| 748432 |  2     | 1      | \n",
       "| 750435 |  1     | 1      | \n",
       "| 750584 |  1     | 1      | \n",
       "\n",
       "\n"
      ],
      "text/plain": [
       "      player_id num_appear leag_num\n",
       "1     2625       90        1       \n",
       "2     2752       81        1       \n",
       "3     2768       71        1       \n",
       "4     2770       16        2       \n",
       "5     2790       50        1       \n",
       "6     2796        1        1       \n",
       "7     2802      144        2       \n",
       "8     2805      131        1       \n",
       "9     2857        3        1       \n",
       "10    2862       17        1       \n",
       "11    2907        6        1       \n",
       "12    2973       16        1       \n",
       "13    2977        5        1       \n",
       "14    2983       71        1       \n",
       "15    2984       38        1       \n",
       "16    3140       42        1       \n",
       "17    3204       42        1       \n",
       "18    3263       19        1       \n",
       "19    3264        1        1       \n",
       "20    3316        6        1       \n",
       "21    3329       85        1       \n",
       "22    3377        1        1       \n",
       "23    3441       74        1       \n",
       "24    3512        4        1       \n",
       "25    3517       17        1       \n",
       "26    3520       70        1       \n",
       "27    4747       36        1       \n",
       "28    4863       25        1       \n",
       "29    4902       68        1       \n",
       "30    4939       97        1       \n",
       "⋮     ⋮         ⋮          ⋮       \n",
       "11031 701154     2         1       \n",
       "11032 703659     1         1       \n",
       "11033 704523     4         1       \n",
       "11034 705484     4         1       \n",
       "11035 706985     2         1       \n",
       "11036 710807     1         1       \n",
       "11037 715642     1         1       \n",
       "11038 716998     1         1       \n",
       "11039 717248     4         1       \n",
       "11040 717270     1         1       \n",
       "11041 717557     4         1       \n",
       "11042 719413     3         1       \n",
       "11043 720738     5         1       \n",
       "11044 721133    15         1       \n",
       "11045 722766    13         1       \n",
       "11046 723037     7         1       \n",
       "11047 725718     1         1       \n",
       "11048 726956     4         1       \n",
       "11049 728125     2         1       \n",
       "11050 728414     1         1       \n",
       "11051 728478     1         1       \n",
       "11052 730065     1         1       \n",
       "11053 733787     2         1       \n",
       "11054 742405     1         1       \n",
       "11055 743720     1         1       \n",
       "11056 744907     1         1       \n",
       "11057 746419     2         1       \n",
       "11058 748432     2         1       \n",
       "11059 750435     1         1       \n",
       "11060 750584     1         1       "
      ]
     },
     "metadata": {},
     "output_type": "display_data"
    }
   ],
   "source": [
    "#joining player-id, number of appearances and number of leagues\n",
    "appear_leag <- play_num %>% left_join(leag_num, by = \"player_id\") \n",
    "appear_leag  #-----> (4) obtained by merging (2) & (3)"
   ]
  },
  {
   "cell_type": "code",
   "execution_count": 50,
   "metadata": {
    "collapsed": false
   },
   "outputs": [
    {
     "data": {
      "text/html": [
       "<table>\n",
       "<thead><tr><th scope=col>player_id</th><th scope=col>player_name</th></tr></thead>\n",
       "<tbody>\n",
       "\t<tr><td>505942            </td><td>Aaron Appindangoye</td></tr>\n",
       "\t<tr><td>155782            </td><td>Aaron Cresswell   </td></tr>\n",
       "\t<tr><td>162549            </td><td>Aaron Doran       </td></tr>\n",
       "\t<tr><td> 30572            </td><td>Aaron Galindo     </td></tr>\n",
       "\t<tr><td> 23780            </td><td>Aaron Hughes      </td></tr>\n",
       "\t<tr><td> 27316            </td><td>Aaron Hunt        </td></tr>\n",
       "</tbody>\n",
       "</table>\n"
      ],
      "text/latex": [
       "\\begin{tabular}{r|ll}\n",
       " player\\_id & player\\_name\\\\\n",
       "\\hline\n",
       "\t 505942             & Aaron Appindangoye\\\\\n",
       "\t 155782             & Aaron Cresswell   \\\\\n",
       "\t 162549             & Aaron Doran       \\\\\n",
       "\t  30572             & Aaron Galindo     \\\\\n",
       "\t  23780             & Aaron Hughes      \\\\\n",
       "\t  27316             & Aaron Hunt        \\\\\n",
       "\\end{tabular}\n"
      ],
      "text/markdown": [
       "\n",
       "player_id | player_name | \n",
       "|---|---|---|---|---|---|\n",
       "| 505942             | Aaron Appindangoye | \n",
       "| 155782             | Aaron Cresswell    | \n",
       "| 162549             | Aaron Doran        | \n",
       "|  30572             | Aaron Galindo      | \n",
       "|  23780             | Aaron Hughes       | \n",
       "|  27316             | Aaron Hunt         | \n",
       "\n",
       "\n"
      ],
      "text/plain": [
       "  player_id player_name       \n",
       "1 505942    Aaron Appindangoye\n",
       "2 155782    Aaron Cresswell   \n",
       "3 162549    Aaron Doran       \n",
       "4  30572    Aaron Galindo     \n",
       "5  23780    Aaron Hughes      \n",
       "6  27316    Aaron Hunt        "
      ]
     },
     "metadata": {},
     "output_type": "display_data"
    }
   ],
   "source": [
    "play_info <- select(player_sqlite, player_id = player_api_id, player_name)\n",
    "head(as.data.frame(play_info))  #player id and player name ----> (5)"
   ]
  },
  {
   "cell_type": "code",
   "execution_count": 51,
   "metadata": {
    "collapsed": false
   },
   "outputs": [],
   "source": [
    "#merging (1) , (4), (5)\n",
    "\n",
    "part_play_info <- play_info %>% left_join(play_gk_ovr, by = \"player_id\") \n",
    "full_player_info <- part_play_info%>% left_join(appear_leag,by=\"player_id\",copy = TRUE)\n"
   ]
  },
  {
   "cell_type": "code",
   "execution_count": 52,
   "metadata": {
    "collapsed": false
   },
   "outputs": [
    {
     "data": {
      "text/html": [
       "<table>\n",
       "<thead><tr><th scope=col>player_id</th><th scope=col>player_name</th><th scope=col>overall_rate</th><th scope=col>gk_rate</th><th scope=col>num_appear</th><th scope=col>leag_num</th></tr></thead>\n",
       "<tbody>\n",
       "\t<tr><td>505942            </td><td>Aaron Appindangoye</td><td>67                </td><td> 43               </td><td>  8               </td><td>1                 </td></tr>\n",
       "\t<tr><td>155782            </td><td>Aaron Cresswell   </td><td>74                </td><td> 51               </td><td> 75               </td><td>1                 </td></tr>\n",
       "\t<tr><td>162549            </td><td>Aaron Doran       </td><td>71                </td><td> 56               </td><td>104               </td><td>1                 </td></tr>\n",
       "\t<tr><td> 30572            </td><td>Aaron Galindo     </td><td>75                </td><td>111               </td><td> 10               </td><td>1                 </td></tr>\n",
       "\t<tr><td> 23780            </td><td>Aaron Hughes      </td><td>78                </td><td>129               </td><td>162               </td><td>1                 </td></tr>\n",
       "\t<tr><td> 27316            </td><td>Aaron Hunt        </td><td>79                </td><td> 60               </td><td>158               </td><td>1                 </td></tr>\n",
       "</tbody>\n",
       "</table>\n"
      ],
      "text/latex": [
       "\\begin{tabular}{r|llllll}\n",
       " player\\_id & player\\_name & overall\\_rate & gk\\_rate & num\\_appear & leag\\_num\\\\\n",
       "\\hline\n",
       "\t 505942             & Aaron Appindangoye & 67                 &  43                &   8                & 1                 \\\\\n",
       "\t 155782             & Aaron Cresswell    & 74                 &  51                &  75                & 1                 \\\\\n",
       "\t 162549             & Aaron Doran        & 71                 &  56                & 104                & 1                 \\\\\n",
       "\t  30572             & Aaron Galindo      & 75                 & 111                &  10                & 1                 \\\\\n",
       "\t  23780             & Aaron Hughes       & 78                 & 129                & 162                & 1                 \\\\\n",
       "\t  27316             & Aaron Hunt         & 79                 &  60                & 158                & 1                 \\\\\n",
       "\\end{tabular}\n"
      ],
      "text/markdown": [
       "\n",
       "player_id | player_name | overall_rate | gk_rate | num_appear | leag_num | \n",
       "|---|---|---|---|---|---|\n",
       "| 505942             | Aaron Appindangoye | 67                 |  43                |   8                | 1                  | \n",
       "| 155782             | Aaron Cresswell    | 74                 |  51                |  75                | 1                  | \n",
       "| 162549             | Aaron Doran        | 71                 |  56                | 104                | 1                  | \n",
       "|  30572             | Aaron Galindo      | 75                 | 111                |  10                | 1                  | \n",
       "|  23780             | Aaron Hughes       | 78                 | 129                | 162                | 1                  | \n",
       "|  27316             | Aaron Hunt         | 79                 |  60                | 158                | 1                  | \n",
       "\n",
       "\n"
      ],
      "text/plain": [
       "  player_id player_name        overall_rate gk_rate num_appear leag_num\n",
       "1 505942    Aaron Appindangoye 67            43       8        1       \n",
       "2 155782    Aaron Cresswell    74            51      75        1       \n",
       "3 162549    Aaron Doran        71            56     104        1       \n",
       "4  30572    Aaron Galindo      75           111      10        1       \n",
       "5  23780    Aaron Hughes       78           129     162        1       \n",
       "6  27316    Aaron Hunt         79            60     158        1       "
      ]
     },
     "metadata": {},
     "output_type": "display_data"
    }
   ],
   "source": [
    "head(as.data.frame(full_player_info))"
   ]
  },
  {
   "cell_type": "code",
   "execution_count": 53,
   "metadata": {
    "collapsed": true
   },
   "outputs": [],
   "source": [
    "full_play_df <- as.data.frame(full_player_info)\n",
    "write.csv(na.omit(full_play_df), file = \"player.csv\",row.names=FALSE, na=\"\")"
   ]
  },
  {
   "cell_type": "markdown",
   "metadata": {},
   "source": [
    "# Creating team.csv"
   ]
  },
  {
   "cell_type": "code",
   "execution_count": 54,
   "metadata": {
    "collapsed": false
   },
   "outputs": [],
   "source": [
    "#obtaining the buildupplay , chance creation and defence as sum of its attributes\n",
    "#by_teamid <- group_by(teamattr_sqlite,team_id)\n",
    "sums_teamattr <- mutate(teamattr_sqlite, buildup_sum = buildUpPlaySpeed + buildUpPlayDribbling + buildUpPlayPassing, chance_sum = chanceCreationPassing + chanceCreationCrossing + chanceCreationShooting, defence_sum = defencePressure + defenceAggression + defenceTeamWidth )\n",
    "by_teamid <- select(sums_teamattr,team_id = team_api_id,buildup_sum,chance_sum,defence_sum) %>% group_by(team_id)  \n"
   ]
  },
  {
   "cell_type": "code",
   "execution_count": 55,
   "metadata": {
    "collapsed": false
   },
   "outputs": [],
   "source": [
    "#use max() function to get highest attribute value to resolve ties\n",
    "new_teamattr <- summarise(by_teamid ,buildup = max(buildup_sum),chance= max(chance_sum), defence = max(defence_sum))\n",
    "new_teamattr <- na.omit(new_teamattr)"
   ]
  },
  {
   "cell_type": "code",
   "execution_count": 56,
   "metadata": {
    "collapsed": false
   },
   "outputs": [
    {
     "data": {
      "text/html": [
       "<table>\n",
       "<thead><tr><th scope=col>team_id</th><th scope=col>buildup</th><th scope=col>chance</th><th scope=col>defence</th></tr></thead>\n",
       "<tbody>\n",
       "\t<tr><td>1601</td><td>139 </td><td>186 </td><td>175 </td></tr>\n",
       "\t<tr><td>1773</td><td>153 </td><td>157 </td><td>137 </td></tr>\n",
       "\t<tr><td>1957</td><td>158 </td><td>163 </td><td>210 </td></tr>\n",
       "\t<tr><td>2033</td><td>147 </td><td>165 </td><td>155 </td></tr>\n",
       "\t<tr><td>2182</td><td>176 </td><td>196 </td><td>160 </td></tr>\n",
       "\t<tr><td>2183</td><td> NA </td><td>180 </td><td>175 </td></tr>\n",
       "\t<tr><td>2186</td><td>125 </td><td>168 </td><td>205 </td></tr>\n",
       "\t<tr><td>4087</td><td>156 </td><td>180 </td><td>165 </td></tr>\n",
       "\t<tr><td>4170</td><td> NA </td><td>165 </td><td>200 </td></tr>\n",
       "\t<tr><td>6269</td><td>179 </td><td>172 </td><td>151 </td></tr>\n",
       "</tbody>\n",
       "</table>\n"
      ],
      "text/latex": [
       "\\begin{tabular}{r|llll}\n",
       " team\\_id & buildup & chance & defence\\\\\n",
       "\\hline\n",
       "\t 1601 & 139  & 186  & 175 \\\\\n",
       "\t 1773 & 153  & 157  & 137 \\\\\n",
       "\t 1957 & 158  & 163  & 210 \\\\\n",
       "\t 2033 & 147  & 165  & 155 \\\\\n",
       "\t 2182 & 176  & 196  & 160 \\\\\n",
       "\t 2183 &  NA  & 180  & 175 \\\\\n",
       "\t 2186 & 125  & 168  & 205 \\\\\n",
       "\t 4087 & 156  & 180  & 165 \\\\\n",
       "\t 4170 &  NA  & 165  & 200 \\\\\n",
       "\t 6269 & 179  & 172  & 151 \\\\\n",
       "\\end{tabular}\n"
      ],
      "text/markdown": [
       "\n",
       "team_id | buildup | chance | defence | \n",
       "|---|---|---|---|---|---|---|---|---|---|\n",
       "| 1601 | 139  | 186  | 175  | \n",
       "| 1773 | 153  | 157  | 137  | \n",
       "| 1957 | 158  | 163  | 210  | \n",
       "| 2033 | 147  | 165  | 155  | \n",
       "| 2182 | 176  | 196  | 160  | \n",
       "| 2183 |  NA  | 180  | 175  | \n",
       "| 2186 | 125  | 168  | 205  | \n",
       "| 4087 | 156  | 180  | 165  | \n",
       "| 4170 |  NA  | 165  | 200  | \n",
       "| 6269 | 179  | 172  | 151  | \n",
       "\n",
       "\n"
      ],
      "text/plain": [
       "   team_id buildup chance defence\n",
       "1  1601    139     186    175    \n",
       "2  1773    153     157    137    \n",
       "3  1957    158     163    210    \n",
       "4  2033    147     165    155    \n",
       "5  2182    176     196    160    \n",
       "6  2183     NA     180    175    \n",
       "7  2186    125     168    205    \n",
       "8  4087    156     180    165    \n",
       "9  4170     NA     165    200    \n",
       "10 6269    179     172    151    "
      ]
     },
     "metadata": {},
     "output_type": "display_data"
    }
   ],
   "source": [
    "head(as.data.frame(new_teamattr),n=10)"
   ]
  },
  {
   "cell_type": "code",
   "execution_count": 57,
   "metadata": {
    "collapsed": true
   },
   "outputs": [],
   "source": [
    "home_goal <- select(match_sqlite,team_id = home_team_api_id, goals = home_team_goal) %>% as.data.frame()\n",
    "away_goal <- select(match_sqlite,team_id = away_team_api_id, goals = away_team_goal) %>% as.data.frame()"
   ]
  },
  {
   "cell_type": "code",
   "execution_count": 58,
   "metadata": {
    "collapsed": false
   },
   "outputs": [
    {
     "data": {
      "text/html": [
       "<table>\n",
       "<thead><tr><th scope=col>team_id</th><th scope=col>goals</th></tr></thead>\n",
       "<tbody>\n",
       "\t<tr><td> 9987</td><td>1    </td></tr>\n",
       "\t<tr><td>10000</td><td>0    </td></tr>\n",
       "\t<tr><td> 9984</td><td>0    </td></tr>\n",
       "\t<tr><td> 9991</td><td>5    </td></tr>\n",
       "\t<tr><td> 7947</td><td>1    </td></tr>\n",
       "\t<tr><td> 8203</td><td>1    </td></tr>\n",
       "</tbody>\n",
       "</table>\n"
      ],
      "text/latex": [
       "\\begin{tabular}{r|ll}\n",
       " team\\_id & goals\\\\\n",
       "\\hline\n",
       "\t  9987 & 1    \\\\\n",
       "\t 10000 & 0    \\\\\n",
       "\t  9984 & 0    \\\\\n",
       "\t  9991 & 5    \\\\\n",
       "\t  7947 & 1    \\\\\n",
       "\t  8203 & 1    \\\\\n",
       "\\end{tabular}\n"
      ],
      "text/markdown": [
       "\n",
       "team_id | goals | \n",
       "|---|---|---|---|---|---|\n",
       "|  9987 | 1     | \n",
       "| 10000 | 0     | \n",
       "|  9984 | 0     | \n",
       "|  9991 | 5     | \n",
       "|  7947 | 1     | \n",
       "|  8203 | 1     | \n",
       "\n",
       "\n"
      ],
      "text/plain": [
       "  team_id goals\n",
       "1  9987   1    \n",
       "2 10000   0    \n",
       "3  9984   0    \n",
       "4  9991   5    \n",
       "5  7947   1    \n",
       "6  8203   1    "
      ]
     },
     "metadata": {},
     "output_type": "display_data"
    }
   ],
   "source": [
    "goals_df <- rbind(home_goal,away_goal)\n",
    "head(goals_df) #goals obtained by considering home_team_goals and away_team_goals\n"
   ]
  },
  {
   "cell_type": "code",
   "execution_count": 59,
   "metadata": {
    "collapsed": false
   },
   "outputs": [
    {
     "data": {
      "text/html": [
       "<table>\n",
       "<thead><tr><th scope=col>team_id</th><th scope=col>goals_total</th></tr></thead>\n",
       "<tbody>\n",
       "\t<tr><td>1601</td><td>280 </td></tr>\n",
       "\t<tr><td>1773</td><td>126 </td></tr>\n",
       "\t<tr><td>1957</td><td>287 </td></tr>\n",
       "\t<tr><td>2033</td><td>138 </td></tr>\n",
       "\t<tr><td>2182</td><td>372 </td></tr>\n",
       "\t<tr><td>2183</td><td>184 </td></tr>\n",
       "</tbody>\n",
       "</table>\n"
      ],
      "text/latex": [
       "\\begin{tabular}{r|ll}\n",
       " team\\_id & goals\\_total\\\\\n",
       "\\hline\n",
       "\t 1601 & 280 \\\\\n",
       "\t 1773 & 126 \\\\\n",
       "\t 1957 & 287 \\\\\n",
       "\t 2033 & 138 \\\\\n",
       "\t 2182 & 372 \\\\\n",
       "\t 2183 & 184 \\\\\n",
       "\\end{tabular}\n"
      ],
      "text/markdown": [
       "\n",
       "team_id | goals_total | \n",
       "|---|---|---|---|---|---|\n",
       "| 1601 | 280  | \n",
       "| 1773 | 126  | \n",
       "| 1957 | 287  | \n",
       "| 2033 | 138  | \n",
       "| 2182 | 372  | \n",
       "| 2183 | 184  | \n",
       "\n",
       "\n"
      ],
      "text/plain": [
       "  team_id goals_total\n",
       "1 1601    280        \n",
       "2 1773    126        \n",
       "3 1957    287        \n",
       "4 2033    138        \n",
       "5 2182    372        \n",
       "6 2183    184        "
      ]
     },
     "metadata": {},
     "output_type": "display_data"
    }
   ],
   "source": [
    "goals_sum <- group_by(goals_df,team_id) %>% summarise(goals_total = sum(goals)) \n",
    "head(goals_sum)"
   ]
  },
  {
   "cell_type": "code",
   "execution_count": 60,
   "metadata": {
    "collapsed": false
   },
   "outputs": [],
   "source": [
    "teamattr_df <- select(new_teamattr,team_id,buildup,chance,defence) %>% as.data.frame()\n",
    "team_df <- select(team_sqlite,team_id = team_api_id,team_name = team_long_name) %>% as.data.frame()\n"
   ]
  },
  {
   "cell_type": "code",
   "execution_count": 61,
   "metadata": {
    "collapsed": false
   },
   "outputs": [],
   "source": [
    "full_team_df <- team_df %>% left_join(teamattr_df, by = \"team_id\") %>% left_join(goals_sum, by= \"team_id\")"
   ]
  },
  {
   "cell_type": "code",
   "execution_count": 63,
   "metadata": {
    "collapsed": true
   },
   "outputs": [],
   "source": [
    "write.csv(full_team_df, file = \"team.csv\",row.names=FALSE, na=\"\")"
   ]
  },
  {
   "cell_type": "code",
   "execution_count": null,
   "metadata": {
    "collapsed": true
   },
   "outputs": [],
   "source": []
  }
 ],
 "metadata": {
  "anaconda-cloud": {},
  "kernelspec": {
   "display_name": "R",
   "language": "R",
   "name": "ir"
  },
  "language_info": {
   "codemirror_mode": "r",
   "file_extension": ".r",
   "mimetype": "text/x-r-source",
   "name": "R",
   "pygments_lexer": "r",
   "version": "3.3.2"
  }
 },
 "nbformat": 4,
 "nbformat_minor": 0
}

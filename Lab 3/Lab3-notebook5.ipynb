{
 "cells": [
  {
   "cell_type": "markdown",
   "metadata": {},
   "source": [
    "# Activity 2 : K-nn classification using credit data"
   ]
  },
  {
   "cell_type": "code",
   "execution_count": 222,
   "metadata": {
    "collapsed": false
   },
   "outputs": [
    {
     "data": {
      "text/html": [
       "<table>\n",
       "<thead><tr><th scope=col>X.</th><th scope=col>Age</th><th scope=col>Sex</th><th scope=col>Job</th><th scope=col>Housing</th><th scope=col>Saving.accounts</th><th scope=col>Checking.account</th><th scope=col>Credit.amount</th><th scope=col>Duration</th><th scope=col>Purpose</th><th scope=col>Credit.Risks</th></tr></thead>\n",
       "<tbody>\n",
       "\t<tr><td>0                  </td><td>67                 </td><td>male               </td><td>2                  </td><td>own                </td><td>NA                 </td><td>little             </td><td>1169               </td><td> 6                 </td><td>radio/TV           </td><td>1                  </td></tr>\n",
       "\t<tr><td>1                  </td><td>22                 </td><td>female             </td><td>2                  </td><td>own                </td><td>little             </td><td>moderate           </td><td>5951               </td><td>48                 </td><td>radio/TV           </td><td>2                  </td></tr>\n",
       "\t<tr><td>2                  </td><td>49                 </td><td>male               </td><td>1                  </td><td>own                </td><td>little             </td><td>NA                 </td><td>2096               </td><td>12                 </td><td>education          </td><td>1                  </td></tr>\n",
       "\t<tr><td>3                  </td><td>45                 </td><td>male               </td><td>2                  </td><td>free               </td><td>little             </td><td>little             </td><td>7882               </td><td>42                 </td><td>furniture/equipment</td><td>1                  </td></tr>\n",
       "\t<tr><td>4                  </td><td>53                 </td><td>male               </td><td>2                  </td><td>free               </td><td>little             </td><td>little             </td><td>4870               </td><td>24                 </td><td>car                </td><td>2                  </td></tr>\n",
       "\t<tr><td>5                  </td><td>35                 </td><td>male               </td><td>1                  </td><td>free               </td><td>NA                 </td><td>NA                 </td><td>9055               </td><td>36                 </td><td>education          </td><td>1                  </td></tr>\n",
       "</tbody>\n",
       "</table>\n"
      ],
      "text/latex": [
       "\\begin{tabular}{r|lllllllllll}\n",
       " X. & Age & Sex & Job & Housing & Saving.accounts & Checking.account & Credit.amount & Duration & Purpose & Credit.Risks\\\\\n",
       "\\hline\n",
       "\t 0                   & 67                  & male                & 2                   & own                 & NA                  & little              & 1169                &  6                  & radio/TV            & 1                  \\\\\n",
       "\t 1                   & 22                  & female              & 2                   & own                 & little              & moderate            & 5951                & 48                  & radio/TV            & 2                  \\\\\n",
       "\t 2                   & 49                  & male                & 1                   & own                 & little              & NA                  & 2096                & 12                  & education           & 1                  \\\\\n",
       "\t 3                   & 45                  & male                & 2                   & free                & little              & little              & 7882                & 42                  & furniture/equipment & 1                  \\\\\n",
       "\t 4                   & 53                  & male                & 2                   & free                & little              & little              & 4870                & 24                  & car                 & 2                  \\\\\n",
       "\t 5                   & 35                  & male                & 1                   & free                & NA                  & NA                  & 9055                & 36                  & education           & 1                  \\\\\n",
       "\\end{tabular}\n"
      ],
      "text/markdown": [
       "\n",
       "X. | Age | Sex | Job | Housing | Saving.accounts | Checking.account | Credit.amount | Duration | Purpose | Credit.Risks | \n",
       "|---|---|---|---|---|---|\n",
       "| 0                   | 67                  | male                | 2                   | own                 | NA                  | little              | 1169                |  6                  | radio/TV            | 1                   | \n",
       "| 1                   | 22                  | female              | 2                   | own                 | little              | moderate            | 5951                | 48                  | radio/TV            | 2                   | \n",
       "| 2                   | 49                  | male                | 1                   | own                 | little              | NA                  | 2096                | 12                  | education           | 1                   | \n",
       "| 3                   | 45                  | male                | 2                   | free                | little              | little              | 7882                | 42                  | furniture/equipment | 1                   | \n",
       "| 4                   | 53                  | male                | 2                   | free                | little              | little              | 4870                | 24                  | car                 | 2                   | \n",
       "| 5                   | 35                  | male                | 1                   | free                | NA                  | NA                  | 9055                | 36                  | education           | 1                   | \n",
       "\n",
       "\n"
      ],
      "text/plain": [
       "  X. Age Sex    Job Housing Saving.accounts Checking.account Credit.amount\n",
       "1 0  67  male   2   own     NA              little           1169         \n",
       "2 1  22  female 2   own     little          moderate         5951         \n",
       "3 2  49  male   1   own     little          NA               2096         \n",
       "4 3  45  male   2   free    little          little           7882         \n",
       "5 4  53  male   2   free    little          little           4870         \n",
       "6 5  35  male   1   free    NA              NA               9055         \n",
       "  Duration Purpose             Credit.Risks\n",
       "1  6       radio/TV            1           \n",
       "2 48       radio/TV            2           \n",
       "3 12       education           1           \n",
       "4 42       furniture/equipment 1           \n",
       "5 24       car                 2           \n",
       "6 36       education           1           "
      ]
     },
     "metadata": {},
     "output_type": "display_data"
    }
   ],
   "source": [
    "data <-read.csv(\"german_credit_data1.csv\",header=T)\n",
    "head(data)\n"
   ]
  },
  {
   "cell_type": "markdown",
   "metadata": {},
   "source": [
    "<p style=\"color:blue\"> <font size='4'>All the columns are converted into numeric values as shown below </font></p>"
   ]
  },
  {
   "cell_type": "code",
   "execution_count": 223,
   "metadata": {
    "collapsed": false
   },
   "outputs": [
    {
     "data": {
      "text/html": [
       "<table>\n",
       "<thead><tr><th></th><th scope=col>X.</th><th scope=col>Age</th><th scope=col>Sex</th><th scope=col>Job</th><th scope=col>Housing</th><th scope=col>Saving.accounts</th><th scope=col>Checking.account</th><th scope=col>Credit.amount</th><th scope=col>Duration</th><th scope=col>Purpose</th><th scope=col>Credit.Risks</th><th scope=col>saving_n_checking</th><th scope=col>saving_n_checking.1</th><th scope=col>saving_n_checking.2</th></tr></thead>\n",
       "<tbody>\n",
       "\t<tr><th scope=row>2</th><td> 1        </td><td>0.2933333 </td><td>0.5       </td><td>0.6666667 </td><td>0.6666667 </td><td>0.25      </td><td>0.6666667 </td><td>0.32300261</td><td>0.6666667 </td><td>0.750     </td><td>2         </td><td>3         </td><td>3         </td><td>3         </td></tr>\n",
       "\t<tr><th scope=row>4</th><td> 3        </td><td>0.6000000 </td><td>1.0       </td><td>0.6666667 </td><td>0.3333333 </td><td>0.25      </td><td>0.3333333 </td><td>0.42781155</td><td>0.5833333 </td><td>0.625     </td><td>1         </td><td>2         </td><td>2         </td><td>2         </td></tr>\n",
       "\t<tr><th scope=row>5</th><td> 4        </td><td>0.7066667 </td><td>1.0       </td><td>0.6666667 </td><td>0.3333333 </td><td>0.25      </td><td>0.3333333 </td><td>0.26432914</td><td>0.3333333 </td><td>0.250     </td><td>2         </td><td>2         </td><td>2         </td><td>2         </td></tr>\n",
       "\t<tr><th scope=row>8</th><td> 7        </td><td>0.4666667 </td><td>1.0       </td><td>1.0000000 </td><td>1.0000000 </td><td>0.25      </td><td>0.6666667 </td><td>0.37711680</td><td>0.5000000 </td><td>0.250     </td><td>1         </td><td>3         </td><td>3         </td><td>3         </td></tr>\n",
       "\t<tr><th scope=row>10</th><td> 9        </td><td>0.3733333 </td><td>1.0       </td><td>1.0000000 </td><td>0.6666667 </td><td>0.25      </td><td>0.6666667 </td><td>0.28408597</td><td>0.4166667 </td><td>0.250     </td><td>2         </td><td>3         </td><td>3         </td><td>3         </td></tr>\n",
       "\t<tr><th scope=row>11</th><td>10        </td><td>0.3333333 </td><td>0.5       </td><td>0.6666667 </td><td>1.0000000 </td><td>0.25      </td><td>0.6666667 </td><td>0.07028875</td><td>0.1666667 </td><td>0.250     </td><td>2         </td><td>3         </td><td>3         </td><td>3         </td></tr>\n",
       "</tbody>\n",
       "</table>\n"
      ],
      "text/latex": [
       "\\begin{tabular}{r|llllllllllllll}\n",
       "  & X. & Age & Sex & Job & Housing & Saving.accounts & Checking.account & Credit.amount & Duration & Purpose & Credit.Risks & saving\\_n\\_checking & saving\\_n\\_checking.1 & saving\\_n\\_checking.2\\\\\n",
       "\\hline\n",
       "\t2 &  1         & 0.2933333  & 0.5        & 0.6666667  & 0.6666667  & 0.25       & 0.6666667  & 0.32300261 & 0.6666667  & 0.750      & 2          & 3          & 3          & 3         \\\\\n",
       "\t4 &  3         & 0.6000000  & 1.0        & 0.6666667  & 0.3333333  & 0.25       & 0.3333333  & 0.42781155 & 0.5833333  & 0.625      & 1          & 2          & 2          & 2         \\\\\n",
       "\t5 &  4         & 0.7066667  & 1.0        & 0.6666667  & 0.3333333  & 0.25       & 0.3333333  & 0.26432914 & 0.3333333  & 0.250      & 2          & 2          & 2          & 2         \\\\\n",
       "\t8 &  7         & 0.4666667  & 1.0        & 1.0000000  & 1.0000000  & 0.25       & 0.6666667  & 0.37711680 & 0.5000000  & 0.250      & 1          & 3          & 3          & 3         \\\\\n",
       "\t10 &  9         & 0.3733333  & 1.0        & 1.0000000  & 0.6666667  & 0.25       & 0.6666667  & 0.28408597 & 0.4166667  & 0.250      & 2          & 3          & 3          & 3         \\\\\n",
       "\t11 & 10         & 0.3333333  & 0.5        & 0.6666667  & 1.0000000  & 0.25       & 0.6666667  & 0.07028875 & 0.1666667  & 0.250      & 2          & 3          & 3          & 3         \\\\\n",
       "\\end{tabular}\n"
      ],
      "text/markdown": [
       "\n",
       "| <!--/--> | X. | Age | Sex | Job | Housing | Saving.accounts | Checking.account | Credit.amount | Duration | Purpose | Credit.Risks | saving_n_checking | saving_n_checking.1 | saving_n_checking.2 | \n",
       "|---|---|---|---|---|---|\n",
       "| 2 |  1         | 0.2933333  | 0.5        | 0.6666667  | 0.6666667  | 0.25       | 0.6666667  | 0.32300261 | 0.6666667  | 0.750      | 2          | 3          | 3          | 3          | \n",
       "| 4 |  3         | 0.6000000  | 1.0        | 0.6666667  | 0.3333333  | 0.25       | 0.3333333  | 0.42781155 | 0.5833333  | 0.625      | 1          | 2          | 2          | 2          | \n",
       "| 5 |  4         | 0.7066667  | 1.0        | 0.6666667  | 0.3333333  | 0.25       | 0.3333333  | 0.26432914 | 0.3333333  | 0.250      | 2          | 2          | 2          | 2          | \n",
       "| 8 |  7         | 0.4666667  | 1.0        | 1.0000000  | 1.0000000  | 0.25       | 0.6666667  | 0.37711680 | 0.5000000  | 0.250      | 1          | 3          | 3          | 3          | \n",
       "| 10 |  9         | 0.3733333  | 1.0        | 1.0000000  | 0.6666667  | 0.25       | 0.6666667  | 0.28408597 | 0.4166667  | 0.250      | 2          | 3          | 3          | 3          | \n",
       "| 11 | 10         | 0.3333333  | 0.5        | 0.6666667  | 1.0000000  | 0.25       | 0.6666667  | 0.07028875 | 0.1666667  | 0.250      | 2          | 3          | 3          | 3          | \n",
       "\n",
       "\n"
      ],
      "text/plain": [
       "   X. Age       Sex Job       Housing   Saving.accounts Checking.account\n",
       "2   1 0.2933333 0.5 0.6666667 0.6666667 0.25            0.6666667       \n",
       "4   3 0.6000000 1.0 0.6666667 0.3333333 0.25            0.3333333       \n",
       "5   4 0.7066667 1.0 0.6666667 0.3333333 0.25            0.3333333       \n",
       "8   7 0.4666667 1.0 1.0000000 1.0000000 0.25            0.6666667       \n",
       "10  9 0.3733333 1.0 1.0000000 0.6666667 0.25            0.6666667       \n",
       "11 10 0.3333333 0.5 0.6666667 1.0000000 0.25            0.6666667       \n",
       "   Credit.amount Duration  Purpose Credit.Risks saving_n_checking\n",
       "2  0.32300261    0.6666667 0.750   2            3                \n",
       "4  0.42781155    0.5833333 0.625   1            2                \n",
       "5  0.26432914    0.3333333 0.250   2            2                \n",
       "8  0.37711680    0.5000000 0.250   1            3                \n",
       "10 0.28408597    0.4166667 0.250   2            3                \n",
       "11 0.07028875    0.1666667 0.250   2            3                \n",
       "   saving_n_checking.1 saving_n_checking.2\n",
       "2  3                   3                  \n",
       "4  2                   2                  \n",
       "5  2                   2                  \n",
       "8  3                   3                  \n",
       "10 3                   3                  \n",
       "11 3                   3                  "
      ]
     },
     "metadata": {},
     "output_type": "display_data"
    }
   ],
   "source": [
    "new_data$Sex <- as.numeric(new_data$Sex)\n",
    "new_data$Housing <- as.numeric(new_data$Housing)\n",
    "new_data$Saving.accounts <- as.numeric(new_data$Saving.accounts)\n",
    "new_data$Checking.account <- as.numeric(new_data$Checking.account)\n",
    "new_data$Purpose <- as.numeric(new_data$Purpose)\n",
    "head(new_data)\n"
   ]
  },
  {
   "cell_type": "markdown",
   "metadata": {},
   "source": [
    "<p style=\"color:blue\"> <font size='4'>All the values in the dataframe are normalized as shown below.</font> </p>"
   ]
  },
  {
   "cell_type": "code",
   "execution_count": 224,
   "metadata": {
    "collapsed": false
   },
   "outputs": [
    {
     "data": {
      "text/html": [
       "<table>\n",
       "<thead><tr><th></th><th scope=col>X.</th><th scope=col>Age</th><th scope=col>Sex</th><th scope=col>Job</th><th scope=col>Housing</th><th scope=col>Saving.accounts</th><th scope=col>Checking.account</th><th scope=col>Credit.amount</th><th scope=col>Duration</th><th scope=col>Purpose</th><th scope=col>Credit.Risks</th><th scope=col>saving_n_checking</th><th scope=col>saving_n_checking.1</th><th scope=col>saving_n_checking.2</th></tr></thead>\n",
       "<tbody>\n",
       "\t<tr><th scope=row>2</th><td> 1        </td><td>0.2933333 </td><td>0.5       </td><td>0.6666667 </td><td>0.6666667 </td><td>0.25      </td><td>0.6666667 </td><td>0.32300261</td><td>0.6666667 </td><td>0.750     </td><td>2         </td><td>3         </td><td>3         </td><td>3         </td></tr>\n",
       "\t<tr><th scope=row>4</th><td> 3        </td><td>0.6000000 </td><td>1.0       </td><td>0.6666667 </td><td>0.3333333 </td><td>0.25      </td><td>0.3333333 </td><td>0.42781155</td><td>0.5833333 </td><td>0.625     </td><td>1         </td><td>2         </td><td>2         </td><td>2         </td></tr>\n",
       "\t<tr><th scope=row>5</th><td> 4        </td><td>0.7066667 </td><td>1.0       </td><td>0.6666667 </td><td>0.3333333 </td><td>0.25      </td><td>0.3333333 </td><td>0.26432914</td><td>0.3333333 </td><td>0.250     </td><td>2         </td><td>2         </td><td>2         </td><td>2         </td></tr>\n",
       "\t<tr><th scope=row>8</th><td> 7        </td><td>0.4666667 </td><td>1.0       </td><td>1.0000000 </td><td>1.0000000 </td><td>0.25      </td><td>0.6666667 </td><td>0.37711680</td><td>0.5000000 </td><td>0.250     </td><td>1         </td><td>3         </td><td>3         </td><td>3         </td></tr>\n",
       "\t<tr><th scope=row>10</th><td> 9        </td><td>0.3733333 </td><td>1.0       </td><td>1.0000000 </td><td>0.6666667 </td><td>0.25      </td><td>0.6666667 </td><td>0.28408597</td><td>0.4166667 </td><td>0.250     </td><td>2         </td><td>3         </td><td>3         </td><td>3         </td></tr>\n",
       "\t<tr><th scope=row>11</th><td>10        </td><td>0.3333333 </td><td>0.5       </td><td>0.6666667 </td><td>1.0000000 </td><td>0.25      </td><td>0.6666667 </td><td>0.07028875</td><td>0.1666667 </td><td>0.250     </td><td>2         </td><td>3         </td><td>3         </td><td>3         </td></tr>\n",
       "</tbody>\n",
       "</table>\n"
      ],
      "text/latex": [
       "\\begin{tabular}{r|llllllllllllll}\n",
       "  & X. & Age & Sex & Job & Housing & Saving.accounts & Checking.account & Credit.amount & Duration & Purpose & Credit.Risks & saving\\_n\\_checking & saving\\_n\\_checking.1 & saving\\_n\\_checking.2\\\\\n",
       "\\hline\n",
       "\t2 &  1         & 0.2933333  & 0.5        & 0.6666667  & 0.6666667  & 0.25       & 0.6666667  & 0.32300261 & 0.6666667  & 0.750      & 2          & 3          & 3          & 3         \\\\\n",
       "\t4 &  3         & 0.6000000  & 1.0        & 0.6666667  & 0.3333333  & 0.25       & 0.3333333  & 0.42781155 & 0.5833333  & 0.625      & 1          & 2          & 2          & 2         \\\\\n",
       "\t5 &  4         & 0.7066667  & 1.0        & 0.6666667  & 0.3333333  & 0.25       & 0.3333333  & 0.26432914 & 0.3333333  & 0.250      & 2          & 2          & 2          & 2         \\\\\n",
       "\t8 &  7         & 0.4666667  & 1.0        & 1.0000000  & 1.0000000  & 0.25       & 0.6666667  & 0.37711680 & 0.5000000  & 0.250      & 1          & 3          & 3          & 3         \\\\\n",
       "\t10 &  9         & 0.3733333  & 1.0        & 1.0000000  & 0.6666667  & 0.25       & 0.6666667  & 0.28408597 & 0.4166667  & 0.250      & 2          & 3          & 3          & 3         \\\\\n",
       "\t11 & 10         & 0.3333333  & 0.5        & 0.6666667  & 1.0000000  & 0.25       & 0.6666667  & 0.07028875 & 0.1666667  & 0.250      & 2          & 3          & 3          & 3         \\\\\n",
       "\\end{tabular}\n"
      ],
      "text/markdown": [
       "\n",
       "| <!--/--> | X. | Age | Sex | Job | Housing | Saving.accounts | Checking.account | Credit.amount | Duration | Purpose | Credit.Risks | saving_n_checking | saving_n_checking.1 | saving_n_checking.2 | \n",
       "|---|---|---|---|---|---|\n",
       "| 2 |  1         | 0.2933333  | 0.5        | 0.6666667  | 0.6666667  | 0.25       | 0.6666667  | 0.32300261 | 0.6666667  | 0.750      | 2          | 3          | 3          | 3          | \n",
       "| 4 |  3         | 0.6000000  | 1.0        | 0.6666667  | 0.3333333  | 0.25       | 0.3333333  | 0.42781155 | 0.5833333  | 0.625      | 1          | 2          | 2          | 2          | \n",
       "| 5 |  4         | 0.7066667  | 1.0        | 0.6666667  | 0.3333333  | 0.25       | 0.3333333  | 0.26432914 | 0.3333333  | 0.250      | 2          | 2          | 2          | 2          | \n",
       "| 8 |  7         | 0.4666667  | 1.0        | 1.0000000  | 1.0000000  | 0.25       | 0.6666667  | 0.37711680 | 0.5000000  | 0.250      | 1          | 3          | 3          | 3          | \n",
       "| 10 |  9         | 0.3733333  | 1.0        | 1.0000000  | 0.6666667  | 0.25       | 0.6666667  | 0.28408597 | 0.4166667  | 0.250      | 2          | 3          | 3          | 3          | \n",
       "| 11 | 10         | 0.3333333  | 0.5        | 0.6666667  | 1.0000000  | 0.25       | 0.6666667  | 0.07028875 | 0.1666667  | 0.250      | 2          | 3          | 3          | 3          | \n",
       "\n",
       "\n"
      ],
      "text/plain": [
       "   X. Age       Sex Job       Housing   Saving.accounts Checking.account\n",
       "2   1 0.2933333 0.5 0.6666667 0.6666667 0.25            0.6666667       \n",
       "4   3 0.6000000 1.0 0.6666667 0.3333333 0.25            0.3333333       \n",
       "5   4 0.7066667 1.0 0.6666667 0.3333333 0.25            0.3333333       \n",
       "8   7 0.4666667 1.0 1.0000000 1.0000000 0.25            0.6666667       \n",
       "10  9 0.3733333 1.0 1.0000000 0.6666667 0.25            0.6666667       \n",
       "11 10 0.3333333 0.5 0.6666667 1.0000000 0.25            0.6666667       \n",
       "   Credit.amount Duration  Purpose Credit.Risks saving_n_checking\n",
       "2  0.32300261    0.6666667 0.750   2            3                \n",
       "4  0.42781155    0.5833333 0.625   1            2                \n",
       "5  0.26432914    0.3333333 0.250   2            2                \n",
       "8  0.37711680    0.5000000 0.250   1            3                \n",
       "10 0.28408597    0.4166667 0.250   2            3                \n",
       "11 0.07028875    0.1666667 0.250   2            3                \n",
       "   saving_n_checking.1 saving_n_checking.2\n",
       "2  3                   3                  \n",
       "4  2                   2                  \n",
       "5  2                   2                  \n",
       "8  3                   3                  \n",
       "10 3                   3                  \n",
       "11 3                   3                  "
      ]
     },
     "metadata": {},
     "output_type": "display_data"
    }
   ],
   "source": [
    "for (i in 2:10){\n",
    "    new_data[,i] <- new_data[,i]/max(new_data[,i])  #normalize the data\n",
    "}\n",
    "head(new_data)"
   ]
  },
  {
   "cell_type": "markdown",
   "metadata": {},
   "source": [
    "## a) K-NN considering Age, Savings+Checking account and Credit.Risks as label"
   ]
  },
  {
   "cell_type": "markdown",
   "metadata": {},
   "source": [
    "<p style=\"color:blue\"><font size='4'> The sizes of training set and testing sets have been taken as 80 and 20 percent respectively </font> </p>"
   ]
  },
  {
   "cell_type": "code",
   "execution_count": 225,
   "metadata": {
    "collapsed": false
   },
   "outputs": [],
   "source": [
    "training_size = 0.8\n",
    "train_samples<-sample(1:nrow(new_data), training_size*nrow(new_data), replace=FALSE)\n",
    "train_set <- subset(new_data[train_samples,],select=c(Age,Sex,Job,Housing,Saving.accounts,Checking.account,Credit.amount,Duration,Purpose))\n",
    "\n",
    "\n",
    "\n",
    "test_samples<-setdiff(1:nrow(new_data),train_samples)\n",
    "test_set<-subset(new_data[test_samples,],select=c(Age,Sex,Job,Housing,Saving.accounts,Checking.account,Credit.amount,Duration,Purpose))\n"
   ]
  },
  {
   "cell_type": "code",
   "execution_count": 226,
   "metadata": {
    "collapsed": false
   },
   "outputs": [
    {
     "data": {
      "text/html": [
       "<table>\n",
       "<thead><tr><th></th><th scope=col>Age</th><th scope=col>Sex</th><th scope=col>Job</th><th scope=col>Housing</th><th scope=col>Saving.accounts</th><th scope=col>Checking.account</th><th scope=col>Credit.amount</th><th scope=col>Duration</th><th scope=col>Purpose</th></tr></thead>\n",
       "<tbody>\n",
       "\t<tr><th scope=row>33</th><td>0.4000000 </td><td>1.0       </td><td>0.6666667 </td><td>0.6666667 </td><td>0.50      </td><td>0.6666667 </td><td>0.31838906</td><td>0.2500000 </td><td>0.250     </td></tr>\n",
       "\t<tr><th scope=row>38</th><td>0.4933333 </td><td>1.0       </td><td>0.6666667 </td><td>0.6666667 </td><td>0.25      </td><td>1.0000000 </td><td>0.11398176</td><td>0.2500000 </td><td>0.750     </td></tr>\n",
       "\t<tr><th scope=row>73</th><td>0.6800000 </td><td>1.0       </td><td>1.0000000 </td><td>0.3333333 </td><td>0.25      </td><td>0.3333333 </td><td>0.06317846</td><td>0.1111111 </td><td>1.000     </td></tr>\n",
       "\t<tr><th scope=row>74</th><td>0.5466667 </td><td>0.5       </td><td>0.3333333 </td><td>0.6666667 </td><td>0.25      </td><td>0.6666667 </td><td>0.32316544</td><td>0.5833333 </td><td>0.125     </td></tr>\n",
       "\t<tr><th scope=row>78</th><td>0.6800000 </td><td>1.0       </td><td>0.6666667 </td><td>0.6666667 </td><td>0.25      </td><td>0.6666667 </td><td>0.25895571</td><td>0.1527778 </td><td>0.750     </td></tr>\n",
       "\t<tr><th scope=row>85</th><td>0.6933333 </td><td>1.0       </td><td>0.3333333 </td><td>0.6666667 </td><td>0.25      </td><td>0.3333333 </td><td>0.12565132</td><td>0.1388889 </td><td>0.750     </td></tr>\n",
       "</tbody>\n",
       "</table>\n"
      ],
      "text/latex": [
       "\\begin{tabular}{r|lllllllll}\n",
       "  & Age & Sex & Job & Housing & Saving.accounts & Checking.account & Credit.amount & Duration & Purpose\\\\\n",
       "\\hline\n",
       "\t33 & 0.4000000  & 1.0        & 0.6666667  & 0.6666667  & 0.50       & 0.6666667  & 0.31838906 & 0.2500000  & 0.250     \\\\\n",
       "\t38 & 0.4933333  & 1.0        & 0.6666667  & 0.6666667  & 0.25       & 1.0000000  & 0.11398176 & 0.2500000  & 0.750     \\\\\n",
       "\t73 & 0.6800000  & 1.0        & 1.0000000  & 0.3333333  & 0.25       & 0.3333333  & 0.06317846 & 0.1111111  & 1.000     \\\\\n",
       "\t74 & 0.5466667  & 0.5        & 0.3333333  & 0.6666667  & 0.25       & 0.6666667  & 0.32316544 & 0.5833333  & 0.125     \\\\\n",
       "\t78 & 0.6800000  & 1.0        & 0.6666667  & 0.6666667  & 0.25       & 0.6666667  & 0.25895571 & 0.1527778  & 0.750     \\\\\n",
       "\t85 & 0.6933333  & 1.0        & 0.3333333  & 0.6666667  & 0.25       & 0.3333333  & 0.12565132 & 0.1388889  & 0.750     \\\\\n",
       "\\end{tabular}\n"
      ],
      "text/markdown": [
       "\n",
       "| <!--/--> | Age | Sex | Job | Housing | Saving.accounts | Checking.account | Credit.amount | Duration | Purpose | \n",
       "|---|---|---|---|---|---|\n",
       "| 33 | 0.4000000  | 1.0        | 0.6666667  | 0.6666667  | 0.50       | 0.6666667  | 0.31838906 | 0.2500000  | 0.250      | \n",
       "| 38 | 0.4933333  | 1.0        | 0.6666667  | 0.6666667  | 0.25       | 1.0000000  | 0.11398176 | 0.2500000  | 0.750      | \n",
       "| 73 | 0.6800000  | 1.0        | 1.0000000  | 0.3333333  | 0.25       | 0.3333333  | 0.06317846 | 0.1111111  | 1.000      | \n",
       "| 74 | 0.5466667  | 0.5        | 0.3333333  | 0.6666667  | 0.25       | 0.6666667  | 0.32316544 | 0.5833333  | 0.125      | \n",
       "| 78 | 0.6800000  | 1.0        | 0.6666667  | 0.6666667  | 0.25       | 0.6666667  | 0.25895571 | 0.1527778  | 0.750      | \n",
       "| 85 | 0.6933333  | 1.0        | 0.3333333  | 0.6666667  | 0.25       | 0.3333333  | 0.12565132 | 0.1388889  | 0.750      | \n",
       "\n",
       "\n"
      ],
      "text/plain": [
       "   Age       Sex Job       Housing   Saving.accounts Checking.account\n",
       "33 0.4000000 1.0 0.6666667 0.6666667 0.50            0.6666667       \n",
       "38 0.4933333 1.0 0.6666667 0.6666667 0.25            1.0000000       \n",
       "73 0.6800000 1.0 1.0000000 0.3333333 0.25            0.3333333       \n",
       "74 0.5466667 0.5 0.3333333 0.6666667 0.25            0.6666667       \n",
       "78 0.6800000 1.0 0.6666667 0.6666667 0.25            0.6666667       \n",
       "85 0.6933333 1.0 0.3333333 0.6666667 0.25            0.3333333       \n",
       "   Credit.amount Duration  Purpose\n",
       "33 0.31838906    0.2500000 0.250  \n",
       "38 0.11398176    0.2500000 0.750  \n",
       "73 0.06317846    0.1111111 1.000  \n",
       "74 0.32316544    0.5833333 0.125  \n",
       "78 0.25895571    0.1527778 0.750  \n",
       "85 0.12565132    0.1388889 0.750  "
      ]
     },
     "metadata": {},
     "output_type": "display_data"
    }
   ],
   "source": [
    "head(test_set)"
   ]
  },
  {
   "cell_type": "code",
   "execution_count": 227,
   "metadata": {
    "collapsed": false
   },
   "outputs": [
    {
     "data": {
      "text/html": [
       "<table>\n",
       "<thead><tr><th></th><th scope=col>Age</th><th scope=col>Sex</th><th scope=col>Job</th><th scope=col>Housing</th><th scope=col>Saving.accounts</th><th scope=col>Checking.account</th><th scope=col>Credit.amount</th><th scope=col>Duration</th><th scope=col>Purpose</th></tr></thead>\n",
       "<tbody>\n",
       "\t<tr><th scope=row>76</th><td>0.8800000 </td><td>1.0       </td><td>1.0000000 </td><td>0.3333333 </td><td>0.25      </td><td>0.3333333 </td><td>0.08282675</td><td>0.16666667</td><td>0.25      </td></tr>\n",
       "\t<tr><th scope=row>458</th><td>0.4666667 </td><td>1.0       </td><td>0.6666667 </td><td>0.3333333 </td><td>0.25      </td><td>0.3333333 </td><td>0.18378202</td><td>0.16666667</td><td>0.25      </td></tr>\n",
       "\t<tr><th scope=row>806</th><td>0.3200000 </td><td>1.0       </td><td>0.6666667 </td><td>0.6666667 </td><td>0.25      </td><td>0.3333333 </td><td>0.50320234</td><td>0.50000000</td><td>0.25      </td></tr>\n",
       "\t<tr><th scope=row>807</th><td>0.3466667 </td><td>1.0       </td><td>0.3333333 </td><td>0.6666667 </td><td>0.25      </td><td>0.6666667 </td><td>0.03202345</td><td>0.08333333</td><td>0.75      </td></tr>\n",
       "\t<tr><th scope=row>815</th><td>0.6133333 </td><td>1.0       </td><td>0.6666667 </td><td>0.3333333 </td><td>0.25      </td><td>0.3333333 </td><td>0.21336300</td><td>0.66666667</td><td>0.25      </td></tr>\n",
       "\t<tr><th scope=row>341</th><td>0.3200000 </td><td>0.5       </td><td>0.6666667 </td><td>0.3333333 </td><td>0.25      </td><td>0.6666667 </td><td>0.31171298</td><td>0.33333333</td><td>0.50      </td></tr>\n",
       "</tbody>\n",
       "</table>\n"
      ],
      "text/latex": [
       "\\begin{tabular}{r|lllllllll}\n",
       "  & Age & Sex & Job & Housing & Saving.accounts & Checking.account & Credit.amount & Duration & Purpose\\\\\n",
       "\\hline\n",
       "\t76 & 0.8800000  & 1.0        & 1.0000000  & 0.3333333  & 0.25       & 0.3333333  & 0.08282675 & 0.16666667 & 0.25      \\\\\n",
       "\t458 & 0.4666667  & 1.0        & 0.6666667  & 0.3333333  & 0.25       & 0.3333333  & 0.18378202 & 0.16666667 & 0.25      \\\\\n",
       "\t806 & 0.3200000  & 1.0        & 0.6666667  & 0.6666667  & 0.25       & 0.3333333  & 0.50320234 & 0.50000000 & 0.25      \\\\\n",
       "\t807 & 0.3466667  & 1.0        & 0.3333333  & 0.6666667  & 0.25       & 0.6666667  & 0.03202345 & 0.08333333 & 0.75      \\\\\n",
       "\t815 & 0.6133333  & 1.0        & 0.6666667  & 0.3333333  & 0.25       & 0.3333333  & 0.21336300 & 0.66666667 & 0.25      \\\\\n",
       "\t341 & 0.3200000  & 0.5        & 0.6666667  & 0.3333333  & 0.25       & 0.6666667  & 0.31171298 & 0.33333333 & 0.50      \\\\\n",
       "\\end{tabular}\n"
      ],
      "text/markdown": [
       "\n",
       "| <!--/--> | Age | Sex | Job | Housing | Saving.accounts | Checking.account | Credit.amount | Duration | Purpose | \n",
       "|---|---|---|---|---|---|\n",
       "| 76 | 0.8800000  | 1.0        | 1.0000000  | 0.3333333  | 0.25       | 0.3333333  | 0.08282675 | 0.16666667 | 0.25       | \n",
       "| 458 | 0.4666667  | 1.0        | 0.6666667  | 0.3333333  | 0.25       | 0.3333333  | 0.18378202 | 0.16666667 | 0.25       | \n",
       "| 806 | 0.3200000  | 1.0        | 0.6666667  | 0.6666667  | 0.25       | 0.3333333  | 0.50320234 | 0.50000000 | 0.25       | \n",
       "| 807 | 0.3466667  | 1.0        | 0.3333333  | 0.6666667  | 0.25       | 0.6666667  | 0.03202345 | 0.08333333 | 0.75       | \n",
       "| 815 | 0.6133333  | 1.0        | 0.6666667  | 0.3333333  | 0.25       | 0.3333333  | 0.21336300 | 0.66666667 | 0.25       | \n",
       "| 341 | 0.3200000  | 0.5        | 0.6666667  | 0.3333333  | 0.25       | 0.6666667  | 0.31171298 | 0.33333333 | 0.50       | \n",
       "\n",
       "\n"
      ],
      "text/plain": [
       "    Age       Sex Job       Housing   Saving.accounts Checking.account\n",
       "76  0.8800000 1.0 1.0000000 0.3333333 0.25            0.3333333       \n",
       "458 0.4666667 1.0 0.6666667 0.3333333 0.25            0.3333333       \n",
       "806 0.3200000 1.0 0.6666667 0.6666667 0.25            0.3333333       \n",
       "807 0.3466667 1.0 0.3333333 0.6666667 0.25            0.6666667       \n",
       "815 0.6133333 1.0 0.6666667 0.3333333 0.25            0.3333333       \n",
       "341 0.3200000 0.5 0.6666667 0.3333333 0.25            0.6666667       \n",
       "    Credit.amount Duration   Purpose\n",
       "76  0.08282675    0.16666667 0.25   \n",
       "458 0.18378202    0.16666667 0.25   \n",
       "806 0.50320234    0.50000000 0.25   \n",
       "807 0.03202345    0.08333333 0.75   \n",
       "815 0.21336300    0.66666667 0.25   \n",
       "341 0.31171298    0.33333333 0.50   "
      ]
     },
     "metadata": {},
     "output_type": "display_data"
    }
   ],
   "source": [
    "head(train_set)"
   ]
  },
  {
   "cell_type": "code",
   "execution_count": 228,
   "metadata": {
    "collapsed": false
   },
   "outputs": [],
   "source": [
    "new_data$Credit.Risks <- factor(new_data$Credit.Risks)\n",
    "train_labels <- new_data$Credit.Risks[train_samples]\n",
    "true_labels <- new_data$Credit.Risks[test_samples]\n",
    "num_test_labels <- nrow(new_data)*(1-training_size)"
   ]
  },
  {
   "cell_type": "code",
   "execution_count": 229,
   "metadata": {
    "collapsed": true
   },
   "outputs": [],
   "source": [
    "result_df <- data.frame(k,misclassification.rate)"
   ]
  },
  {
   "cell_type": "code",
   "execution_count": 230,
   "metadata": {
    "collapsed": false
   },
   "outputs": [
    {
     "name": "stdout",
     "output_type": "stream",
     "text": [
      "[1] 1\n",
      "[1] 0.4022989\n",
      "[1] 2\n",
      "[1] 0.4789272\n",
      "[1] 3\n",
      "[1] 0.3065134\n",
      "[1] 4\n",
      "[1] 0.335249\n",
      "[1] 5\n",
      "[1] 0.3831418\n",
      "[1] 6\n",
      "[1] 0.440613\n",
      "[1] 7\n",
      "[1] 0.3831418\n",
      "[1] 8\n",
      "[1] 0.3831418\n",
      "[1] 9\n",
      "[1] 0.3735632\n",
      "[1] 10\n",
      "[1] 0.3735632\n",
      "[1] 11\n",
      "[1] 0.3927203\n",
      "[1] 12\n",
      "[1] 0.3544061\n",
      "[1] 13\n",
      "[1] 0.3735632\n",
      "[1] 14\n",
      "[1] 0.4022989\n",
      "[1] 15\n",
      "[1] 0.3927203\n",
      "[1] 16\n",
      "[1] 0.3927203\n",
      "[1] 17\n",
      "[1] 0.3735632\n",
      "[1] 18\n",
      "[1] 0.3448276\n",
      "[1] 19\n",
      "[1] 0.3831418\n",
      "[1] 20\n",
      "[1] 0.3544061\n"
     ]
    }
   ],
   "source": [
    "library(class)\n",
    "#compute and print misclassification rate\n",
    "for(k in 1:20) {\n",
    "  print(k)\n",
    "  predict_labels <- knn(train_set,test_set,train_labels,k)\n",
    "  num.incorrect.labels<-sum(predict_labels !=true_labels)\n",
    "  misclassification.rate<-num.incorrect.labels/num_test_labels\n",
    "  print(misclassification.rate)\n",
    "  result_df <- rbind(result_df ,cbind(k,misclassification.rate))\n",
    "}\n",
    "# res_df <- res_df[0,]\n"
   ]
  },
  {
   "cell_type": "code",
   "execution_count": 231,
   "metadata": {
    "collapsed": false
   },
   "outputs": [
    {
     "data": {
      "text/html": [
       "<table>\n",
       "<thead><tr><th scope=col>k</th><th scope=col>misclassification.rate</th></tr></thead>\n",
       "<tbody>\n",
       "\t<tr><td>20       </td><td>0.2873563</td></tr>\n",
       "\t<tr><td> 1       </td><td>0.4022989</td></tr>\n",
       "\t<tr><td> 2       </td><td>0.4789272</td></tr>\n",
       "\t<tr><td> 3       </td><td>0.3065134</td></tr>\n",
       "\t<tr><td> 4       </td><td>0.3352490</td></tr>\n",
       "\t<tr><td> 5       </td><td>0.3831418</td></tr>\n",
       "\t<tr><td> 6       </td><td>0.4406130</td></tr>\n",
       "\t<tr><td> 7       </td><td>0.3831418</td></tr>\n",
       "\t<tr><td> 8       </td><td>0.3831418</td></tr>\n",
       "\t<tr><td> 9       </td><td>0.3735632</td></tr>\n",
       "\t<tr><td>10       </td><td>0.3735632</td></tr>\n",
       "\t<tr><td>11       </td><td>0.3927203</td></tr>\n",
       "\t<tr><td>12       </td><td>0.3544061</td></tr>\n",
       "\t<tr><td>13       </td><td>0.3735632</td></tr>\n",
       "\t<tr><td>14       </td><td>0.4022989</td></tr>\n",
       "\t<tr><td>15       </td><td>0.3927203</td></tr>\n",
       "\t<tr><td>16       </td><td>0.3927203</td></tr>\n",
       "\t<tr><td>17       </td><td>0.3735632</td></tr>\n",
       "\t<tr><td>18       </td><td>0.3448276</td></tr>\n",
       "\t<tr><td>19       </td><td>0.3831418</td></tr>\n",
       "\t<tr><td>20       </td><td>0.3544061</td></tr>\n",
       "</tbody>\n",
       "</table>\n"
      ],
      "text/latex": [
       "\\begin{tabular}{r|ll}\n",
       " k & misclassification.rate\\\\\n",
       "\\hline\n",
       "\t 20        & 0.2873563\\\\\n",
       "\t  1        & 0.4022989\\\\\n",
       "\t  2        & 0.4789272\\\\\n",
       "\t  3        & 0.3065134\\\\\n",
       "\t  4        & 0.3352490\\\\\n",
       "\t  5        & 0.3831418\\\\\n",
       "\t  6        & 0.4406130\\\\\n",
       "\t  7        & 0.3831418\\\\\n",
       "\t  8        & 0.3831418\\\\\n",
       "\t  9        & 0.3735632\\\\\n",
       "\t 10        & 0.3735632\\\\\n",
       "\t 11        & 0.3927203\\\\\n",
       "\t 12        & 0.3544061\\\\\n",
       "\t 13        & 0.3735632\\\\\n",
       "\t 14        & 0.4022989\\\\\n",
       "\t 15        & 0.3927203\\\\\n",
       "\t 16        & 0.3927203\\\\\n",
       "\t 17        & 0.3735632\\\\\n",
       "\t 18        & 0.3448276\\\\\n",
       "\t 19        & 0.3831418\\\\\n",
       "\t 20        & 0.3544061\\\\\n",
       "\\end{tabular}\n"
      ],
      "text/markdown": [
       "\n",
       "k | misclassification.rate | \n",
       "|---|---|---|---|---|---|---|---|---|---|---|---|---|---|---|---|---|---|---|---|---|\n",
       "| 20        | 0.2873563 | \n",
       "|  1        | 0.4022989 | \n",
       "|  2        | 0.4789272 | \n",
       "|  3        | 0.3065134 | \n",
       "|  4        | 0.3352490 | \n",
       "|  5        | 0.3831418 | \n",
       "|  6        | 0.4406130 | \n",
       "|  7        | 0.3831418 | \n",
       "|  8        | 0.3831418 | \n",
       "|  9        | 0.3735632 | \n",
       "| 10        | 0.3735632 | \n",
       "| 11        | 0.3927203 | \n",
       "| 12        | 0.3544061 | \n",
       "| 13        | 0.3735632 | \n",
       "| 14        | 0.4022989 | \n",
       "| 15        | 0.3927203 | \n",
       "| 16        | 0.3927203 | \n",
       "| 17        | 0.3735632 | \n",
       "| 18        | 0.3448276 | \n",
       "| 19        | 0.3831418 | \n",
       "| 20        | 0.3544061 | \n",
       "\n",
       "\n"
      ],
      "text/plain": [
       "   k  misclassification.rate\n",
       "1  20 0.2873563             \n",
       "2   1 0.4022989             \n",
       "3   2 0.4789272             \n",
       "4   3 0.3065134             \n",
       "5   4 0.3352490             \n",
       "6   5 0.3831418             \n",
       "7   6 0.4406130             \n",
       "8   7 0.3831418             \n",
       "9   8 0.3831418             \n",
       "10  9 0.3735632             \n",
       "11 10 0.3735632             \n",
       "12 11 0.3927203             \n",
       "13 12 0.3544061             \n",
       "14 13 0.3735632             \n",
       "15 14 0.4022989             \n",
       "16 15 0.3927203             \n",
       "17 16 0.3927203             \n",
       "18 17 0.3735632             \n",
       "19 18 0.3448276             \n",
       "20 19 0.3831418             \n",
       "21 20 0.3544061             "
      ]
     },
     "metadata": {},
     "output_type": "display_data"
    }
   ],
   "source": [
    "result_df"
   ]
  },
  {
   "cell_type": "markdown",
   "metadata": {},
   "source": [
    "<p style=\"color:blue\"> <font size='4'> Repeating the above for various sizes of training sets and testing sets and choosing various k values. We get the following table. </font></p>"
   ]
  },
  {
   "cell_type": "code",
   "execution_count": 232,
   "metadata": {
    "collapsed": true
   },
   "outputs": [],
   "source": [
    "result_mat <- matrix(nrow=20,ncol=4)"
   ]
  },
  {
   "cell_type": "code",
   "execution_count": 233,
   "metadata": {
    "collapsed": false
   },
   "outputs": [],
   "source": [
    "\n",
    "\n",
    "    for(i in c(60,70,80,90)){\n",
    "            for(k in 1:20){\n",
    "                training_size = i/100\n",
    "                train_samples<-sample(1:nrow(new_data), training_size*nrow(new_data), replace=FALSE)\n",
    "                train_set <- subset(new_data[train_samples,],select=c(Age,Sex,Job,Housing,Saving.accounts,Checking.account,Credit.amount,Duration,Purpose))\n",
    "\n",
    "\n",
    "                test_samples<-setdiff(1:nrow(new_data),train_samples)\n",
    "                test_set<-subset(new_data[test_samples,],select=c(Age,Sex,Job,Housing,Saving.accounts,Checking.account,Credit.amount,Duration,Purpose))\n",
    "\n",
    "                train_labels <- new_data$Credit.Risks[train_samples]\n",
    "                true_labels <- new_data$Credit.Risks[test_samples]\n",
    "                num_test_labels <- nrow(new_data)*(1-training_size)\n",
    "\n",
    "                predict_labels <- knn(train_set,test_set,train_labels,i)\n",
    "                num.incorrect.labels<-sum(predict_labels !=true_labels)\n",
    "                misclassification.rate<-num.incorrect.labels/num_test_labels\n",
    "\n",
    "                \n",
    "                \n",
    "                if(i==60){\n",
    "                \n",
    "                result_mat[k,1] <- misclassification.rate  # i = 60 corresponds to first column\n",
    "            }\n",
    "            else if (i==70){\n",
    "                \n",
    "                result_mat[k,2] <- misclassification.rate  # i = 70 corresponds to second column\n",
    "            }\n",
    "            else if(i==80){\n",
    "                result_mat[k,3] <- misclassification.rate  # i = 80 corresponds to third column\n",
    "            }\n",
    "            else{\n",
    "                result_mat[k,4] <- misclassification.rate  # i = 90 corresponds to fourth column\n",
    "            }\n",
    "                \n",
    "        }\n",
    "        \n",
    "        \n",
    "        \n",
    "        \n",
    "        \n",
    "    \n",
    "}\n"
   ]
  },
  {
   "cell_type": "code",
   "execution_count": 234,
   "metadata": {
    "collapsed": false
   },
   "outputs": [],
   "source": [
    "result_mat[1,1] <- misclassification.rate"
   ]
  },
  {
   "cell_type": "code",
   "execution_count": 235,
   "metadata": {
    "collapsed": false
   },
   "outputs": [],
   "source": [
    "result_mat_df <- as.data.frame(result_mat)"
   ]
  },
  {
   "cell_type": "code",
   "execution_count": 236,
   "metadata": {
    "collapsed": true
   },
   "outputs": [],
   "source": [
    "result_mat_final <- setNames(result_mat_df, c(\"train size = 60%\",\"train size = 70%\",\"train size = 80%\",\"train size = 90%\"))\n"
   ]
  },
  {
   "cell_type": "code",
   "execution_count": 237,
   "metadata": {
    "collapsed": false
   },
   "outputs": [
    {
     "data": {
      "text/html": [
       "<table>\n",
       "<thead><tr><th scope=col>train size = 60%</th><th scope=col>train size = 70%</th><th scope=col>train size = 80%</th><th scope=col>train size = 90%</th></tr></thead>\n",
       "<tbody>\n",
       "\t<tr><td>0.3448276</td><td>0.3703704</td><td>0.2873563</td><td>0.3831418</td></tr>\n",
       "\t<tr><td>0.4406130</td><td>0.3959132</td><td>0.3927203</td><td>0.2873563</td></tr>\n",
       "\t<tr><td>0.3831418</td><td>0.4086845</td><td>0.2681992</td><td>0.3639847</td></tr>\n",
       "\t<tr><td>0.4118774</td><td>0.4150702</td><td>0.2777778</td><td>0.4980843</td></tr>\n",
       "\t<tr><td>0.4022989</td><td>0.4214559</td><td>0.4310345</td><td>0.4022989</td></tr>\n",
       "\t<tr><td>0.3687739</td><td>0.3959132</td><td>0.3639847</td><td>0.3256705</td></tr>\n",
       "\t<tr><td>0.3687739</td><td>0.3703704</td><td>0.3831418</td><td>0.4597701</td></tr>\n",
       "\t<tr><td>0.3783525</td><td>0.4150702</td><td>0.3544061</td><td>0.4597701</td></tr>\n",
       "\t<tr><td>0.3400383</td><td>0.3959132</td><td>0.3160920</td><td>0.4214559</td></tr>\n",
       "\t<tr><td>0.4166667</td><td>0.3959132</td><td>0.3448276</td><td>0.4214559</td></tr>\n",
       "\t<tr><td>0.3304598</td><td>0.3128991</td><td>0.4022989</td><td>0.3639847</td></tr>\n",
       "\t<tr><td>0.3831418</td><td>0.4086845</td><td>0.4118774</td><td>0.3256705</td></tr>\n",
       "\t<tr><td>0.3783525</td><td>0.3512133</td><td>0.2873563</td><td>0.4597701</td></tr>\n",
       "\t<tr><td>0.4406130</td><td>0.3575990</td><td>0.3065134</td><td>0.3256705</td></tr>\n",
       "\t<tr><td>0.3208812</td><td>0.3320562</td><td>0.3544061</td><td>0.3065134</td></tr>\n",
       "\t<tr><td>0.3304598</td><td>0.3001277</td><td>0.3065134</td><td>0.4597701</td></tr>\n",
       "\t<tr><td>0.3160920</td><td>0.3703704</td><td>0.2969349</td><td>0.3448276</td></tr>\n",
       "\t<tr><td>0.3975096</td><td>0.3831418</td><td>0.3831418</td><td>0.4406130</td></tr>\n",
       "\t<tr><td>0.3783525</td><td>0.3639847</td><td>0.3448276</td><td>0.3639847</td></tr>\n",
       "\t<tr><td>0.4214559</td><td>0.3959132</td><td>0.4118774</td><td>0.3448276</td></tr>\n",
       "</tbody>\n",
       "</table>\n"
      ],
      "text/latex": [
       "\\begin{tabular}{r|llll}\n",
       " train size = 60\\% & train size = 70\\% & train size = 80\\% & train size = 90\\%\\\\\n",
       "\\hline\n",
       "\t 0.3448276 & 0.3703704 & 0.2873563 & 0.3831418\\\\\n",
       "\t 0.4406130 & 0.3959132 & 0.3927203 & 0.2873563\\\\\n",
       "\t 0.3831418 & 0.4086845 & 0.2681992 & 0.3639847\\\\\n",
       "\t 0.4118774 & 0.4150702 & 0.2777778 & 0.4980843\\\\\n",
       "\t 0.4022989 & 0.4214559 & 0.4310345 & 0.4022989\\\\\n",
       "\t 0.3687739 & 0.3959132 & 0.3639847 & 0.3256705\\\\\n",
       "\t 0.3687739 & 0.3703704 & 0.3831418 & 0.4597701\\\\\n",
       "\t 0.3783525 & 0.4150702 & 0.3544061 & 0.4597701\\\\\n",
       "\t 0.3400383 & 0.3959132 & 0.3160920 & 0.4214559\\\\\n",
       "\t 0.4166667 & 0.3959132 & 0.3448276 & 0.4214559\\\\\n",
       "\t 0.3304598 & 0.3128991 & 0.4022989 & 0.3639847\\\\\n",
       "\t 0.3831418 & 0.4086845 & 0.4118774 & 0.3256705\\\\\n",
       "\t 0.3783525 & 0.3512133 & 0.2873563 & 0.4597701\\\\\n",
       "\t 0.4406130 & 0.3575990 & 0.3065134 & 0.3256705\\\\\n",
       "\t 0.3208812 & 0.3320562 & 0.3544061 & 0.3065134\\\\\n",
       "\t 0.3304598 & 0.3001277 & 0.3065134 & 0.4597701\\\\\n",
       "\t 0.3160920 & 0.3703704 & 0.2969349 & 0.3448276\\\\\n",
       "\t 0.3975096 & 0.3831418 & 0.3831418 & 0.4406130\\\\\n",
       "\t 0.3783525 & 0.3639847 & 0.3448276 & 0.3639847\\\\\n",
       "\t 0.4214559 & 0.3959132 & 0.4118774 & 0.3448276\\\\\n",
       "\\end{tabular}\n"
      ],
      "text/markdown": [
       "\n",
       "train size = 60% | train size = 70% | train size = 80% | train size = 90% | \n",
       "|---|---|---|---|---|---|---|---|---|---|---|---|---|---|---|---|---|---|---|---|\n",
       "| 0.3448276 | 0.3703704 | 0.2873563 | 0.3831418 | \n",
       "| 0.4406130 | 0.3959132 | 0.3927203 | 0.2873563 | \n",
       "| 0.3831418 | 0.4086845 | 0.2681992 | 0.3639847 | \n",
       "| 0.4118774 | 0.4150702 | 0.2777778 | 0.4980843 | \n",
       "| 0.4022989 | 0.4214559 | 0.4310345 | 0.4022989 | \n",
       "| 0.3687739 | 0.3959132 | 0.3639847 | 0.3256705 | \n",
       "| 0.3687739 | 0.3703704 | 0.3831418 | 0.4597701 | \n",
       "| 0.3783525 | 0.4150702 | 0.3544061 | 0.4597701 | \n",
       "| 0.3400383 | 0.3959132 | 0.3160920 | 0.4214559 | \n",
       "| 0.4166667 | 0.3959132 | 0.3448276 | 0.4214559 | \n",
       "| 0.3304598 | 0.3128991 | 0.4022989 | 0.3639847 | \n",
       "| 0.3831418 | 0.4086845 | 0.4118774 | 0.3256705 | \n",
       "| 0.3783525 | 0.3512133 | 0.2873563 | 0.4597701 | \n",
       "| 0.4406130 | 0.3575990 | 0.3065134 | 0.3256705 | \n",
       "| 0.3208812 | 0.3320562 | 0.3544061 | 0.3065134 | \n",
       "| 0.3304598 | 0.3001277 | 0.3065134 | 0.4597701 | \n",
       "| 0.3160920 | 0.3703704 | 0.2969349 | 0.3448276 | \n",
       "| 0.3975096 | 0.3831418 | 0.3831418 | 0.4406130 | \n",
       "| 0.3783525 | 0.3639847 | 0.3448276 | 0.3639847 | \n",
       "| 0.4214559 | 0.3959132 | 0.4118774 | 0.3448276 | \n",
       "\n",
       "\n"
      ],
      "text/plain": [
       "   train size = 60% train size = 70% train size = 80% train size = 90%\n",
       "1  0.3448276        0.3703704        0.2873563        0.3831418       \n",
       "2  0.4406130        0.3959132        0.3927203        0.2873563       \n",
       "3  0.3831418        0.4086845        0.2681992        0.3639847       \n",
       "4  0.4118774        0.4150702        0.2777778        0.4980843       \n",
       "5  0.4022989        0.4214559        0.4310345        0.4022989       \n",
       "6  0.3687739        0.3959132        0.3639847        0.3256705       \n",
       "7  0.3687739        0.3703704        0.3831418        0.4597701       \n",
       "8  0.3783525        0.4150702        0.3544061        0.4597701       \n",
       "9  0.3400383        0.3959132        0.3160920        0.4214559       \n",
       "10 0.4166667        0.3959132        0.3448276        0.4214559       \n",
       "11 0.3304598        0.3128991        0.4022989        0.3639847       \n",
       "12 0.3831418        0.4086845        0.4118774        0.3256705       \n",
       "13 0.3783525        0.3512133        0.2873563        0.4597701       \n",
       "14 0.4406130        0.3575990        0.3065134        0.3256705       \n",
       "15 0.3208812        0.3320562        0.3544061        0.3065134       \n",
       "16 0.3304598        0.3001277        0.3065134        0.4597701       \n",
       "17 0.3160920        0.3703704        0.2969349        0.3448276       \n",
       "18 0.3975096        0.3831418        0.3831418        0.4406130       \n",
       "19 0.3783525        0.3639847        0.3448276        0.3639847       \n",
       "20 0.4214559        0.3959132        0.4118774        0.3448276       "
      ]
     },
     "metadata": {},
     "output_type": "display_data"
    }
   ],
   "source": [
    "result_mat_final"
   ]
  },
  {
   "cell_type": "code",
   "execution_count": 238,
   "metadata": {
    "collapsed": false
   },
   "outputs": [
    {
     "data": {
      "text/html": [
       "<table>\n",
       "<thead><tr><th scope=col>K values</th><th scope=col>train size = 60%</th><th scope=col>train size = 70%</th><th scope=col>train size = 80%</th><th scope=col>train size = 90%</th></tr></thead>\n",
       "<tbody>\n",
       "\t<tr><td> 1       </td><td>0.3448276</td><td>0.3703704</td><td>0.2873563</td><td>0.3831418</td></tr>\n",
       "\t<tr><td> 2       </td><td>0.4406130</td><td>0.3959132</td><td>0.3927203</td><td>0.2873563</td></tr>\n",
       "\t<tr><td> 3       </td><td>0.3831418</td><td>0.4086845</td><td>0.2681992</td><td>0.3639847</td></tr>\n",
       "\t<tr><td> 4       </td><td>0.4118774</td><td>0.4150702</td><td>0.2777778</td><td>0.4980843</td></tr>\n",
       "\t<tr><td> 5       </td><td>0.4022989</td><td>0.4214559</td><td>0.4310345</td><td>0.4022989</td></tr>\n",
       "\t<tr><td> 6       </td><td>0.3687739</td><td>0.3959132</td><td>0.3639847</td><td>0.3256705</td></tr>\n",
       "\t<tr><td> 7       </td><td>0.3687739</td><td>0.3703704</td><td>0.3831418</td><td>0.4597701</td></tr>\n",
       "\t<tr><td> 8       </td><td>0.3783525</td><td>0.4150702</td><td>0.3544061</td><td>0.4597701</td></tr>\n",
       "\t<tr><td> 9       </td><td>0.3400383</td><td>0.3959132</td><td>0.3160920</td><td>0.4214559</td></tr>\n",
       "\t<tr><td>10       </td><td>0.4166667</td><td>0.3959132</td><td>0.3448276</td><td>0.4214559</td></tr>\n",
       "\t<tr><td>11       </td><td>0.3304598</td><td>0.3128991</td><td>0.4022989</td><td>0.3639847</td></tr>\n",
       "\t<tr><td>12       </td><td>0.3831418</td><td>0.4086845</td><td>0.4118774</td><td>0.3256705</td></tr>\n",
       "\t<tr><td>13       </td><td>0.3783525</td><td>0.3512133</td><td>0.2873563</td><td>0.4597701</td></tr>\n",
       "\t<tr><td>14       </td><td>0.4406130</td><td>0.3575990</td><td>0.3065134</td><td>0.3256705</td></tr>\n",
       "\t<tr><td>15       </td><td>0.3208812</td><td>0.3320562</td><td>0.3544061</td><td>0.3065134</td></tr>\n",
       "\t<tr><td>16       </td><td>0.3304598</td><td>0.3001277</td><td>0.3065134</td><td>0.4597701</td></tr>\n",
       "\t<tr><td>17       </td><td>0.3160920</td><td>0.3703704</td><td>0.2969349</td><td>0.3448276</td></tr>\n",
       "\t<tr><td>18       </td><td>0.3975096</td><td>0.3831418</td><td>0.3831418</td><td>0.4406130</td></tr>\n",
       "\t<tr><td>19       </td><td>0.3783525</td><td>0.3639847</td><td>0.3448276</td><td>0.3639847</td></tr>\n",
       "\t<tr><td>20       </td><td>0.4214559</td><td>0.3959132</td><td>0.4118774</td><td>0.3448276</td></tr>\n",
       "</tbody>\n",
       "</table>\n"
      ],
      "text/latex": [
       "\\begin{tabular}{r|lllll}\n",
       " K values & train size = 60\\% & train size = 70\\% & train size = 80\\% & train size = 90\\%\\\\\n",
       "\\hline\n",
       "\t  1        & 0.3448276 & 0.3703704 & 0.2873563 & 0.3831418\\\\\n",
       "\t  2        & 0.4406130 & 0.3959132 & 0.3927203 & 0.2873563\\\\\n",
       "\t  3        & 0.3831418 & 0.4086845 & 0.2681992 & 0.3639847\\\\\n",
       "\t  4        & 0.4118774 & 0.4150702 & 0.2777778 & 0.4980843\\\\\n",
       "\t  5        & 0.4022989 & 0.4214559 & 0.4310345 & 0.4022989\\\\\n",
       "\t  6        & 0.3687739 & 0.3959132 & 0.3639847 & 0.3256705\\\\\n",
       "\t  7        & 0.3687739 & 0.3703704 & 0.3831418 & 0.4597701\\\\\n",
       "\t  8        & 0.3783525 & 0.4150702 & 0.3544061 & 0.4597701\\\\\n",
       "\t  9        & 0.3400383 & 0.3959132 & 0.3160920 & 0.4214559\\\\\n",
       "\t 10        & 0.4166667 & 0.3959132 & 0.3448276 & 0.4214559\\\\\n",
       "\t 11        & 0.3304598 & 0.3128991 & 0.4022989 & 0.3639847\\\\\n",
       "\t 12        & 0.3831418 & 0.4086845 & 0.4118774 & 0.3256705\\\\\n",
       "\t 13        & 0.3783525 & 0.3512133 & 0.2873563 & 0.4597701\\\\\n",
       "\t 14        & 0.4406130 & 0.3575990 & 0.3065134 & 0.3256705\\\\\n",
       "\t 15        & 0.3208812 & 0.3320562 & 0.3544061 & 0.3065134\\\\\n",
       "\t 16        & 0.3304598 & 0.3001277 & 0.3065134 & 0.4597701\\\\\n",
       "\t 17        & 0.3160920 & 0.3703704 & 0.2969349 & 0.3448276\\\\\n",
       "\t 18        & 0.3975096 & 0.3831418 & 0.3831418 & 0.4406130\\\\\n",
       "\t 19        & 0.3783525 & 0.3639847 & 0.3448276 & 0.3639847\\\\\n",
       "\t 20        & 0.4214559 & 0.3959132 & 0.4118774 & 0.3448276\\\\\n",
       "\\end{tabular}\n"
      ],
      "text/markdown": [
       "\n",
       "K values | train size = 60% | train size = 70% | train size = 80% | train size = 90% | \n",
       "|---|---|---|---|---|---|---|---|---|---|---|---|---|---|---|---|---|---|---|---|\n",
       "|  1        | 0.3448276 | 0.3703704 | 0.2873563 | 0.3831418 | \n",
       "|  2        | 0.4406130 | 0.3959132 | 0.3927203 | 0.2873563 | \n",
       "|  3        | 0.3831418 | 0.4086845 | 0.2681992 | 0.3639847 | \n",
       "|  4        | 0.4118774 | 0.4150702 | 0.2777778 | 0.4980843 | \n",
       "|  5        | 0.4022989 | 0.4214559 | 0.4310345 | 0.4022989 | \n",
       "|  6        | 0.3687739 | 0.3959132 | 0.3639847 | 0.3256705 | \n",
       "|  7        | 0.3687739 | 0.3703704 | 0.3831418 | 0.4597701 | \n",
       "|  8        | 0.3783525 | 0.4150702 | 0.3544061 | 0.4597701 | \n",
       "|  9        | 0.3400383 | 0.3959132 | 0.3160920 | 0.4214559 | \n",
       "| 10        | 0.4166667 | 0.3959132 | 0.3448276 | 0.4214559 | \n",
       "| 11        | 0.3304598 | 0.3128991 | 0.4022989 | 0.3639847 | \n",
       "| 12        | 0.3831418 | 0.4086845 | 0.4118774 | 0.3256705 | \n",
       "| 13        | 0.3783525 | 0.3512133 | 0.2873563 | 0.4597701 | \n",
       "| 14        | 0.4406130 | 0.3575990 | 0.3065134 | 0.3256705 | \n",
       "| 15        | 0.3208812 | 0.3320562 | 0.3544061 | 0.3065134 | \n",
       "| 16        | 0.3304598 | 0.3001277 | 0.3065134 | 0.4597701 | \n",
       "| 17        | 0.3160920 | 0.3703704 | 0.2969349 | 0.3448276 | \n",
       "| 18        | 0.3975096 | 0.3831418 | 0.3831418 | 0.4406130 | \n",
       "| 19        | 0.3783525 | 0.3639847 | 0.3448276 | 0.3639847 | \n",
       "| 20        | 0.4214559 | 0.3959132 | 0.4118774 | 0.3448276 | \n",
       "\n",
       "\n"
      ],
      "text/plain": [
       "   K values train size = 60% train size = 70% train size = 80% train size = 90%\n",
       "1   1       0.3448276        0.3703704        0.2873563        0.3831418       \n",
       "2   2       0.4406130        0.3959132        0.3927203        0.2873563       \n",
       "3   3       0.3831418        0.4086845        0.2681992        0.3639847       \n",
       "4   4       0.4118774        0.4150702        0.2777778        0.4980843       \n",
       "5   5       0.4022989        0.4214559        0.4310345        0.4022989       \n",
       "6   6       0.3687739        0.3959132        0.3639847        0.3256705       \n",
       "7   7       0.3687739        0.3703704        0.3831418        0.4597701       \n",
       "8   8       0.3783525        0.4150702        0.3544061        0.4597701       \n",
       "9   9       0.3400383        0.3959132        0.3160920        0.4214559       \n",
       "10 10       0.4166667        0.3959132        0.3448276        0.4214559       \n",
       "11 11       0.3304598        0.3128991        0.4022989        0.3639847       \n",
       "12 12       0.3831418        0.4086845        0.4118774        0.3256705       \n",
       "13 13       0.3783525        0.3512133        0.2873563        0.4597701       \n",
       "14 14       0.4406130        0.3575990        0.3065134        0.3256705       \n",
       "15 15       0.3208812        0.3320562        0.3544061        0.3065134       \n",
       "16 16       0.3304598        0.3001277        0.3065134        0.4597701       \n",
       "17 17       0.3160920        0.3703704        0.2969349        0.3448276       \n",
       "18 18       0.3975096        0.3831418        0.3831418        0.4406130       \n",
       "19 19       0.3783525        0.3639847        0.3448276        0.3639847       \n",
       "20 20       0.4214559        0.3959132        0.4118774        0.3448276       "
      ]
     },
     "metadata": {},
     "output_type": "display_data"
    }
   ],
   "source": [
    "k_col <- as.data.frame(c(1:20))\n",
    "k_col <- setNames(k_col,\"K values\")\n",
    "print_result <- cbind(k_col,result_mat_final)\n",
    "print_result"
   ]
  },
  {
   "cell_type": "code",
   "execution_count": null,
   "metadata": {
    "collapsed": true
   },
   "outputs": [],
   "source": []
  }
 ],
 "metadata": {
  "anaconda-cloud": {},
  "kernelspec": {
   "display_name": "R",
   "language": "R",
   "name": "ir"
  },
  "language_info": {
   "codemirror_mode": "r",
   "file_extension": ".r",
   "mimetype": "text/x-r-source",
   "name": "R",
   "pygments_lexer": "r",
   "version": "3.3.2"
  }
 },
 "nbformat": 4,
 "nbformat_minor": 0
}
